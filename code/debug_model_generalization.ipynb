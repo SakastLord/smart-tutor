{
 "cells": [
  {
   "cell_type": "markdown",
   "metadata": {},
   "source": [
    "# Debugging Model Generalization\n",
    "Here we will look at what the models are predicting for particular trajectories."
   ]
  },
  {
   "cell_type": "code",
   "execution_count": 1,
   "metadata": {
    "collapsed": true
   },
   "outputs": [],
   "source": [
    "%load_ext autoreload\n",
    "%autoreload 2"
   ]
  },
  {
   "cell_type": "code",
   "execution_count": 2,
   "metadata": {
    "collapsed": true
   },
   "outputs": [],
   "source": [
    "%matplotlib inline\n",
    "import six\n",
    "import dynamics_model_class as dmc\n",
    "import mcts_tests as mc\n",
    "import mcts\n",
    "import numpy as np\n",
    "import scipy as sp\n",
    "from matplotlib.pyplot import *\n",
    "import dataset_utils\n",
    "import tensorflow as tf\n",
    "import tflearn\n",
    "import copy\n",
    "\n",
    "from concept_dependency_graph import ConceptDependencyGraph\n",
    "import data_generator as dg\n",
    "from student import *\n",
    "import simple_mdp as sm"
   ]
  },
  {
   "cell_type": "code",
   "execution_count": 3,
   "metadata": {},
   "outputs": [
    {
     "name": "stdout",
     "output_type": "stream",
     "text": [
      "test2a-w5-n100000-l8-random.pickle\n"
     ]
    }
   ],
   "source": [
    "n_concepts = 5\n",
    "use_student2 = True\n",
    "transition_after = True\n",
    "student2_str = ('2' if use_student2 else '') + ('a' if use_student2 and transition_after else '')\n",
    "learn_prob = 0.5\n",
    "lp_str = '-lp{}'.format(int(learn_prob*100)) if not use_student2 else ''\n",
    "n_students = 100000\n",
    "seqlen = 8\n",
    "filter_mastery = False\n",
    "filter_str = '' if not filter_mastery else '-filtered'\n",
    "policy = 'random'\n",
    "epsilon = 0.3\n",
    "epsilon_str = '{:.2f}'.format(epsilon) if policy == 'egreedy' else ''\n",
    "filename = 'test{}-w{}-n{}-l{}{}-{}{}{}.pickle'.format(student2_str, n_concepts, n_students, seqlen,\n",
    "                                                    lp_str, policy, epsilon_str, filter_str)\n",
    "concept_tree = ConceptDependencyGraph()\n",
    "concept_tree.init_default_tree(n_concepts)\n",
    "if not use_student2:\n",
    "    test_student = Student(n=n_concepts,p_trans_satisfied=learn_prob, p_trans_not_satisfied=0.0, p_get_ex_correct_if_concepts_learned=1.0)\n",
    "else:\n",
    "    test_student = Student2(n_concepts, transition_after=transition_after)\n",
    "six.print_(filename)"
   ]
  },
  {
   "cell_type": "code",
   "execution_count": 4,
   "metadata": {
    "collapsed": true
   },
   "outputs": [],
   "source": [
    "# load data\n",
    "data = dataset_utils.load_data(filename='{}{}'.format(dg.SYN_DATA_DIR, filename))"
   ]
  },
  {
   "cell_type": "code",
   "execution_count": 5,
   "metadata": {},
   "outputs": [
    {
     "name": "stdout",
     "output_type": "stream",
     "text": [
      "Average posttest: 0.421166\n",
      "Average sparse reward: 0.00041\n",
      "Percent of full posttest score: 0.00041\n",
      "Percent of all seen: 0.4283\n",
      "(array([ 0.,  0.,  0.,  0.,  1.]), False, array([ 1.,  0.,  0.,  0.,  0.]), array([1, 0, 0, 0, 0, 0, 0, 0, 0, 0]))\n",
      "(array([ 1.,  0.,  0.,  0.,  0.]), True, array([ 1.,  0.,  0.,  0.,  0.]), array([1, 0, 0, 0, 0, 0, 0, 0, 0, 0]))\n",
      "(array([ 0.,  0.,  0.,  1.,  0.]), False, array([ 1.,  0.,  0.,  0.,  0.]), array([1, 0, 0, 0, 0, 1, 0, 0, 0, 0]))\n",
      "(array([ 1.,  0.,  0.,  0.,  0.]), True, array([ 1.,  0.,  0.,  0.,  0.]), array([1, 0, 0, 0, 0, 1, 0, 0, 0, 0]))\n",
      "(array([ 0.,  0.,  0.,  1.,  0.]), False, array([ 1.,  0.,  0.,  0.,  0.]), array([1, 0, 0, 0, 0, 1, 0, 0, 0, 0]))\n",
      "(array([ 1.,  0.,  0.,  0.,  0.]), True, array([ 1.,  0.,  0.,  0.,  0.]), array([1, 0, 0, 0, 0, 1, 0, 0, 0, 0]))\n",
      "(array([ 1.,  0.,  0.,  0.,  0.]), True, array([ 1.,  0.,  0.,  0.,  0.]), array([1, 0, 0, 0, 0, 1, 0, 0, 0, 0]))\n",
      "(array([ 0.,  0.,  0.,  0.,  1.]), False, array([ 1.,  0.,  0.,  0.,  0.]), array([1, 0, 0, 0, 0, 1, 0, 0, 0, 0]))\n",
      "41\n",
      "[4780, 5417, 6024, 6256, 9118, 12969, 18995, 21367, 23463, 25453, 28569, 31912, 31915, 32902, 35616, 36467, 40666, 46830, 47157, 48906, 50004, 50699, 57383, 58572, 60483, 61000, 61135, 63013, 64053, 65263, 69344, 71353, 76925, 79758, 82176, 82248, 82473, 84056, 89488, 93979, 99594]\n"
     ]
    }
   ],
   "source": [
    "print('Average posttest: {}'.format(sm.expected_reward(data)))\n",
    "print('Average sparse reward: {}'.format(sm.expected_sparse_reward(data)))\n",
    "print('Percent of full posttest score: {}'.format(sm.percent_complete(data)))\n",
    "print('Percent of all seen: {}'.format(sm.percent_all_seen(data)))\n",
    "for t in data[0]:\n",
    "    six.print_(t)\n",
    "# find trajectories that end with everything learned\n",
    "all_learned = []\n",
    "for ix, traj in enumerate(data):\n",
    "    last_knowledge = traj[-1][2]\n",
    "    if np.sum(last_knowledge) > n_concepts - 0.5:\n",
    "        all_learned.append(ix)\n",
    "six.print_(len(all_learned))\n",
    "six.print_(all_learned)"
   ]
  },
  {
   "cell_type": "code",
   "execution_count": 6,
   "metadata": {},
   "outputs": [
    {
     "name": "stdout",
     "output_type": "stream",
     "text": [
      "(100000, 7, 10)\n",
      "(100000, 7, 5)\n",
      "(100000, 7, 5)\n",
      "[[ 0.  0.  0.  0.  0.  0.  0.  0.  0.  1.]\n",
      " [ 1.  0.  0.  0.  0.  0.  0.  0.  0.  0.]\n",
      " [ 0.  0.  0.  0.  0.  0.  0.  0.  1.  0.]\n",
      " [ 1.  0.  0.  0.  0.  0.  0.  0.  0.  0.]\n",
      " [ 0.  0.  0.  0.  0.  0.  0.  0.  1.  0.]\n",
      " [ 1.  0.  0.  0.  0.  0.  0.  0.  0.  0.]\n",
      " [ 1.  0.  0.  0.  0.  0.  0.  0.  0.  0.]]\n",
      "[[ 1.  0.  0.  0.  0.]\n",
      " [ 0.  0.  0.  1.  0.]\n",
      " [ 1.  0.  0.  0.  0.]\n",
      " [ 0.  0.  0.  1.  0.]\n",
      " [ 1.  0.  0.  0.  0.]\n",
      " [ 1.  0.  0.  0.  0.]\n",
      " [ 0.  0.  0.  0.  1.]]\n",
      "[[ 1.  0.  0.  0.  0.]\n",
      " [ 0.  0.  0.  0.  0.]\n",
      " [ 1.  0.  0.  0.  0.]\n",
      " [ 0.  0.  0.  0.  0.]\n",
      " [ 1.  0.  0.  0.  0.]\n",
      " [ 1.  0.  0.  0.  0.]\n",
      " [ 0.  0.  0.  0.  0.]]\n"
     ]
    }
   ],
   "source": [
    "input_data_, output_mask_, target_data_ = dataset_utils.preprocess_data_for_rnn(data)\n",
    "train_data = (input_data_[:,:,:], output_mask_[:,:,:], target_data_[:,:,:])\n",
    "six.print_(input_data_.shape)\n",
    "six.print_(output_mask_.shape)\n",
    "six.print_(target_data_.shape)\n",
    "six.print_(input_data_[0,:,:])\n",
    "six.print_(output_mask_[0,:,:])\n",
    "six.print_(target_data_[0,:,:])"
   ]
  },
  {
   "cell_type": "code",
   "execution_count": 7,
   "metadata": {},
   "outputs": [
    {
     "name": "stdout",
     "output_type": "stream",
     "text": [
      "vloss shape (50, 11)\n",
      "scores shape (50,)\n",
      " 0: AUC 0.0024 score 1.00\n",
      " 1: AUC 0.0025 score 1.00\n",
      " 2: AUC 0.0016 score 1.00\n",
      " 3: AUC 0.0017 score 1.00\n",
      " 4: AUC 0.0012 score 1.00\n",
      " 5: AUC 0.0018 score 1.00\n",
      " 6: AUC 0.0018 score 0.00\n",
      " 7: AUC 0.0021 score 0.25\n",
      " 8: AUC 0.0021 score 1.00\n",
      " 9: AUC 0.0028 score 1.00\n",
      "10: AUC 0.0023 score 0.00\n",
      "11: AUC 0.0012 score 1.00\n",
      "12: AUC 0.0017 score 1.00\n",
      "13: AUC 0.0021 score 0.00\n",
      "14: AUC 0.0022 score 1.00\n",
      "15: AUC 0.0028 score 0.00\n",
      "16: AUC 0.0024 score 1.00\n",
      "17: AUC 0.0017 score 1.00\n",
      "18: AUC 0.0021 score 0.00\n",
      "19: AUC 0.0025 score 0.00\n",
      "20: AUC 0.0145 score 0.75\n",
      "21: AUC 0.0102 score 0.00\n",
      "22: AUC 0.0099 score 0.00\n",
      "23: AUC 0.0135 score 0.00\n",
      "24: AUC 0.0114 score 0.00\n",
      "25: AUC 0.0085 score 1.00\n",
      "26: AUC 0.0102 score 0.00\n",
      "27: AUC 0.0100 score 0.00\n",
      "28: AUC 0.0106 score 0.00\n",
      "29: AUC 0.0124 score 1.00\n",
      "30: AUC 0.0120 score 0.00\n",
      "31: AUC 0.0134 score 1.00\n",
      "32: AUC 0.0137 score 1.00\n",
      "33: AUC 0.0134 score 0.00\n",
      "34: AUC 0.0116 score 0.00\n",
      "35: AUC 0.0100 score 0.00\n",
      "36: AUC 0.0119 score 0.00\n",
      "37: AUC 0.0102 score 1.00\n",
      "38: AUC 0.0102 score 0.00\n",
      "39: AUC 0.0110 score 0.00\n",
      "40: AUC 0.0108 score 0.00\n",
      "41: AUC 0.0102 score 0.00\n",
      "42: AUC 0.0076 score 0.00\n",
      "43: AUC 0.0102 score 1.00\n",
      "44: AUC 0.0101 score 0.00\n",
      "45: AUC 0.0094 score 0.00\n",
      "46: AUC 0.0087 score 1.00\n",
      "47: AUC 0.0106 score 0.12\n",
      "48: AUC 0.0108 score 0.00\n",
      "49: AUC 0.0096 score 1.00\n"
     ]
    },
    {
     "data": {
      "text/plain": [
       "[<matplotlib.lines.Line2D at 0x7f88cb6ef410>]"
      ]
     },
     "execution_count": 7,
     "metadata": {},
     "output_type": "execute_result"
    },
    {
     "data": {
      "image/png": "[encoded data removed]",
      "text/plain": [
       "<matplotlib.figure.Figure at 0x7f88d80f2d50>"
      ]
     },
     "metadata": {},
     "output_type": "display_data"
    }
   ],
   "source": [
    "'''\n",
    "Analyzing results of student2 with 5 skills, with training length 7 and testing length 8.\n",
    "Single LSTM\n",
    "'''\n",
    "data11 = np.load('experiments/test2w5_modelsimple_mid-dropout10-shuffle1-data-test2a-w5-n100000-l7-random.pickle/stats-runB.npz')\n",
    "data12 = np.load('experiments/test2w5_modelsimple_mid-dropout10-shuffle1-data-test2a-w5-n100000-l7-random.pickle/stats-runC.npz')\n",
    "data21 = np.load('experiments/test2w5_modelsimple_mid-dropout10-shuffle1-data-test2a-w5-n100000-l7-random.pickle/mcts-rtype2-rollouts20000-trajectories8-real1-runB.npz')\n",
    "data22 = np.load('experiments/test2w5_modelsimple_mid-dropout10-shuffle1-data-test2a-w5-n100000-l7-random.pickle/mcts-rtype2-rollouts20000-trajectories8-real1-runC.npz')\n",
    "\n",
    "vloss = np.vstack((data11['vloss'],data12['vloss']))\n",
    "scores = np.vstack((data21['scores'],data22['scores']))[:,0]\n",
    "#qvals = np.vstack((data21['qvals'],data22['qvals']))[:,0]\n",
    "\n",
    "six.print_('vloss shape {}'.format(vloss.shape))\n",
    "six.print_('scores shape {}'.format(scores.shape))\n",
    "for i in six.moves.range(scores.shape[0]):\n",
    "    six.print_('{:2d}: AUC {:.4f} score {:.2f}'.format(i, np.sum(vloss[i,:]), scores[i]))\n",
    "\n",
    "plot(np.sum(vloss,axis=1), scores, '.')\n",
    "# from the own qvalues, it seems like as a general rule (though not absolute), larger qvals at the end correspond to better policy-models\n",
    "# 21 / 50"
   ]
  },
  {
   "cell_type": "code",
   "execution_count": 9,
   "metadata": {},
   "outputs": [
    {
     "name": "stdout",
     "output_type": "stream",
     "text": [
      "Loading RNN dynamics model...\n",
      "Directory path for tensorboard summaries: ../tensorboard_logs/test2w5_modelsimple_mid/\n",
      "Checkpoint directory path: ../checkpoints/test2w5_modelsimple_mid/\n",
      "Model loaded.\n",
      "INFO:tensorflow:Restoring parameters from /usr0/home/zguo/Documents/smart-tutor/code/experiments/test2w5_modelsimple_mid-dropout10-shuffle1-data-test2a-w5-n100000-l7-random.pickle/checkpoint-runB6-epoch10\n"
     ]
    }
   ],
   "source": [
    "dmodel = dmc.DynamicsModel(model_id='test2w5_modelsimple_mid', timesteps=seqlen+2, dropout=1.0, load_checkpoint=False)\n",
    "dmodel.load('experiments/test2w5_modelsimple_mid-dropout10-shuffle1-data-test2a-w5-n100000-l7-random.pickle/checkpoint-runB6-epoch10')"
   ]
  },
  {
   "cell_type": "code",
   "execution_count": 11,
   "metadata": {},
   "outputs": [
    {
     "name": "stdout",
     "output_type": "stream",
     "text": [
      "Step 1\n",
      "State             [      1      0      0      0      0      0      0      0      0      0]\n",
      "Action:           [      0      1      0      0      0]\n",
      "Correct? False\n",
      "Knowledge After:  [      1      0      0      0      0]\n",
      "Model Prediction: [   1.00   0.00   0.00   0.00   0.00]\n",
      "\n",
      "Step 2\n",
      "State             [      1      0      0      0      0      0      1      0      0      0]\n",
      "Action:           [      0      0      1      0      0]\n",
      "Correct? False\n",
      "Knowledge After:  [      1      0      0      0      0]\n",
      "Model Prediction: [   1.00   0.00   0.00   0.00   0.00]\n",
      "\n",
      "Step 3\n",
      "State             [      1      0      0      0      0      0      1      1      0      0]\n",
      "Action:           [      0      1      0      0      0]\n",
      "Correct? False\n",
      "Knowledge After:  [      1      1      0      0      0]\n",
      "Model Prediction: [   1.00   1.00   0.00   0.00   0.00]\n",
      "\n",
      "Step 4\n",
      "State             [      1      1      0      0      0      0      1      1      0      0]\n",
      "Action:           [      0      0      0      0      1]\n",
      "Correct? False\n",
      "Knowledge After:  [      1      1      0      0      0]\n",
      "Model Prediction: [   1.00   1.00   0.00   0.00   0.00]\n",
      "\n",
      "Step 5\n",
      "State             [      1      1      0      0      0      0      1      1      0      1]\n",
      "Action:           [      0      0      0      0      1]\n",
      "Correct? False\n",
      "Knowledge After:  [      1      1      0      0      1]\n",
      "Model Prediction: [   1.00   1.00   0.00   0.00   0.99]\n",
      "\n",
      "Step 6\n",
      "State             [      1      1      0      0      1      0      1      1      0      1]\n",
      "Action:           [      0      0      0      1      0]\n",
      "Correct? False\n",
      "Knowledge After:  [      1      1      0      0      1]\n",
      "Model Prediction: [   1.00   0.99   0.00   0.00   0.99]\n",
      "\n",
      "Step 7\n",
      "State             [      1      1      0      0      1      0      1      1      1      1]\n",
      "Action:           [      0      0      0      1      0]\n",
      "Correct? False\n",
      "Knowledge After:  [      1      1      0      1      1]\n",
      "Model Prediction: [   1.00   0.08   0.00   0.52   0.77]\n",
      "\n",
      "-- Step 8 ----------------------------------------------------------\n",
      "Action:           [      1      0      0      0      0]\n",
      "Correct? 1.0\n",
      "Model Prediction: [   1.00   0.00   0.00   0.00   0.00]\n",
      "\n",
      "Action:           [      0      1      0      0      0]\n",
      "Correct? 1.0\n",
      "Model Prediction: [   1.00   0.29   0.00   0.07   0.20]\n",
      "\n",
      "Action:           [      0      0      1      0      0]\n",
      "Correct? 0.0\n",
      "Model Prediction: [   1.00   0.00   0.00   0.00   0.00]\n",
      "\n",
      "Action:           [      0      0      0      1      0]\n",
      "Correct? 1.0\n",
      "Model Prediction: [   1.00   0.03   0.00   0.87   0.13]\n",
      "\n",
      "Action:           [      0      0      0      0      1]\n",
      "Correct? 1.0\n",
      "Model Prediction: [   1.00   0.08   0.00   0.00   0.79]\n",
      "\n"
     ]
    }
   ],
   "source": [
    "# predict a bit\n",
    "dataix = all_learned[1]\n",
    "test_input_data = input_data_[dataix:dataix+1,:,:]\n",
    "prediction = dmodel.predict(test_input_data)[0,:,:]\n",
    "\n",
    "# print out the predictions after every step\n",
    "curr_data = data[dataix]\n",
    "for t in six.moves.range(7):\n",
    "    six.print_('Step {}'.format(t+1))\n",
    "    six.print_('State             [{}]'.format(''.join('{:7d}'.format(int(x)) for x in curr_data[t][3])))\n",
    "    six.print_('Action:           [{}]'.format(''.join('{:7d}'.format(int(x)) for x in curr_data[t][0])))\n",
    "    six.print_('Correct? {}'.format(curr_data[t][1]))\n",
    "    six.print_('Knowledge After:  [{}]'.format(''.join('{:7d}'.format(int(x)) for x in curr_data[t][2])))\n",
    "    six.print_('Model Prediction: [{}]'.format(''.join('{:7.2f}'.format(x) for x in prediction[t,:])))\n",
    "    six.print_()\n",
    "\n",
    "six.print_('-- Step 8 ----------------------------------------------------------')\n",
    "\n",
    "# add one observation of each action and see what the predictions turn into\n",
    "for nexta in six.moves.range(n_concepts):\n",
    "    actvec = np.zeros((n_concepts,),dtype=np.int)\n",
    "    actvec[nexta] = 1\n",
    "    obvec = np.zeros((n_concepts*2,))\n",
    "    if data[dataix][6][2][nexta] == 1:\n",
    "        obvec[nexta] = 1.0\n",
    "    else:\n",
    "        obvec[nexta + 5] = 1.0\n",
    "    six.print_('Action:           [{}]'.format(''.join('{:7d}'.format(int(x)) for x in actvec)))\n",
    "    six.print_('Correct? {}'.format(data[dataix][6][2][nexta]))\n",
    "    #six.print_('Observation:      [{}]'.format(''.join('{:7d}'.format(int(x)) for x in obvec)))\n",
    "    test_input_data2 = np.vstack((test_input_data[0,:,:],obvec[np.newaxis,:]))\n",
    "    prediction = dmodel.predict(test_input_data2[np.newaxis,:,:])\n",
    "    six.print_('Model Prediction: [{}]'.format(''.join('{:7.2f}'.format(x) for x in prediction[0,7,:])))\n",
    "    six.print_()\n",
    "# observations\n",
    "# sometimes, even though a skill is tested twice, the model doesn't believe it is learned\n",
    "# also if the actions are temporally separated, it seems like the model isn't properly remembering what it has done before\n",
    "# seems like skill 3 is hard to learn properly\n",
    "# also there is still forgetting behavior being learned where testing one problem can reduce the probability of getting another one correct\n",
    "# so it really looks like the central issue is forgetting, and nonindependence\n",
    "# is this caused by overfitting?\n",
    "# maybe need to enlarge the minibatch size by a lot"
   ]
  },
  {
   "cell_type": "code",
   "execution_count": null,
   "metadata": {
    "collapsed": true
   },
   "outputs": [],
   "source": []
  }
 ],
 "metadata": {
  "kernelspec": {
   "display_name": "Python 2",
   "language": "python",
   "name": "python2"
  },
  "language_info": {
   "codemirror_mode": {
    "name": "ipython",
    "version": 2
   },
   "file_extension": ".py",
   "mimetype": "text/x-python",
   "name": "python",
   "nbconvert_exporter": "python",
   "pygments_lexer": "ipython2",
   "version": "2.7.6"
  }
 },
 "nbformat": 4,
 "nbformat_minor": 2
}
