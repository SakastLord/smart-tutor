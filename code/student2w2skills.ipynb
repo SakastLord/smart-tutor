{
 "cells": [
  {
   "cell_type": "code",
   "execution_count": 2,
   "metadata": {
    "collapsed": true
   },
   "outputs": [],
   "source": [
    "%load_ext autoreload\n",
    "%autoreload 2\n",
    "%matplotlib inline\n",
    "\n",
    "import numpy as np\n",
    "import scipy as sp\n",
    "import six\n",
    "from matplotlib.pyplot import *"
   ]
  },
  {
   "cell_type": "code",
   "execution_count": 4,
   "metadata": {},
   "outputs": [],
   "source": [
    "'''\n",
    "Analyzing results of student2 with 2 skills, with training length 2 and testing length 2.\n",
    "'''\n",
    "data11 = np.load('experiments/test2_model2_tiny-dropout10-shuffle0-data-test2-n10000-l2-random.pickle/stats-runA.npz')\n",
    "\n",
    "vloss = data11['vloss']\n",
    "#scores = data21['scores'][:,0]\n",
    "#initialq = data51['qvals'][:,0]\n",
    "#opts = data61['opts']\n",
    "#qfuncs = data61['qs'][:,0,:,:]"
   ]
  },
  {
   "cell_type": "code",
   "execution_count": 31,
   "metadata": {},
   "outputs": [
    {
     "name": "stdout",
     "output_type": "stream",
     "text": [
      "(20, 61)\n",
      "last 0.0138195903888 threshold 0.01389\n"
     ]
    },
    {
     "data": {
      "text/plain": [
       "(0.013, 0.015)"
      ]
     },
     "execution_count": 31,
     "metadata": {},
     "output_type": "execute_result"
    },
    {
     "data": {
      "image/png": "[encoded data removed]",
      "text/plain": [
       "<matplotlib.figure.Figure at 0x7f7775c68c10>"
      ]
     },
     "metadata": {},
     "output_type": "display_data"
    }
   ],
   "source": [
    "six.print_(vloss.shape)\n",
    "figure()\n",
    "x_avg = np.mean(vloss,axis=0)\n",
    "x_serr = np.std(vloss,axis=0) / vloss.shape[0] * 1.98\n",
    "plot(x_avg, color='#0000ff')\n",
    "plot(x_avg + x_serr, color='#ddddff')\n",
    "plot(x_avg - x_serr, color='#ddddff')\n",
    "\n",
    "x_end = np.mean(x_avg[-2:])\n",
    "x_thres = 0.013890\n",
    "six.print_('last {} threshold {}'.format(x_end, x_thres))\n",
    "plot([0,60],[x_end,x_end],color='#ff0000')\n",
    "plot([0,60],[x_thres,x_thres],color='#ff0000')\n",
    "\n",
    "xlim(50,60)\n",
    "ylim(0.013,0.015)\n",
    "\n",
    "# looks like epoch 54 is good"
   ]
  },
  {
   "cell_type": "code",
   "execution_count": null,
   "metadata": {
    "collapsed": true
   },
   "outputs": [],
   "source": []
  }
 ],
 "metadata": {
  "kernelspec": {
   "display_name": "Python 2",
   "language": "python",
   "name": "python2"
  },
  "language_info": {
   "codemirror_mode": {
    "name": "ipython",
    "version": 2
   },
   "file_extension": ".py",
   "mimetype": "text/x-python",
   "name": "python",
   "nbconvert_exporter": "python",
   "pygments_lexer": "ipython2",
   "version": "2.7.6"
  }
 },
 "nbformat": 4,
 "nbformat_minor": 2
}
