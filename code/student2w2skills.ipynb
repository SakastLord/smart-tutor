{
 "cells": [
  {
   "cell_type": "code",
   "execution_count": 1,
   "metadata": {
    "collapsed": true
   },
   "outputs": [],
   "source": [
    "%load_ext autoreload\n",
    "%autoreload 2\n",
    "%matplotlib inline\n",
    "\n",
    "import numpy as np\n",
    "import scipy as sp\n",
    "import six\n",
    "from matplotlib.pyplot import *"
   ]
  },
  {
   "cell_type": "code",
   "execution_count": 14,
   "metadata": {
    "collapsed": true
   },
   "outputs": [],
   "source": [
    "'''\n",
    "Analyzing results of student2 with 2 skills, with training length 2 and testing length 2.\n",
    "'''\n",
    "data11 = np.load('experiments/test2_model2_tiny-dropout10-shuffle0-data-test2-n10000-l2-random.pickle/stats-runA.npz')\n",
    "\n",
    "vloss = data11['vloss']\n",
    "#scores = data21['scores'][:,0]\n",
    "#initialq = data51['qvals'][:,0]\n",
    "#opts = data61['opts']\n",
    "#qfuncs = data61['qs'][:,0,:,:]"
   ]
  },
  {
   "cell_type": "code",
   "execution_count": 20,
   "metadata": {},
   "outputs": [
    {
     "name": "stdout",
     "output_type": "stream",
     "text": [
      "(50, 55)\n",
      "last 0.0138820153256 threshold 0.0148\n"
     ]
    },
    {
     "data": {
      "text/plain": [
       "(0.013, 0.015)"
      ]
     },
     "execution_count": 20,
     "metadata": {},
     "output_type": "execute_result"
    },
    {
     "data": {
      "image/png": "[encoded data removed]",
      "text/plain": [
       "<matplotlib.figure.Figure at 0x7faa756c5310>"
      ]
     },
     "metadata": {},
     "output_type": "display_data"
    }
   ],
   "source": [
    "six.print_(vloss.shape)\n",
    "figure()\n",
    "x_avg = np.mean(vloss,axis=0)\n",
    "x_serr = np.std(vloss,axis=0) / vloss.shape[0] * 1.98\n",
    "plot(x_avg, color='#0000ff')\n",
    "plot(x_avg + x_serr, color='#ddddff')\n",
    "plot(x_avg - x_serr, color='#ddddff')\n",
    "\n",
    "x_end = np.mean(x_avg[-2:])\n",
    "x_thres = 0.0148\n",
    "six.print_('last {} threshold {}'.format(x_end, x_thres))\n",
    "plot([0,60],[x_end,x_end],color='#ff0000')\n",
    "plot([0,60],[x_thres,x_thres],color='#ff0000')\n",
    "\n",
    "xlim(30,40)\n",
    "ylim(0.013,0.015)\n",
    "\n",
    "# looks like epoch 54 is good for 0.0139\n",
    "# looks like epoch 30 is good for 0.0148"
   ]
  },
  {
   "cell_type": "code",
   "execution_count": 9,
   "metadata": {
    "collapsed": true
   },
   "outputs": [],
   "source": [
    "'''\n",
    "Analyzing results of student2 with 2 skills, with training length 2 and testing length 2.\n",
    "'''\n",
    "data11 = np.load('experiments/test2_model2simple_tiny-dropout10-shuffle0-data-test2-n10000-l2-random.pickle/stats-runA.npz')\n",
    "\n",
    "vloss = data11['vloss']\n",
    "#scores = data21['scores'][:,0]\n",
    "#initialq = data51['qvals'][:,0]\n",
    "#opts = data61['opts']\n",
    "#qfuncs = data61['qs'][:,0,:,:]"
   ]
  },
  {
   "cell_type": "code",
   "execution_count": 13,
   "metadata": {},
   "outputs": [
    {
     "name": "stdout",
     "output_type": "stream",
     "text": [
      "(50, 47)\n",
      "last 0.000100714282317 threshold 0.001\n"
     ]
    },
    {
     "data": {
      "text/plain": [
       "[<matplotlib.lines.Line2D at 0x7faa75a24fd0>]"
      ]
     },
     "execution_count": 13,
     "metadata": {},
     "output_type": "execute_result"
    },
    {
     "data": {
      "image/png": "[encoded data removed]",
      "text/plain": [
       "<matplotlib.figure.Figure at 0x7faa75aafc50>"
      ]
     },
     "metadata": {},
     "output_type": "display_data"
    }
   ],
   "source": [
    "six.print_(vloss.shape)\n",
    "figure()\n",
    "x_avg = np.mean(vloss,axis=0)\n",
    "x_serr = np.std(vloss,axis=0) / vloss.shape[0] * 1.98\n",
    "plot(x_avg, color='#0000ff')\n",
    "plot(x_avg + x_serr, color='#ddddff')\n",
    "plot(x_avg - x_serr, color='#ddddff')\n",
    "\n",
    "x_end = np.mean(x_avg[-2:])\n",
    "x_thres = 0.001\n",
    "six.print_('last {} threshold {}'.format(x_end, x_thres))\n",
    "plot([0,60],[x_end,x_end],color='#ff0000')\n",
    "plot([0,60],[x_thres,x_thres],color='#ff0000')\n",
    "\n",
    "#xlim(15,30)\n",
    "#ylim(0.0,0.002)\n",
    "\n",
    "# looks like epoch 46 is good for 0.0001\n",
    "# looks like epoch 20 is good for 0.001"
   ]
  },
  {
   "cell_type": "code",
   "execution_count": 2,
   "metadata": {
    "collapsed": true
   },
   "outputs": [],
   "source": [
    "'''\n",
    "Analyzing results of student2 with 2 skills, with training length 2 and testing length 2.\n",
    "'''\n",
    "data11 = np.load('experiments/test2_model2gru_tiny-dropout10-shuffle0-data-test2-n10000-l2-random.pickle/stats-runA.npz')\n",
    "\n",
    "vloss = data11['vloss']\n",
    "#scores = data21['scores'][:,0]\n",
    "#initialq = data51['qvals'][:,0]\n",
    "#opts = data61['opts']\n",
    "#qfuncs = data61['qs'][:,0,:,:]"
   ]
  },
  {
   "cell_type": "code",
   "execution_count": 8,
   "metadata": {},
   "outputs": [
    {
     "name": "stdout",
     "output_type": "stream",
     "text": [
      "(20, 61)\n",
      "last 2.86438517734e-05 threshold 0.001\n"
     ]
    },
    {
     "data": {
      "text/plain": [
       "(0.0, 0.002)"
      ]
     },
     "execution_count": 8,
     "metadata": {},
     "output_type": "execute_result"
    },
    {
     "data": {
      "image/png": "[encoded data removed]",
      "text/plain": [
       "<matplotlib.figure.Figure at 0x7faa75c40e10>"
      ]
     },
     "metadata": {},
     "output_type": "display_data"
    }
   ],
   "source": [
    "six.print_(vloss.shape)\n",
    "figure()\n",
    "x_avg = np.mean(vloss,axis=0)\n",
    "x_serr = np.std(vloss,axis=0) / vloss.shape[0] * 1.98\n",
    "plot(x_avg, color='#0000ff')\n",
    "plot(x_avg + x_serr, color='#ddddff')\n",
    "plot(x_avg - x_serr, color='#ddddff')\n",
    "\n",
    "x_end = np.mean(x_avg[-2:])\n",
    "x_thres = 0.001\n",
    "six.print_('last {} threshold {}'.format(x_end, x_thres))\n",
    "plot([0,60],[x_end,x_end],color='#ff0000')\n",
    "plot([0,60],[x_thres,x_thres],color='#ff0000')\n",
    "\n",
    "xlim(15,20)\n",
    "ylim(0.0,0.002)\n",
    "\n",
    "# looks like epoch 43 is good for 0.0001\n",
    "# looks like epoch 20 is good for 0.001"
   ]
  },
  {
   "cell_type": "code",
   "execution_count": 2,
   "metadata": {
    "collapsed": true
   },
   "outputs": [],
   "source": [
    "'''\n",
    "Analyzing results of student2 with 2 skills, with training length 2 and testing length 2.\n",
    "'''\n",
    "data11 = np.load('experiments/test2_model2_tiny-dropout10-shuffle0-data-test2-n10000-l2-random.pickle/stats-runA.npz')\n",
    "data21 = np.load('experiments/test2_model2_tiny-dropout10-shuffle0-data-test2-n10000-l2-random.pickle/mcts-rtype2-rollouts1000-trajectories100-real1-runA.npz')\n",
    "\n",
    "vloss = data11['vloss']\n",
    "scores = data21['scores'][:,0]\n",
    "#initialq = data51['qvals'][:,0]\n",
    "#opts = data61['opts']\n",
    "#qfuncs = data61['qs'][:,0,:,:]"
   ]
  },
  {
   "cell_type": "code",
   "execution_count": 3,
   "metadata": {},
   "outputs": [
    {
     "name": "stdout",
     "output_type": "stream",
     "text": [
      "vloss shape (50, 55)\n",
      "[[ 0.09441637  0.0821061   0.06651635 ...,  0.01403089  0.01401687\n",
      "   0.01400377]\n",
      " [ 0.09528936  0.0877762   0.07626525 ...,  0.01350397  0.01348733\n",
      "   0.01347177]\n",
      " [ 0.09361646  0.0820771   0.06622386 ...,  0.01369305  0.01367851\n",
      "   0.01366495]\n",
      " ..., \n",
      " [ 0.09256435  0.0779258   0.06302304 ...,  0.01383118  0.01381435\n",
      "   0.01379868]\n",
      " [ 0.09070774  0.07706053  0.06221853 ...,  0.01358032  0.01356731\n",
      "   0.01355519]\n",
      " [ 0.09316752  0.07823799  0.06175289 ...,  0.01400177  0.0139882\n",
      "   0.01397556]]\n",
      "scores shape (50,)\n",
      "[ 1.       0.       1.       1.       1.       0.84375  0.       1.       1.\n",
      "  1.       1.       1.       1.       1.       1.       1.       1.       1.\n",
      "  1.       1.       0.       1.       1.       1.       1.       1.       1.\n",
      "  1.       1.       1.       1.       1.       1.       1.       1.       1.\n",
      "  1.       1.       1.       1.       1.       1.       1.       1.       1.\n",
      "  1.       1.       1.       1.       1.     ]\n"
     ]
    }
   ],
   "source": [
    "six.print_('vloss shape {}'.format(vloss.shape))\n",
    "six.print_(vloss)\n",
    "six.print_('scores shape {}'.format(scores.shape))\n",
    "six.print_(scores)"
   ]
  },
  {
   "cell_type": "code",
   "execution_count": 5,
   "metadata": {},
   "outputs": [
    {
     "data": {
      "text/plain": [
       "[<matplotlib.lines.Line2D at 0x7f36517afd10>]"
      ]
     },
     "execution_count": 5,
     "metadata": {},
     "output_type": "execute_result"
    },
    {
     "data": {
      "image/png": "[encoded data removed]",
      "text/plain": [
       "<matplotlib.figure.Figure at 0x7f36517c5210>"
      ]
     },
     "metadata": {},
     "output_type": "display_data"
    }
   ],
   "source": [
    "xs = np.sum(vloss,axis=1)\n",
    "ys = scores\n",
    "title('Training Loss AUC versus Actual Performance')\n",
    "xlabel('Training Loss AUC')\n",
    "ylabel('Posttest Score')\n",
    "plot(xs,ys,'.')"
   ]
  },
  {
   "cell_type": "code",
   "execution_count": 3,
   "metadata": {
    "collapsed": true
   },
   "outputs": [],
   "source": [
    "'''\n",
    "Analyzing results of student2 with 2 skills, with training length 2 and testing length 2. With the simpler model\n",
    "'''\n",
    "data11 = np.load('experiments/test2_model2simple_tiny-dropout10-shuffle0-data-test2-n10000-l2-random.pickle/stats-runA.npz')\n",
    "data21 = np.load('experiments/test2_model2simple_tiny-dropout10-shuffle0-data-test2-n10000-l2-random.pickle/mcts-rtype2-rollouts1000-trajectories100-real1-runA.npz')\n",
    "\n",
    "vloss = data11['vloss']\n",
    "scores = data21['scores'][:,0]\n",
    "#initialq = data51['qvals'][:,0]\n",
    "#opts = data61['opts']\n",
    "#qfuncs = data61['qs'][:,0,:,:]"
   ]
  },
  {
   "cell_type": "code",
   "execution_count": 4,
   "metadata": {},
   "outputs": [
    {
     "name": "stdout",
     "output_type": "stream",
     "text": [
      "vloss shape (50, 47)\n",
      "[[  5.60354423e-02   0.00000000e+00   3.45983439e-02 ...,   1.07799362e-04\n",
      "    9.98436733e-05   9.25175496e-05]\n",
      " [  5.61487071e-02   4.63366595e-02   3.68188272e-02 ...,   9.92860048e-05\n",
      "    9.18873619e-05   8.50844727e-05]\n",
      " [  5.51633144e-02   4.41024173e-02   3.34944126e-02 ...,   1.16312240e-04\n",
      "    1.07566351e-04   9.95353181e-05]\n",
      " ..., \n",
      " [  5.55556385e-02   4.53986116e-02   3.51159690e-02 ...,   1.21000005e-04\n",
      "    1.12096910e-04   1.03894910e-04]\n",
      " [  5.49687211e-02   4.39238912e-02   3.30713904e-02 ...,   1.29236685e-04\n",
      "    1.19730405e-04   1.10972159e-04]\n",
      " [  5.55256202e-02   4.51044651e-02   3.49070457e-02 ...,   1.15971312e-04\n",
      "    1.07432622e-04   9.95662725e-05]]\n",
      "scores shape (50,)\n",
      "[ 1.  1.  1.  1.  1.  1.  1.  1.  1.  0.  1.  1.  1.  1.  1.  1.  1.  1.\n",
      "  1.  1.  1.  1.  0.  1.  1.  1.  1.  1.  1.  1.  1.  1.  0.  1.  1.  1.\n",
      "  1.  1.  0.  1.  1.  1.  1.  0.  0.  0.  1.  1.  1.  1.]\n"
     ]
    }
   ],
   "source": [
    "six.print_('vloss shape {}'.format(vloss.shape))\n",
    "six.print_(vloss)\n",
    "six.print_('scores shape {}'.format(scores.shape))\n",
    "six.print_(scores)"
   ]
  },
  {
   "cell_type": "code",
   "execution_count": 5,
   "metadata": {},
   "outputs": [
    {
     "data": {
      "text/plain": [
       "[<matplotlib.lines.Line2D at 0x7fae11912310>]"
      ]
     },
     "execution_count": 5,
     "metadata": {},
     "output_type": "execute_result"
    },
    {
     "data": {
      "image/png": "[encoded data removed]",
      "text/plain": [
       "<matplotlib.figure.Figure at 0x7fae119122d0>"
      ]
     },
     "metadata": {},
     "output_type": "display_data"
    }
   ],
   "source": [
    "xs = np.sum(vloss,axis=1)\n",
    "ys = scores\n",
    "title('Training Loss AUC versus Actual Performance')\n",
    "xlabel('Training Loss AUC')\n",
    "ylabel('Posttest Score')\n",
    "plot(xs,ys,'.')"
   ]
  },
  {
   "cell_type": "code",
   "execution_count": 2,
   "metadata": {
    "collapsed": true
   },
   "outputs": [],
   "source": [
    "'''\n",
    "Analyzing results of student2 with 2 skills, with training length 2 and testing length 2. With the gru model\n",
    "'''\n",
    "data11 = np.load('experiments/test2_model2gru_tiny-dropout10-shuffle0-data-test2-n10000-l2-random.pickle/stats-runA.npz')\n",
    "data21 = np.load('experiments/test2_model2gru_tiny-dropout10-shuffle0-data-test2-n10000-l2-random.pickle/mcts-rtype2-rollouts1000-trajectories100-real1-runA.npz')\n",
    "\n",
    "vloss = data11['vloss']\n",
    "scores = data21['scores'][:,0]\n",
    "#initialq = data51['qvals'][:,0]\n",
    "#opts = data61['opts']\n",
    "#qfuncs = data61['qs'][:,0,:,:]"
   ]
  },
  {
   "cell_type": "code",
   "execution_count": 4,
   "metadata": {},
   "outputs": [
    {
     "name": "stdout",
     "output_type": "stream",
     "text": [
      "vloss shape (50, 44)\n",
      "[[  1.24660005e-01   9.74883808e-02   6.46064837e-02 ...,   1.90614390e-04\n",
      "    1.73033830e-04   1.57141048e-04]\n",
      " [  1.26972781e-01   1.00285856e-01   6.67210233e-02 ...,   9.77403937e-05\n",
      "    9.03463540e-05   8.35759406e-05]\n",
      " [  1.18413929e-01   8.01361284e-02   4.64666935e-02 ...,   8.62135920e-05\n",
      "    7.91471312e-05   7.27472454e-05]\n",
      " ..., \n",
      " [  1.22993569e-01   9.04669706e-02   5.20611677e-02 ...,   1.20912361e-04\n",
      "    1.11792422e-04   1.03415427e-04]\n",
      " [  1.31132155e-01   1.02064132e-01   6.27080469e-02 ...,   1.24872571e-04\n",
      "    1.15411477e-04   1.06727092e-04]\n",
      " [  1.26553115e-01   1.02315676e-01   6.59910226e-02 ...,   1.15525539e-04\n",
      "    1.06497150e-04   9.82490103e-05]]\n",
      "scores shape (50,)\n",
      "[ 0.          0.          1.          0.          0.          0.          1.\n",
      "  0.          1.          0.          0.          0.          0.          0.\n",
      "  0.          1.          0.          0.          1.          0.          0.\n",
      "  0.          1.          0.92708333  1.          0.          1.          0.\n",
      "  0.          0.          0.          0.          0.          0.          1.\n",
      "  0.          0.          0.          0.83333333  0.          0.          1.\n",
      "  0.          0.          0.          1.          0.          1.          1.\n",
      "  0.        ]\n"
     ]
    }
   ],
   "source": [
    "six.print_('vloss shape {}'.format(vloss.shape))\n",
    "six.print_(vloss)\n",
    "six.print_('scores shape {}'.format(scores.shape))\n",
    "six.print_(scores)"
   ]
  },
  {
   "cell_type": "code",
   "execution_count": 3,
   "metadata": {},
   "outputs": [
    {
     "data": {
      "text/plain": [
       "[<matplotlib.lines.Line2D at 0x7f3fa586bb50>]"
      ]
     },
     "execution_count": 3,
     "metadata": {},
     "output_type": "execute_result"
    },
    {
     "data": {
      "image/png": "[encoded data removed]",
      "text/plain": [
       "<matplotlib.figure.Figure at 0x7f3fa586ba10>"
      ]
     },
     "metadata": {},
     "output_type": "display_data"
    }
   ],
   "source": [
    "xs = np.sum(vloss,axis=1)\n",
    "ys = scores\n",
    "title('Training Loss AUC versus Actual Performance')\n",
    "xlabel('Training Loss AUC')\n",
    "ylabel('Posttest Score')\n",
    "plot(xs,ys,'.')"
   ]
  },
  {
   "cell_type": "code",
   "execution_count": null,
   "metadata": {
    "collapsed": true
   },
   "outputs": [],
   "source": []
  }
 ],
 "metadata": {
  "kernelspec": {
   "display_name": "Python 2",
   "language": "python",
   "name": "python2"
  },
  "language_info": {
   "codemirror_mode": {
    "name": "ipython",
    "version": 2
   },
   "file_extension": ".py",
   "mimetype": "text/x-python",
   "name": "python",
   "nbconvert_exporter": "python",
   "pygments_lexer": "ipython2",
   "version": "2.7.6"
  }
 },
 "nbformat": 4,
 "nbformat_minor": 2
}
