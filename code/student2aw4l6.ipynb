{
 "cells": [
  {
   "cell_type": "code",
   "execution_count": 1,
   "metadata": {},
   "outputs": [],
   "source": [
    "# August 7 2017\n",
    "# This file is for experiments with student2 4 skills and training trajectory length 6\n",
    "# to check different architectures and whether they can learn good models\n",
    "# This uses student2a where transitions happen after observations\n",
    "\n",
    "%load_ext autoreload\n",
    "%autoreload 2\n",
    "%matplotlib inline\n",
    "\n",
    "import numpy as np\n",
    "import scipy as sp\n",
    "import six\n",
    "from matplotlib.pyplot import *\n",
    "\n",
    "def graph_trainauc_score(vloss, scores):\n",
    "    figure()\n",
    "    xs = np.sum(vloss,axis=1)\n",
    "    ys = scores\n",
    "    title('Training Loss AUC versus Actual Performance')\n",
    "    xlabel('Training Loss AUC')\n",
    "    ylabel('Posttest Score')\n",
    "    plot(xs,ys,'.')\n",
    "    ylim(0,1)\n",
    "\n",
    "def graph_trainauc_qval(vloss, qval):\n",
    "    figure()\n",
    "    xs = np.sum(vloss,axis=1)\n",
    "    ys = qval\n",
    "    title('Training Loss AUC versus Own Qvalue')\n",
    "    xlabel('Training Loss AUC')\n",
    "    ylabel('Qvalue')\n",
    "    plot(xs,ys,'.')\n",
    "\n",
    "def graph_qval_score(qval, scores):\n",
    "    figure()\n",
    "    xs = qval\n",
    "    ys = scores\n",
    "    title('Own Qval versus Actual Performance')\n",
    "    xlabel('Qvalue')\n",
    "    ylabel('Posttest Score')\n",
    "    plot(xs,ys,'.')"
   ]
  },
  {
   "cell_type": "code",
   "execution_count": 4,
   "metadata": {},
   "outputs": [
    {
     "name": "stdout",
     "output_type": "stream",
     "text": [
      "(10, 21)\n",
      "last 2.44149599946e-08 threshold 1e-05\n"
     ]
    },
    {
     "data": {
      "text/plain": [
       "(0.0, 2e-05)"
      ]
     },
     "execution_count": 4,
     "metadata": {},
     "output_type": "execute_result"
    },
    {
     "data": {
      "image/png": "[encoded data removed]",
      "text/plain": [
       "<matplotlib.figure.Figure at 0x7f32367b2190>"
      ]
     },
     "metadata": {},
     "output_type": "display_data"
    }
   ],
   "source": [
    "'''\n",
    "Single LSTM\n",
    "Trying to find a training epoch to stop training.\n",
    "'''\n",
    "data11 = np.load('experiments/test2_modelsimple_mid-dropout10-shuffle0-data-test2a-n100000-l5-random.pickle/stats-runA.npz')\n",
    "\n",
    "vloss = data11['vloss']\n",
    "\n",
    "six.print_(vloss.shape)\n",
    "figure()\n",
    "x_avg = np.mean(vloss,axis=0)\n",
    "x_serr = np.std(vloss,axis=0) / vloss.shape[0] * 1.98\n",
    "plot(x_avg, color='#0000ff')\n",
    "plot(x_avg + x_serr, color='#ddddff')\n",
    "plot(x_avg - x_serr, color='#ddddff')\n",
    "\n",
    "x_end = np.mean(x_avg[-2:])\n",
    "x_thres = 0.00001\n",
    "six.print_('last {} threshold {}'.format(x_end, x_thres))\n",
    "plot([0,20],[x_end,x_end],color='#ff0000')\n",
    "plot([0,20],[x_thres,x_thres],color='#ff0000')\n",
    "\n",
    "#xlim(10, 15)\n",
    "ylim(0.0000,0.00002)\n",
    "\n",
    "# looks like epoch 12 is good for 0.00001"
   ]
  },
  {
   "cell_type": "code",
   "execution_count": 3,
   "metadata": {},
   "outputs": [
    {
     "name": "stdout",
     "output_type": "stream",
     "text": [
      "vloss shape (50, 13)\n",
      "scores shape (50,)\n",
      "[ 1.    1.    1.    1.    1.    1.    1.    1.    1.    1.    0.25  1.    1.\n",
      "  1.    1.    1.    1.    1.    1.    1.    1.    1.    1.    1.    1.    0.\n",
      "  1.    1.    1.    1.    1.    1.    1.    1.    1.    1.    1.    1.    1.\n",
      "  1.    1.    1.    0.    1.    1.    1.    1.    1.    1.    1.  ]\n"
     ]
    },
    {
     "data": {
      "image/png": "[encoded data removed]",
      "text/plain": [
       "<matplotlib.figure.Figure at 0x7f4c38d0ac90>"
      ]
     },
     "metadata": {},
     "output_type": "display_data"
    }
   ],
   "source": [
    "'''\n",
    "Analyzing results of student2 with 4 skills, with training length 6 and testing length 6.\n",
    "Single LSTM\n",
    "Looking at correlation between training AUC and actual performance\n",
    "'''\n",
    "data11 = np.load('experiments/test2_modelsimple_mid-dropout10-shuffle1-data-test2a-n100000-l6-random.pickle/stats-runB.npz')\n",
    "data12 = np.load('experiments/test2_modelsimple_mid-dropout10-shuffle1-data-test2a-n100000-l6-random.pickle/stats-runC.npz')\n",
    "data21 = np.load('experiments/test2_modelsimple_mid-dropout10-shuffle1-data-test2a-n100000-l6-random.pickle/mcts-rtype2-rollouts20000-trajectories10-real1-runB.npz')\n",
    "data22 = np.load('experiments/test2_modelsimple_mid-dropout10-shuffle1-data-test2a-n100000-l6-random.pickle/mcts-rtype2-rollouts20000-trajectories10-real1-runC.npz')\n",
    "\n",
    "vloss = np.vstack((data11['vloss'],data12['vloss']))\n",
    "scores = np.concatenate((data21['scores'][:,0],data22['scores'][:,0]))\n",
    "qvals = np.concatenate((data21['qvals'][:,0],data22['qvals'][:,0]))\n",
    "\n",
    "six.print_('vloss shape {}'.format(vloss.shape))\n",
    "#six.print_(vloss[:,-1])\n",
    "six.print_('scores shape {}'.format(scores.shape))\n",
    "six.print_(scores)\n",
    "#six.print_(qvals)\n",
    "\n",
    "graph_trainauc_score(vloss, scores)"
   ]
  },
  {
   "cell_type": "code",
   "execution_count": 7,
   "metadata": {},
   "outputs": [
    {
     "name": "stdout",
     "output_type": "stream",
     "text": [
      "(10, 21)\n",
      "last 2.22655664888e-09 threshold 1e-05\n"
     ]
    },
    {
     "data": {
      "text/plain": [
       "(0.0, 2e-05)"
      ]
     },
     "execution_count": 7,
     "metadata": {},
     "output_type": "execute_result"
    },
    {
     "data": {
      "image/png": "[encoded data removed]",
      "text/plain": [
       "<matplotlib.figure.Figure at 0x7f4c6c664cd0>"
      ]
     },
     "metadata": {},
     "output_type": "display_data"
    }
   ],
   "source": [
    "'''\n",
    "Single GRU\n",
    "Trying to find a training epoch to stop training.\n",
    "'''\n",
    "data11 = np.load('experiments/test2_modelgrusimple_mid-dropout10-shuffle0-data-test2a-n100000-l5-random.pickle/stats-runA.npz')\n",
    "\n",
    "vloss = data11['vloss']\n",
    "\n",
    "six.print_(vloss.shape)\n",
    "figure()\n",
    "x_avg = np.mean(vloss,axis=0)\n",
    "x_serr = np.std(vloss,axis=0) / vloss.shape[0] * 1.98\n",
    "plot(x_avg, color='#0000ff')\n",
    "plot(x_avg + x_serr, color='#ddddff')\n",
    "plot(x_avg - x_serr, color='#ddddff')\n",
    "\n",
    "x_end = np.mean(x_avg[-2:])\n",
    "x_thres = 0.00001\n",
    "six.print_('last {} threshold {}'.format(x_end, x_thres))\n",
    "plot([0,20],[x_end,x_end],color='#ff0000')\n",
    "plot([0,20],[x_thres,x_thres],color='#ff0000')\n",
    "\n",
    "xlim(5, 10)\n",
    "ylim(0.0000,0.00002)\n",
    "\n",
    "# looks like epoch 9 is good for 0.00001"
   ]
  },
  {
   "cell_type": "code",
   "execution_count": 2,
   "metadata": {},
   "outputs": [
    {
     "name": "stdout",
     "output_type": "stream",
     "text": [
      "vloss shape (50, 10)\n",
      "scores shape (50,)\n",
      "[ 1.  1.  0.  1.  1.  1.  1.  1.  1.  1.  1.  1.  0.  1.  1.  1.  1.  1.\n",
      "  1.  1.  1.  1.  1.  1.  1.  0.  1.  1.  1.  1.  1.  1.  1.  1.  1.  1.\n",
      "  1.  1.  1.  1.  1.  1.  1.  1.  1.  1.  0.  1.  0.  1.]\n"
     ]
    },
    {
     "data": {
      "image/png": "[encoded data removed]",
      "text/plain": [
       "<matplotlib.figure.Figure at 0x7f07530306d0>"
      ]
     },
     "metadata": {},
     "output_type": "display_data"
    }
   ],
   "source": [
    "'''\n",
    "Analyzing results of student2 with 4 skills, with training length 6 and testing length 6.\n",
    "Single GRU\n",
    "Looking at correlation between training AUC and actual performance\n",
    "'''\n",
    "data11 = np.load('experiments/test2_modelgrusimple_mid-dropout10-shuffle1-data-test2a-n100000-l6-random.pickle/stats-runB.npz')\n",
    "data21 = np.load('experiments/test2_modelgrusimple_mid-dropout10-shuffle1-data-test2a-n100000-l6-random.pickle/mcts-rtype2-rollouts20000-trajectories10-real1-runB.npz')\n",
    "\n",
    "vloss = data11['vloss']\n",
    "scores = data21['scores'][:,0]\n",
    "qvals = data21['qvals'][:,0]\n",
    "\n",
    "six.print_('vloss shape {}'.format(vloss.shape))\n",
    "#six.print_(vloss[:,-1])\n",
    "six.print_('scores shape {}'.format(scores.shape))\n",
    "six.print_(scores)\n",
    "#six.print_(qvals)\n",
    "\n",
    "graph_trainauc_score(vloss, scores)"
   ]
  },
  {
   "cell_type": "code",
   "execution_count": null,
   "metadata": {
    "collapsed": true
   },
   "outputs": [],
   "source": []
  }
 ],
 "metadata": {
  "kernelspec": {
   "display_name": "Python 2",
   "language": "python",
   "name": "python2"
  },
  "language_info": {
   "codemirror_mode": {
    "name": "ipython",
    "version": 2
   },
   "file_extension": ".py",
   "mimetype": "text/x-python",
   "name": "python",
   "nbconvert_exporter": "python",
   "pygments_lexer": "ipython2",
   "version": "2.7.6"
  }
 },
 "nbformat": 4,
 "nbformat_minor": 2
}
