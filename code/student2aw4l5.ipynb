{
 "cells": [
  {
   "cell_type": "code",
   "execution_count": 1,
   "metadata": {
    "collapsed": true
   },
   "outputs": [],
   "source": [
    "# August 5 2017\n",
    "# This file is for experiments with student2 4 skills and training trajectory length 5\n",
    "# to check different architectures and whether they can learn good models\n",
    "# This uses student2a where transitions happen after observations\n",
    "\n",
    "%load_ext autoreload\n",
    "%autoreload 2\n",
    "%matplotlib inline\n",
    "\n",
    "import numpy as np\n",
    "import scipy as sp\n",
    "import six\n",
    "from matplotlib.pyplot import *"
   ]
  },
  {
   "cell_type": "code",
   "execution_count": 2,
   "metadata": {},
   "outputs": [
    {
     "name": "stdout",
     "output_type": "stream",
     "text": [
      "(10, 21)\n",
      "last 7.52855602929e-07 threshold 1e-05\n"
     ]
    },
    {
     "data": {
      "text/plain": [
       "(0.0, 2e-05)"
      ]
     },
     "execution_count": 2,
     "metadata": {},
     "output_type": "execute_result"
    },
    {
     "data": {
      "image/png": "[encoded data removed]",
      "text/plain": [
       "<matplotlib.figure.Figure at 0x7fc75bd9c210>"
      ]
     },
     "metadata": {},
     "output_type": "display_data"
    }
   ],
   "source": [
    "'''\n",
    "Single LSTM\n",
    "Trying to find a training epoch to stop training.\n",
    "'''\n",
    "data11 = np.load('experiments/test2_modelsimple_small-dropout10-shuffle0-data-test2a-n100000-l5-random.pickle/stats-runA.npz')\n",
    "\n",
    "vloss = data11['vloss']\n",
    "\n",
    "six.print_(vloss.shape)\n",
    "figure()\n",
    "x_avg = np.mean(vloss,axis=0)\n",
    "x_serr = np.std(vloss,axis=0) / vloss.shape[0] * 1.98\n",
    "plot(x_avg, color='#0000ff')\n",
    "plot(x_avg + x_serr, color='#ddddff')\n",
    "plot(x_avg - x_serr, color='#ddddff')\n",
    "\n",
    "x_end = np.mean(x_avg[-2:])\n",
    "x_thres = 0.00001\n",
    "six.print_('last {} threshold {}'.format(x_end, x_thres))\n",
    "plot([0,20],[x_end,x_end],color='#ff0000')\n",
    "plot([0,20],[x_thres,x_thres],color='#ff0000')\n",
    "\n",
    "xlim(10, 15)\n",
    "ylim(0.0000,0.00002)\n",
    "\n",
    "# looks like epoch 14 is good for 0.00001"
   ]
  },
  {
   "cell_type": "code",
   "execution_count": 7,
   "metadata": {},
   "outputs": [
    {
     "name": "stdout",
     "output_type": "stream",
     "text": [
      "(10, 21)\n",
      "last 1.40721053237e-05 threshold 2e-05\n"
     ]
    },
    {
     "data": {
      "text/plain": [
       "(1e-05, 3e-05)"
      ]
     },
     "execution_count": 7,
     "metadata": {},
     "output_type": "execute_result"
    },
    {
     "data": {
      "image/png": "[encoded data removed]",
      "text/plain": [
       "<matplotlib.figure.Figure at 0x7fc759ab56d0>"
      ]
     },
     "metadata": {},
     "output_type": "display_data"
    }
   ],
   "source": [
    "'''\n",
    "Single GRU\n",
    "Trying to find a training epoch to stop training.\n",
    "'''\n",
    "data11 = np.load('experiments/test2_modelgrusimple_small-dropout10-shuffle0-data-test2a-n100000-l5-random.pickle/stats-runA.npz')\n",
    "\n",
    "vloss = data11['vloss']\n",
    "\n",
    "six.print_(vloss.shape)\n",
    "figure()\n",
    "x_avg = np.mean(vloss,axis=0)\n",
    "x_serr = np.std(vloss,axis=0) / vloss.shape[0] * 1.98\n",
    "plot(x_avg, color='#0000ff')\n",
    "plot(x_avg + x_serr, color='#ddddff')\n",
    "plot(x_avg - x_serr, color='#ddddff')\n",
    "\n",
    "x_end = np.mean(x_avg[-2:])\n",
    "x_thres = 0.00002\n",
    "six.print_('last {} threshold {}'.format(x_end, x_thres))\n",
    "plot([0,20],[x_end,x_end],color='#ff0000')\n",
    "plot([0,20],[x_thres,x_thres],color='#ff0000')\n",
    "\n",
    "xlim(15, 20)\n",
    "ylim(0.00001,0.00003)\n",
    "\n",
    "# looks like epoch 18 is good for 0.00001"
   ]
  },
  {
   "cell_type": "code",
   "execution_count": 3,
   "metadata": {},
   "outputs": [
    {
     "name": "stdout",
     "output_type": "stream",
     "text": [
      "vloss shape (50, 15)\n",
      "scores shape (50,)\n",
      "[ 0.          0.          0.          0.          0.69791667  0.          0.\n",
      "  0.          0.          0.94791667  0.          0.          0.          0.\n",
      "  0.          0.          0.          1.          0.          0.          0.\n",
      "  0.          1.          0.          0.          0.          0.          0.\n",
      "  0.          1.          0.          0.          1.          0.          0.\n",
      "  0.          0.48958333  0.          0.          0.          0.          0.\n",
      "  0.97916667  0.          0.          0.          0.          0.          0.\n",
      "  0.        ]\n"
     ]
    },
    {
     "data": {
      "text/plain": [
       "(0, 1)"
      ]
     },
     "execution_count": 3,
     "metadata": {},
     "output_type": "execute_result"
    },
    {
     "data": {
      "image/png": "[encoded data removed]",
      "text/plain": [
       "<matplotlib.figure.Figure at 0x7f8b000ebf90>"
      ]
     },
     "metadata": {},
     "output_type": "display_data"
    }
   ],
   "source": [
    "'''\n",
    "Analyzing results of student2 with 4 skills, with training length 5 and testing length 6.\n",
    "Single LSTM\n",
    "Looking at correlation between training AUC and actual performance\n",
    "'''\n",
    "data11 = np.load('experiments/test2_modelsimple_small-dropout10-shuffle0-data-test2a-n100000-l5-random.pickle/stats-runB.npz')\n",
    "data21 = np.load('experiments/test2_modelsimple_small-dropout10-shuffle0-data-test2a-n100000-l5-random.pickle/mcts-rtype2-rollouts3000-trajectories100-real1-runB.npz')\n",
    "\n",
    "vloss = data11['vloss']\n",
    "scores = data21['scores'][:,0]\n",
    "\n",
    "six.print_('vloss shape {}'.format(vloss.shape))\n",
    "#six.print_(vloss)\n",
    "six.print_('scores shape {}'.format(scores.shape))\n",
    "six.print_(scores)\n",
    "\n",
    "xs = np.sum(vloss,axis=1)\n",
    "ys = scores\n",
    "title('Training Loss AUC versus Actual Performance')\n",
    "xlabel('Training Loss AUC')\n",
    "ylabel('Posttest Score')\n",
    "plot(xs,ys,'.')\n",
    "ylim(0,1)"
   ]
  },
  {
   "cell_type": "code",
   "execution_count": 5,
   "metadata": {},
   "outputs": [
    {
     "name": "stdout",
     "output_type": "stream",
     "text": [
      "vloss shape (50, 19)\n",
      "scores shape (50,)\n",
      "[ 0.          0.97916667  0.          0.          0.          0.          0.\n",
      "  0.          0.          0.          0.          0.          0.          0.\n",
      "  0.          0.          1.          0.          0.          0.          0.\n",
      "  0.          0.          0.01041667  0.          0.          0.17708333\n",
      "  0.          0.          0.          0.          0.          0.          0.\n",
      "  0.          1.          0.          0.          0.          1.          0.\n",
      "  0.          1.          0.          0.          1.          0.          0.\n",
      "  0.          0.        ]\n"
     ]
    },
    {
     "data": {
      "text/plain": [
       "(0, 1)"
      ]
     },
     "execution_count": 5,
     "metadata": {},
     "output_type": "execute_result"
    },
    {
     "data": {
      "image/png": "[encoded data removed]",
      "text/plain": [
       "<matplotlib.figure.Figure at 0x7f8b00070950>"
      ]
     },
     "metadata": {},
     "output_type": "display_data"
    }
   ],
   "source": [
    "'''\n",
    "Analyzing results of student2 with 4 skills, with training length 5 and testing length 6.\n",
    "Single GRU\n",
    "Looking at correlation between training AUC and actual performance\n",
    "'''\n",
    "data11 = np.load('experiments/test2_modelgrusimple_small-dropout10-shuffle0-data-test2a-n100000-l5-random.pickle/stats-runB.npz')\n",
    "data21 = np.load('experiments/test2_modelgrusimple_small-dropout10-shuffle0-data-test2a-n100000-l5-random.pickle/mcts-rtype2-rollouts3000-trajectories100-real1-runB.npz')\n",
    "\n",
    "vloss = data11['vloss']\n",
    "scores = data21['scores'][:,0]\n",
    "\n",
    "six.print_('vloss shape {}'.format(vloss.shape))\n",
    "#six.print_(vloss)\n",
    "six.print_('scores shape {}'.format(scores.shape))\n",
    "six.print_(scores)\n",
    "\n",
    "xs = np.sum(vloss,axis=1)\n",
    "ys = scores\n",
    "title('Training Loss AUC versus Actual Performance')\n",
    "xlabel('Training Loss AUC')\n",
    "ylabel('Posttest Score')\n",
    "plot(xs,ys,'.')\n",
    "ylim(0,1)"
   ]
  },
  {
   "cell_type": "code",
   "execution_count": null,
   "metadata": {
    "collapsed": true
   },
   "outputs": [],
   "source": []
  }
 ],
 "metadata": {
  "kernelspec": {
   "display_name": "Python 2",
   "language": "python",
   "name": "python2"
  },
  "language_info": {
   "codemirror_mode": {
    "name": "ipython",
    "version": 2
   },
   "file_extension": ".py",
   "mimetype": "text/x-python",
   "name": "python",
   "nbconvert_exporter": "python",
   "pygments_lexer": "ipython2",
   "version": "2.7.6"
  }
 },
 "nbformat": 4,
 "nbformat_minor": 2
}
