{
 "cells": [
  {
   "cell_type": "code",
   "execution_count": 1,
   "metadata": {
    "collapsed": true
   },
   "outputs": [],
   "source": [
    "# August 25 2017\n",
    "# This file is for experiments with student2 4 skills and training trajectory length 5\n",
    "# to check different architectures and whether they can learn good models\n",
    "# This uses student2a where transitions happen after observations\n",
    "\n",
    "%load_ext autoreload\n",
    "%autoreload 2\n",
    "%matplotlib inline\n",
    "\n",
    "import numpy as np\n",
    "import scipy as sp\n",
    "import six\n",
    "from matplotlib.pyplot import *\n",
    "\n",
    "def graph_trainauc_score(vloss, scores):\n",
    "    figure()\n",
    "    xs = np.sum(vloss,axis=1)\n",
    "    ys = scores\n",
    "    title('Training Loss AUC versus Actual Performance')\n",
    "    xlabel('Training Loss AUC')\n",
    "    ylabel('Posttest Score')\n",
    "    plot(xs,ys,'.')\n",
    "    ylim(0,1)\n",
    "\n",
    "def graph_trainauc_qval(vloss, qval):\n",
    "    figure()\n",
    "    xs = np.sum(vloss,axis=1)\n",
    "    ys = qval\n",
    "    title('Training Loss AUC versus Own Qvalue')\n",
    "    xlabel('Training Loss AUC')\n",
    "    ylabel('Qvalue')\n",
    "    plot(xs,ys,'.')\n",
    "\n",
    "def graph_qval_score(qval, scores):\n",
    "    figure()\n",
    "    xs = qval\n",
    "    ys = scores\n",
    "    title('Own Qval versus Actual Performance')\n",
    "    xlabel('Qvalue')\n",
    "    ylabel('Posttest Score')\n",
    "    plot(xs,ys,'.')"
   ]
  },
  {
   "cell_type": "markdown",
   "metadata": {
    "collapsed": true
   },
   "source": [
    "# Learning Rate 0.0005 Stability"
   ]
  },
  {
   "cell_type": "code",
   "execution_count": 7,
   "metadata": {},
   "outputs": [
    {
     "data": {
      "text/plain": [
       "<matplotlib.legend.Legend at 0x7f26bcb75d50>"
      ]
     },
     "execution_count": 7,
     "metadata": {},
     "output_type": "execute_result"
    },
    {
     "data": {
      "image/png": "[encoded data removed]",
      "text/plain": [
       "<matplotlib.figure.Figure at 0x7f26bf1bd590>"
      ]
     },
     "metadata": {},
     "output_type": "display_data"
    }
   ],
   "source": [
    "data11 = np.load('experiments/test2_modelgrusimple_mid-dropout10-shuffle1-data-test2a-w4-n100000-l5-random.pickle/stats-runA.npz')\n",
    "\n",
    "tloss = data11['tloss']\n",
    "tloss_mean = np.mean(tloss,axis=0)\n",
    "tloss_std = np.std(tloss,axis=0)/tloss.shape[0]\n",
    "\n",
    "vloss = data11['vloss']\n",
    "vloss_mean = np.mean(vloss,axis=0)\n",
    "vloss_std = np.std(vloss,axis=0)/vloss.shape[0]\n",
    "\n",
    "figure()\n",
    "title('Training Losses')\n",
    "plot(tloss_mean,label='tloss')\n",
    "plot(vloss_mean,label='vloss')\n",
    "ylim(0,0.000005)\n",
    "legend()\n",
    "# looks like after 20 is enough. Use 25."
   ]
  },
  {
   "cell_type": "code",
   "execution_count": null,
   "metadata": {
    "collapsed": true
   },
   "outputs": [],
   "source": []
  }
 ],
 "metadata": {
  "kernelspec": {
   "display_name": "Python 2",
   "language": "python",
   "name": "python2"
  },
  "language_info": {
   "codemirror_mode": {
    "name": "ipython",
    "version": 2
   },
   "file_extension": ".py",
   "mimetype": "text/x-python",
   "name": "python",
   "nbconvert_exporter": "python",
   "pygments_lexer": "ipython2",
   "version": "2.7.6"
  }
 },
 "nbformat": 4,
 "nbformat_minor": 2
}
