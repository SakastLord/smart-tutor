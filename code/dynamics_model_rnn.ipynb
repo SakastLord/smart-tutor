{
 "cells": [
  {
   "cell_type": "markdown",
   "metadata": {},
   "source": [
    "Sketchbook to experiment with RNN models to model the dynamics. Once tested, the code in this notebook will be incorporated into functions/classes/ python modules."
   ]
  },
  {
   "cell_type": "markdown",
   "metadata": {},
   "source": [
    "## Dynamics Model\n",
    "Models the dynamics of the system p(next observation | history of observations, action)\n",
    "\n",
    "History of observations consist of exercises a student has done and whether the student solved each of them\n",
    "\n",
    "Action is the next exercise chosen \n",
    "\n",
    "Next observation is whether the student gets the chosen exercise correct\n",
    "\n",
    "\n",
    "We want to use an RNN to model the dynamics.\n",
    "Input data represents history of observations, of shape (n_students, n_timesteps, observation_vec_size)\n",
    "\n",
    "Output represents the probability of getting next exercise correctly, of shape (n_students, n_timesteps, n_exercises) \n",
    "\n",
    "So at each timestep, we make a prediction for all actions. \n",
    "\n",
    "For each action, the output vector specifies the predicted probability of the student getting the chosen exercise correctly.\n",
    "\n",
    "The target output only contains binary values."
   ]
  },
  {
   "cell_type": "code",
   "execution_count": 1,
   "metadata": {
    "collapsed": false
   },
   "outputs": [
    {
     "name": "stdout",
     "output_type": "stream",
     "text": [
      "/Users/lisa1010/tf_venv/bin/python\n"
     ]
    }
   ],
   "source": [
    "import sys\n",
    "print sys.executable\n",
    "%load_ext autoreload\n",
    "%autoreload 2\n",
    "%reload_ext autoreload"
   ]
  },
  {
   "cell_type": "code",
   "execution_count": 2,
   "metadata": {
    "collapsed": false
   },
   "outputs": [],
   "source": [
    "import sonnet as snt\n",
    "import tensorflow as tf\n",
    "import tflearn\n",
    "import numpy as np"
   ]
  },
  {
   "cell_type": "code",
   "execution_count": 3,
   "metadata": {
    "collapsed": true
   },
   "outputs": [],
   "source": [
    "import dataset_utils"
   ]
  },
  {
   "cell_type": "markdown",
   "metadata": {},
   "source": [
    "Load toy data set"
   ]
  },
  {
   "cell_type": "code",
   "execution_count": 5,
   "metadata": {
    "collapsed": true
   },
   "outputs": [],
   "source": [
    "data = dataset_utils.load_data(filename=\"../synthetic_data/toy.pickle\")\n",
    "input_data_, output_mask_, target_data_ = dataset_utils.preprocess_data_for_rnn(data)"
   ]
  },
  {
   "cell_type": "markdown",
   "metadata": {},
   "source": [
    "# Build RNN Model"
   ]
  },
  {
   "cell_type": "code",
   "execution_count": 6,
   "metadata": {
    "collapsed": false
   },
   "outputs": [
    {
     "data": {
      "text/plain": [
       "gpu_options {\n",
       "}\n",
       "allow_soft_placement: true"
      ]
     },
     "execution_count": 6,
     "metadata": {},
     "output_type": "execute_result"
    }
   ],
   "source": [
    "tflearn.init_graph()"
   ]
  },
  {
   "cell_type": "code",
   "execution_count": 9,
   "metadata": {
    "collapsed": true
   },
   "outputs": [],
   "source": [
    "n_hidden = 64\n",
    "n_samples, n_timesteps, n_inputdim = input_data_.shape\n",
    "_,_,n_outputdim = target_data_.shape"
   ]
  },
  {
   "cell_type": "code",
   "execution_count": 10,
   "metadata": {
    "collapsed": false
   },
   "outputs": [
    {
     "name": "stdout",
     "output_type": "stream",
     "text": [
      "50\n"
     ]
    }
   ],
   "source": [
    "print n_timesteps"
   ]
  },
  {
   "cell_type": "code",
   "execution_count": 12,
   "metadata": {
    "collapsed": false
   },
   "outputs": [
    {
     "name": "stdout",
     "output_type": "stream",
     "text": [
      "20\n"
     ]
    }
   ],
   "source": [
    "print n_inputdim"
   ]
  },
  {
   "cell_type": "code",
   "execution_count": 13,
   "metadata": {
    "collapsed": false
   },
   "outputs": [
    {
     "name": "stdout",
     "output_type": "stream",
     "text": [
      "10\n"
     ]
    }
   ],
   "source": [
    "print n_outputdim"
   ]
  },
  {
   "cell_type": "code",
   "execution_count": 15,
   "metadata": {
    "collapsed": false
   },
   "outputs": [
    {
     "name": "stdout",
     "output_type": "stream",
     "text": [
      "---------------------------------\n",
      "Run id: 2PTSBL\n",
      "Log directory: /tmp/tflearn_logs/\n",
      "WARNING:tensorflow:Error encountered when serializing layer_tensor/lstm_1.\n",
      "Type is unsupported, or the types of the items don't match field type in CollectionDef.\n",
      "'list' object has no attribute 'name'\n",
      "WARNING:tensorflow:Error encountered when serializing layer_tensor/lstm_2.\n",
      "Type is unsupported, or the types of the items don't match field type in CollectionDef.\n",
      "'list' object has no attribute 'name'\n",
      "---------------------------------\n",
      "Training samples: 4\n",
      "Validation samples: 1\n",
      "--\n",
      "Training Step: 1  | time: 2.116s\n",
      "| Adam | epoch: 001 | loss: 0.00000 | val_loss: 0.04748 -- iter: 4/4\n",
      "--\n",
      "Training Step: 2  | total loss: \u001b[1m\u001b[32m0.04031\u001b[0m\u001b[0m | time: 1.067s\n",
      "| Adam | epoch: 002 | loss: 0.04031 | val_loss: 0.04669 -- iter: 4/4\n",
      "--\n",
      "Training Step: 3  | total loss: \u001b[1m\u001b[32m0.04343\u001b[0m\u001b[0m | time: 1.065s\n",
      "| Adam | epoch: 003 | loss: 0.04343 | val_loss: 0.04589 -- iter: 4/4\n",
      "--\n",
      "Training Step: 4  | total loss: \u001b[1m\u001b[32m0.04341\u001b[0m\u001b[0m | time: 1.061s\n",
      "| Adam | epoch: 004 | loss: 0.04341 | val_loss: 0.04506 -- iter: 4/4\n",
      "--\n",
      "Training Step: 5  | total loss: \u001b[1m\u001b[32m0.04293\u001b[0m\u001b[0m | time: 1.060s\n",
      "| Adam | epoch: 005 | loss: 0.04293 | val_loss: 0.04419 -- iter: 4/4\n",
      "--\n",
      "Training Step: 6  | total loss: \u001b[1m\u001b[32m0.04231\u001b[0m\u001b[0m | time: 1.056s\n",
      "| Adam | epoch: 006 | loss: 0.04231 | val_loss: 0.04326 -- iter: 4/4\n",
      "--\n",
      "Training Step: 7  | total loss: \u001b[1m\u001b[32m0.04168\u001b[0m\u001b[0m | time: 1.061s\n",
      "| Adam | epoch: 007 | loss: 0.04168 | val_loss: 0.04223 -- iter: 4/4\n",
      "--\n",
      "Training Step: 8  | total loss: \u001b[1m\u001b[32m0.04099\u001b[0m\u001b[0m | time: 1.055s\n",
      "| Adam | epoch: 008 | loss: 0.04099 | val_loss: 0.04111 -- iter: 4/4\n",
      "--\n",
      "Training Step: 9  | total loss: \u001b[1m\u001b[32m0.04024\u001b[0m\u001b[0m | time: 1.059s\n",
      "| Adam | epoch: 009 | loss: 0.04024 | val_loss: 0.03985 -- iter: 4/4\n",
      "--\n",
      "Training Step: 10  | total loss: \u001b[1m\u001b[32m0.03943\u001b[0m\u001b[0m | time: 1.053s\n",
      "| Adam | epoch: 010 | loss: 0.03943 | val_loss: 0.03846 -- iter: 4/4\n",
      "--\n"
     ]
    }
   ],
   "source": [
    "graph_to_use = tf.Graph()\n",
    "with graph_to_use.as_default():\n",
    "    net = tflearn.input_data([None, n_timesteps, n_inputdim],dtype=tf.float32, name='input_data')\n",
    "    output_mask = tflearn.input_data([None, n_timesteps, n_outputdim], dtype=tf.float32, name='output_mask')\n",
    "    net = tflearn.lstm(net, n_hidden, return_seq=True, name=\"lstm_1\")\n",
    "    net = tflearn.lstm(net, n_outputdim, return_seq=True, name=\"lstm_2\")\n",
    "    net = tf.stack(net, axis=1)\n",
    "    preds = net\n",
    "    net = net * output_mask\n",
    "    net = tflearn.regression(net, optimizer='adam', learning_rate=0.001,\n",
    "                             loss='mean_square')\n",
    "    model = tflearn.DNN(net, tensorboard_verbose=0)\n",
    "    model.fit([ input_data_, output_mask_], target_data_, validation_set=0.1)"
   ]
  },
  {
   "cell_type": "code",
   "execution_count": 72,
   "metadata": {
    "collapsed": false,
    "scrolled": true
   },
   "outputs": [
    {
     "data": {
      "text/plain": [
       "[<tf.Tensor 'output_mask:0' shape=(?, 50, 10) dtype=int32>,\n",
       " <tf.Tensor 'InputData/X:0' shape=(?, 50, 20) dtype=float32>,\n",
       " <tf.Tensor 'output_mask_1:0' shape=(?, 50, 10) dtype=int32>,\n",
       " <tf.Tensor 'InputData_1/X:0' shape=(?, 50, 20) dtype=float32>,\n",
       " <tf.Tensor 'output_mask_2:0' shape=(?, 50, 10) dtype=int32>,\n",
       " <tf.Tensor 'InputData_2/X:0' shape=(?, 50, 20) dtype=float32>,\n",
       " <tf.Tensor 'output_mask_3:0' shape=(?, 50, 10) dtype=float32>,\n",
       " <tf.Tensor 'InputData_3/X:0' shape=(?, 50, 20) dtype=float32>,\n",
       " <tf.Tensor 'input_data:0' shape=(?, 50, 20) dtype=float32>,\n",
       " <tf.Tensor 'output_mask_4:0' shape=(?, 50, 10) dtype=float32>,\n",
       " <tf.Tensor 'input_data_1:0' shape=(?, 50, 20) dtype=float32>,\n",
       " <tf.Tensor 'output_mask_5:0' shape=(?, 50, 10) dtype=float32>,\n",
       " <tf.Tensor 'input_data_2:0' shape=(?, 50, 20) dtype=float32>,\n",
       " <tf.Tensor 'output_mask_6:0' shape=(?, 50, 10) dtype=float32>,\n",
       " <tf.Tensor 'input_data_3:0' shape=(?, 50, 20) dtype=float32>,\n",
       " <tf.Tensor 'output_mask_7:0' shape=(?, 50, 10) dtype=float32>,\n",
       " <tf.Tensor 'input_data_4:0' shape=(?, 50, 20) dtype=float32>,\n",
       " <tf.Tensor 'output_mask_8:0' shape=(?, 50, 10) dtype=float32>,\n",
       " <tf.Tensor 'output_mask_9:0' shape=(?, 50, 10) dtype=float32>,\n",
       " <tf.Tensor 'input_data_5/X:0' shape=(?, 50, 20) dtype=float32>,\n",
       " <tf.Tensor 'input_data_6/X:0' shape=(?, 50, 20) dtype=float32>,\n",
       " <tf.Tensor 'output_mask_10/X:0' shape=(?, 50, 10) dtype=float32>,\n",
       " <tf.Tensor 'output_mask_9:0' shape=(?, 50, 10) dtype=float32>,\n",
       " <tf.Tensor 'input_data_7/X:0' shape=(?, 50, 20) dtype=float32>,\n",
       " <tf.Tensor 'output_mask_11/X:0' shape=(?, 50, 10) dtype=float32>,\n",
       " <tf.Tensor 'output_mask_9:0' shape=(?, 50, 10) dtype=float32>]"
      ]
     },
     "execution_count": 72,
     "metadata": {},
     "output_type": "execute_result"
    }
   ],
   "source": [
    "tf.get_collection(tf.GraphKeys.INPUTS)"
   ]
  }
 ],
 "metadata": {
  "kernelspec": {
   "display_name": "Python2 tf_venv shared",
   "language": "python",
   "name": "tf_venv"
  },
  "language_info": {
   "codemirror_mode": {
    "name": "ipython",
    "version": 2
   },
   "file_extension": ".py",
   "mimetype": "text/x-python",
   "name": "python",
   "nbconvert_exporter": "python",
   "pygments_lexer": "ipython2",
   "version": "2.7.12"
  }
 },
 "nbformat": 4,
 "nbformat_minor": 1
}
