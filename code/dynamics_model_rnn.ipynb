{
 "cells": [
  {
   "cell_type": "markdown",
   "metadata": {},
   "source": [
    "Sketchbook to experiment with RNN models to model the dynamics. Once tested, the code in this notebook will be incorporated into functions/classes/ python modules."
   ]
  },
  {
   "cell_type": "markdown",
   "metadata": {},
   "source": [
    "## Dynamics Model\n",
    "Models the dynamics of the system p(next observation | history of observations, action)\n",
    "\n",
    "History of observations consist of exercises a student has done and whether the student solved each of them\n",
    "\n",
    "Action is the next exercise chosen \n",
    "\n",
    "Next observation is whether the student gets the chosen exercise correct\n",
    "\n",
    "\n",
    "We want to use an RNN to model the dynamics.\n",
    "Input data represents history of observations, of shape (n_students, n_timesteps, observation_vec_size)\n",
    "\n",
    "Output represents the probability of getting next exercise correctly, of shape (n_students, n_timesteps, n_exercises) \n",
    "\n",
    "So at each timestep, we make a prediction for all actions. \n",
    "\n",
    "For each action, the output vector specifies the predicted probability of the student getting the chosen exercise correctly.\n",
    "\n",
    "The target output only contains binary values."
   ]
  },
  {
   "cell_type": "code",
   "execution_count": 4,
   "metadata": {
    "collapsed": false
   },
   "outputs": [
    {
     "name": "stdout",
     "output_type": "stream",
     "text": [
      "/Users/lisa1010/tf_venv/bin/python\n"
     ]
    }
   ],
   "source": [
    "import sys\n",
    "print sys.executable\n",
    "%load_ext autoreload\n",
    "%autoreload 2\n",
    "%reload_ext autoreload"
   ]
  },
  {
   "cell_type": "code",
   "execution_count": 15,
   "metadata": {
    "collapsed": true
   },
   "outputs": [],
   "source": [
    "import sonnet as snt\n",
    "import tensorflow as tf\n",
    "import numpy as np"
   ]
  },
  {
   "cell_type": "code",
   "execution_count": 6,
   "metadata": {
    "collapsed": true
   },
   "outputs": [],
   "source": [
    "import dataset_utils"
   ]
  },
  {
   "cell_type": "markdown",
   "metadata": {},
   "source": [
    "# Loading data\n",
    "Data is a list of length num_students. \n",
    "len(data) = # students\n",
    "Each element in data corresponds to a single student, and is a list of length max sequence length. \n"
   ]
  },
  {
   "cell_type": "code",
   "execution_count": 9,
   "metadata": {
    "collapsed": false
   },
   "outputs": [],
   "source": [
    "data = dataset_utils.load_data(filename=\"../synthetic_data/toy.pickle\")"
   ]
  },
  {
   "cell_type": "code",
   "execution_count": 11,
   "metadata": {
    "collapsed": false
   },
   "outputs": [
    {
     "name": "stdout",
     "output_type": "stream",
     "text": [
      "number of students: 5\n"
     ]
    }
   ],
   "source": [
    "print (\"number of students: {}\".format(len(data)))"
   ]
  },
  {
   "cell_type": "code",
   "execution_count": 12,
   "metadata": {
    "collapsed": false
   },
   "outputs": [
    {
     "name": "stdout",
     "output_type": "stream",
     "text": [
      "sequence length for each student: 50\n"
     ]
    }
   ],
   "source": [
    "print (\"sequence length for each student: {}\".format(len(data[0])))"
   ]
  },
  {
   "cell_type": "code",
   "execution_count": 38,
   "metadata": {
    "collapsed": true
   },
   "outputs": [],
   "source": [
    "student_sample = data[0]\n",
    "t = 25\n",
    "student_at_t = student_sample[t]"
   ]
  },
  {
   "cell_type": "code",
   "execution_count": 39,
   "metadata": {
    "collapsed": false
   },
   "outputs": [],
   "source": [
    "exer, perf, knowl = student_at_t"
   ]
  },
  {
   "cell_type": "code",
   "execution_count": 20,
   "metadata": {
    "collapsed": false
   },
   "outputs": [
    {
     "name": "stdout",
     "output_type": "stream",
     "text": [
      "Exercise Concept: 5 \n",
      "Performance (1 means solved exercise): 1 \n",
      "Knowledge (which concepts student knows): [ 1.  1.  1.  1.  1.  1.  1.  0.  0.  0.]\n"
     ]
    }
   ],
   "source": [
    "print (\"Exercise Concept: {} \\nPerformance (1 means solved exercise): {} \\nKnowledge (which concepts student knows): {}\".format(np.argmax(exer), perf, knowl))"
   ]
  },
  {
   "cell_type": "markdown",
   "metadata": {},
   "source": [
    "# Input and target data for one student at timestep t\n",
    "## Constructing input data (history of observations): combining exercise concepts with performance:\n",
    "\n",
    "input data shape (n_students, n_timesteps, observation_vec_size)\n",
    "1. Concatenate\n",
    "2. multiply concept vector by -1 if student did not get it right.\n",
    "3. Construct vector of length 2*n_concepts, where orginal concept vector is copied into first half if student got it correct, or second half if student got it incorrect. (following same approach as in Piech et al. DKT) "
   ]
  },
  {
   "cell_type": "code",
   "execution_count": 23,
   "metadata": {
    "collapsed": false
   },
   "outputs": [
    {
     "name": "stdout",
     "output_type": "stream",
     "text": [
      "[ 0.  0.  0.  0.  0.  1.  0.  0.  0.  0.  1.]\n"
     ]
    }
   ],
   "source": [
    "# concatenate\n",
    "observ_concat = np.append(exer, perf)\n",
    "print observ_concat"
   ]
  },
  {
   "cell_type": "code",
   "execution_count": 26,
   "metadata": {
    "collapsed": false
   },
   "outputs": [
    {
     "name": "stdout",
     "output_type": "stream",
     "text": [
      "[-0. -0. -0. -0. -0. -1. -0. -0. -0. -0.]\n"
     ]
    }
   ],
   "source": [
    "# flip\n",
    "observ_flip = exer * (2*perf-1)\n",
    "print observ_flip"
   ]
  },
  {
   "cell_type": "code",
   "execution_count": 33,
   "metadata": {
    "collapsed": true
   },
   "outputs": [],
   "source": [
    "# extend\n",
    "observ_extend = np.zeros(2*len(exer))\n",
    "if perf == 1:\n",
    "    observ_extend[:len(exer)] = exer\n",
    "else:\n",
    "    observ_extend[len(exer):] = exer"
   ]
  },
  {
   "cell_type": "code",
   "execution_count": 34,
   "metadata": {
    "collapsed": false
   },
   "outputs": [
    {
     "name": "stdout",
     "output_type": "stream",
     "text": [
      "[ 0.  0.  0.  0.  0.  1.  0.  0.  0.  0.  0.  0.  0.  0.  0.  0.  0.  0.\n",
      "  0.  0.]\n"
     ]
    }
   ],
   "source": [
    "print observ_extend"
   ]
  },
  {
   "cell_type": "markdown",
   "metadata": {},
   "source": [
    "## Constructing targets\n",
    "Note that the output of the RNN at timestep t is a vector of length n_exercises, each element representing the probability that a student will get that exercise correctly. \n",
    "Targets shape: (n_students, n_timesteps, n_exercises) \n",
    "\n",
    "For training, we calculate the loss only over the outputs corresponding to the observed exercises, so the ones the student actually did.\n",
    "\n",
    "Therefore, we need an outputmask, to mask out all other exercises the student did not do. the output mask is a one hot vector for each timestep,  corresponding to the exercise the student did at t. \n"
   ]
  },
  {
   "cell_type": "code",
   "execution_count": 45,
   "metadata": {
    "collapsed": true
   },
   "outputs": [],
   "source": [
    "next_ex, next_perf, next_knowl = student_sample[t+1]"
   ]
  },
  {
   "cell_type": "code",
   "execution_count": 54,
   "metadata": {
    "collapsed": false
   },
   "outputs": [
    {
     "name": "stdout",
     "output_type": "stream",
     "text": [
      "0\n"
     ]
    }
   ],
   "source": [
    "print next_perf"
   ]
  },
  {
   "cell_type": "markdown",
   "metadata": {},
   "source": [
    "\\# actions corresponds to number of exercises. Right now, each exercise practices one concept. \n",
    "\n",
    "So \\# exercises = \\# concepts. "
   ]
  },
  {
   "cell_type": "code",
   "execution_count": 57,
   "metadata": {
    "collapsed": true
   },
   "outputs": [],
   "source": [
    "n_concepts = 10\n",
    "n_exercises = n_concepts"
   ]
  },
  {
   "cell_type": "code",
   "execution_count": 58,
   "metadata": {
    "collapsed": false
   },
   "outputs": [],
   "source": [
    "target_vec  = np.zeros(n_exercises)\n",
    "output_mask = np.zeros(n_exercises)"
   ]
  },
  {
   "cell_type": "code",
   "execution_count": 59,
   "metadata": {
    "collapsed": false
   },
   "outputs": [],
   "source": [
    "exercise_ix = np.argmax(next_ex) # for current data set, this works. In the future, if exercise doesn't correspond to just a single concept, we would have to use exercise IDs.\n",
    "output_mask[exercise_ix] = 1\n",
    "target_vec[exercise_ix] = next_perf"
   ]
  },
  {
   "cell_type": "code",
   "execution_count": 60,
   "metadata": {
    "collapsed": false
   },
   "outputs": [
    {
     "name": "stdout",
     "output_type": "stream",
     "text": [
      "[ 0.  0.  0.  0.  0.  0.  1.  0.  0.  0.]\n",
      "[ 0.  0.  0.  0.  0.  0.  0.  0.  0.  0.]\n"
     ]
    }
   ],
   "source": [
    "print output_mask\n",
    "print target_vec"
   ]
  },
  {
   "cell_type": "code",
   "execution_count": null,
   "metadata": {
    "collapsed": true
   },
   "outputs": [],
   "source": []
  }
 ],
 "metadata": {
  "kernelspec": {
   "display_name": "Python2 tf_venv shared",
   "language": "python",
   "name": "tf_venv"
  },
  "language_info": {
   "codemirror_mode": {
    "name": "ipython",
    "version": 2
   },
   "file_extension": ".py",
   "mimetype": "text/x-python",
   "name": "python",
   "nbconvert_exporter": "python",
   "pygments_lexer": "ipython2",
   "version": "2.7.12"
  }
 },
 "nbformat": 4,
 "nbformat_minor": 1
}
