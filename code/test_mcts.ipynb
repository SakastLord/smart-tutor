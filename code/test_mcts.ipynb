{
 "cells": [
  {
   "cell_type": "markdown",
   "metadata": {},
   "source": [
    "# Testing MCTS with Various Models\n",
    "Here we will test MCTS first with the DKT model"
   ]
  },
  {
   "cell_type": "code",
   "execution_count": 1,
   "metadata": {
    "collapsed": true
   },
   "outputs": [],
   "source": [
    "%load_ext autoreload\n",
    "%autoreload 2"
   ]
  },
  {
   "cell_type": "code",
   "execution_count": 19,
   "metadata": {
    "collapsed": true
   },
   "outputs": [],
   "source": [
    "%matplotlib inline\n",
    "import six\n",
    "import dynamics_model_class as dmc\n",
    "import mcts_tests as mc\n",
    "import mcts\n",
    "import model_training as mtrain\n",
    "import forwardsearch as fsearch\n",
    "import numpy as np\n",
    "import scipy as sp\n",
    "from matplotlib.pyplot import *\n",
    "import dataset_utils\n",
    "import tensorflow as tf\n",
    "import tflearn\n",
    "import time\n",
    "import copy\n",
    "\n",
    "from concept_dependency_graph import ConceptDependencyGraph\n",
    "import data_generator as dg\n",
    "from student import *\n",
    "import simple_mdp as sm"
   ]
  },
  {
   "cell_type": "code",
   "execution_count": 3,
   "metadata": {},
   "outputs": [
    {
     "name": "stdout",
     "output_type": "stream",
     "text": [
      "test2a-w4-n100000-l5-random.pickle\n"
     ]
    }
   ],
   "source": [
    "n_concepts = 4\n",
    "use_student2 = True\n",
    "transition_after = True\n",
    "student2_str = ('2' if use_student2 else '') + ('a' if use_student2 and transition_after else '')\n",
    "learn_prob = 0.5\n",
    "lp_str = '-lp{}'.format(int(learn_prob*100)) if not use_student2 else ''\n",
    "n_students = 100000\n",
    "seqlen = 5\n",
    "filter_mastery = False\n",
    "filter_str = '' if not filter_mastery else '-filtered'\n",
    "policy = 'random'\n",
    "epsilon = 0.3\n",
    "epsilon_str = '{:.2f}'.format(epsilon) if policy == 'egreedy' else ''\n",
    "filename = 'test{}-w{}-n{}-l{}{}-{}{}{}.pickle'.format(student2_str, n_concepts, n_students, seqlen,\n",
    "                                                    lp_str, policy, epsilon_str, filter_str)\n",
    "#concept_tree = sm.create_custom_dependency()\n",
    "concept_tree = ConceptDependencyGraph()\n",
    "concept_tree.init_default_tree(n_concepts)\n",
    "if not use_student2:\n",
    "    test_student = Student(n=n_concepts,p_trans_satisfied=learn_prob, p_trans_not_satisfied=0.0, p_get_ex_correct_if_concepts_learned=1.0)\n",
    "else:\n",
    "    test_student = Student2(n_concepts, transition_after=transition_after)\n",
    "six.print_(filename)"
   ]
  },
  {
   "cell_type": "code",
   "execution_count": 4,
   "metadata": {
    "collapsed": true
   },
   "outputs": [],
   "source": [
    "# Generates the data\n",
    "# Only run this cell if need to generate new data, otherwise skip this\n",
    "if False:\n",
    "    print (\"Initializing synthetic data sets...\")\n",
    "    dg.generate_data(concept_tree, student=test_student, n_students=n_students, filter_mastery=filter_mastery, seqlen=seqlen, policy=policy, epsilon=epsilon, filename=\"{}{}\".format(dg.SYN_DATA_DIR, filename))\n",
    "    print (\"Data generation completed. \")"
   ]
  },
  {
   "cell_type": "code",
   "execution_count": 5,
   "metadata": {
    "collapsed": true
   },
   "outputs": [],
   "source": [
    "# load toy data\n",
    "data = dataset_utils.load_data(filename='{}{}'.format(dg.SYN_DATA_DIR, filename))"
   ]
  },
  {
   "cell_type": "code",
   "execution_count": 6,
   "metadata": {},
   "outputs": [
    {
     "name": "stdout",
     "output_type": "stream",
     "text": [
      "Average posttest: 0.4380675\n",
      "Average sparse reward: 0.0\n",
      "Percent of full posttest score: 0.0\n",
      "Percent of all seen: 0.38158\n",
      "(array([0, 0, 1, 0]), False, array([ 1.,  0.,  0.,  0.]), array([1, 0, 0, 0, 0, 0, 0, 0]))\n",
      "(array([0, 0, 0, 1]), False, array([ 1.,  0.,  0.,  0.]), array([1, 0, 0, 0, 0, 0, 1, 0]))\n",
      "(array([0, 1, 0, 0]), False, array([ 1.,  0.,  0.,  0.]), array([1, 0, 0, 0, 0, 0, 1, 0]))\n",
      "(array([1, 0, 0, 0]), True, array([ 1.,  0.,  0.,  0.]), array([1, 0, 0, 0, 0, 1, 1, 0]))\n",
      "(array([0, 0, 1, 0]), False, array([ 1.,  0.,  1.,  0.]), array([1, 0, 0, 0, 1, 1, 1, 0]))\n"
     ]
    }
   ],
   "source": [
    "print('Average posttest: {}'.format(sm.expected_reward(data)))\n",
    "print('Average sparse reward: {}'.format(sm.expected_sparse_reward(data)))\n",
    "print('Percent of full posttest score: {}'.format(sm.percent_complete(data)))\n",
    "print('Percent of all seen: {}'.format(sm.percent_all_seen(data)))\n",
    "for t in data[0]:\n",
    "    six.print_(t)"
   ]
  },
  {
   "cell_type": "code",
   "execution_count": 7,
   "metadata": {},
   "outputs": [
    {
     "name": "stdout",
     "output_type": "stream",
     "text": [
      "(100000, 4, 8)\n",
      "(100000, 4, 4)\n",
      "(100000, 4, 4)\n",
      "[[ 0.  0.  0.  1.]\n",
      " [ 0.  1.  0.  0.]\n",
      " [ 1.  0.  0.  0.]\n",
      " [ 0.  0.  1.  0.]]\n",
      "[[ 0.  0.  0.  0.]\n",
      " [ 0.  0.  0.  0.]\n",
      " [ 1.  0.  0.  0.]\n",
      " [ 0.  0.  0.  0.]]\n"
     ]
    }
   ],
   "source": [
    "input_data_, output_mask_, target_data_ = dataset_utils.preprocess_data_for_rnn(data)\n",
    "\n",
    "six.print_(input_data_.shape)\n",
    "six.print_(output_mask_.shape)\n",
    "six.print_(target_data_.shape)\n",
    "six.print_(output_mask_[0,:,:])\n",
    "six.print_(target_data_[0,:,:])"
   ]
  },
  {
   "cell_type": "code",
   "execution_count": 8,
   "metadata": {
    "collapsed": true
   },
   "outputs": [],
   "source": [
    "# test_model hidden=16\n",
    "# test_model_mid hidden=10\n",
    "# test_model_small hidden=5\n",
    "# test_model_tiny hidden=3\n",
    "model_id = \"test2_modelgrusimple_mid\"\n",
    "dmodel = dmc.DynamicsModel(model_id=model_id, timesteps=seqlen-1, dropout=1.0, load_checkpoint=False)\n",
    "#dmodel2 = dmc.DynamicsModel(model_id=model_id, timesteps=seqlen-1, dropout=1.0, load_checkpoint=False)"
   ]
  },
  {
   "cell_type": "code",
   "execution_count": 9,
   "metadata": {
    "collapsed": true
   },
   "outputs": [],
   "source": [
    "# extract out the training states\n",
    "class ExtractCallback(tflearn.callbacks.Callback):\n",
    "    def __init__(self):\n",
    "        self.tstates = []\n",
    "    def on_epoch_begin(self,ts):\n",
    "        self.tstates.append([])\n",
    "    def on_batch_end(self,ts,snapshot):\n",
    "        self.tstates[-1].append(copy.copy(ts))\n",
    "ecall = ExtractCallback()"
   ]
  },
  {
   "cell_type": "code",
   "execution_count": 10,
   "metadata": {
    "scrolled": true
   },
   "outputs": [
    {
     "name": "stdout",
     "output_type": "stream",
     "text": [
      "Training Step: 35174  | total loss: \u001b[1m\u001b[32m0.00695\u001b[0m\u001b[0m | time: 5.353s\n",
      "| Adam | epoch: 025 | loss: 0.00695 -- iter: 89984/90000\n",
      "Training Step: 35175  | total loss: \u001b[1m\u001b[32m0.00626\u001b[0m\u001b[0m | time: 6.504s\n",
      "| Adam | epoch: 025 | loss: 0.00626 | val_loss: 0.00000 -- iter: 90000/90000\n",
      "--\n"
     ]
    }
   ],
   "source": [
    "num_epoch_batch = 1\n",
    "num_epoch_per_batch = 25\n",
    "for eb in six.moves.range(num_epoch_batch):\n",
    "    # add noise to each batch\n",
    "    processed_input_data = input_data_ + 0.00*np.random.randn(*input_data_.shape)\n",
    "    train_data = (processed_input_data[:,:,:], output_mask_[:,:,:], target_data_[:,:,:])\n",
    "    dmodel.train(train_data,\n",
    "                 n_epoch=num_epoch_per_batch,\n",
    "                 callbacks=ecall,\n",
    "                 load_checkpoint=False,\n",
    "                 shuffle=True,\n",
    "                 validation_set=0.1,\n",
    "                 batch_size=None)\n",
    "    #dmodel2.train(train_data,\n",
    "    #             n_epoch=num_epoch_per_batch,\n",
    "    #             callbacks=ecall,\n",
    "    #             load_checkpoint=False,\n",
    "    #             shuffle=True,\n",
    "    #             validation_set=0.1,\n",
    "    #            batch_size=None)"
   ]
  },
  {
   "cell_type": "code",
   "execution_count": 11,
   "metadata": {},
   "outputs": [
    {
     "name": "stdout",
     "output_type": "stream",
     "text": [
      "Train Loss Limit: 0.00008501\n",
      "Val Loss Limit: 0.00000032 Thresh: 0.00000132\n"
     ]
    },
    {
     "data": {
      "text/plain": [
       "(0, 0.0002)"
      ]
     },
     "execution_count": 11,
     "metadata": {},
     "output_type": "execute_result"
    },
    {
     "data": {
      "image/png": "[encoded data removed]",
      "text/plain": [
       "<matplotlib.figure.Figure at 0x7fa265af7240>"
      ]
     },
     "metadata": {},
     "output_type": "display_data"
    }
   ],
   "source": [
    "# binary crossentropy doesn't work\n",
    "train_loss = np.array([np.mean([ts.global_loss for ts in batch]) for batch in ecall.tstates])\n",
    "val_loss = np.array([batch[-1].val_loss if batch[-1].val_loss is not None else 0.0 for batch in ecall.tstates])\n",
    "figure()\n",
    "plot(train_loss)\n",
    "plot(val_loss)\n",
    "last_val_loss = np.mean(val_loss[-2:])\n",
    "val_loss_thres = last_val_loss + 0.000001\n",
    "last_train_loss = np.mean(train_loss[-2:])\n",
    "#xlim(40,50)\n",
    "six.print_('Train Loss Limit: {:.8f}'.format(last_train_loss))\n",
    "six.print_('Val Loss Limit: {:.8f} Thresh: {:.8f}'.format(last_val_loss, val_loss_thres))\n",
    "plot([0,train_loss.shape[0]], [last_val_loss,last_val_loss], color='#ff0000')\n",
    "plot([0,train_loss.shape[0]], [val_loss_thres,val_loss_thres], color='#ff0000')\n",
    "#ylim(last_val_loss - 0.00001, last_val_loss + 0.00002)\n",
    "ylim(0,0.0002)"
   ]
  },
  {
   "cell_type": "code",
   "execution_count": 12,
   "metadata": {},
   "outputs": [
    {
     "name": "stdout",
     "output_type": "stream",
     "text": [
      "[[[ 0.  0.  0.  0.  0.  1.  0.  0.]\n",
      "  [ 1.  0.  0.  0.  0.  0.  0.  0.]\n",
      "  [ 1.  0.  0.  0.  0.  0.  0.  0.]\n",
      "  [ 1.  0.  0.  0.  0.  0.  0.  0.]]]\n",
      "(array([0, 0, 1, 0]), False, array([ 1.,  0.,  0.,  0.]), array([1, 0, 0, 0, 1, 1, 0, 0]))\n",
      "[[[  9.99985218e-01   5.04969212e-04   1.54847169e-06   1.31130691e-05]\n",
      "  [  9.99995470e-01   9.66183579e-05   3.82032226e-07   1.90812625e-06]\n",
      "  [  9.99994874e-01   5.48062162e-05   3.45816744e-07   1.80507800e-06]\n",
      "  [  9.99993443e-01   2.35758762e-05   3.82853955e-07   1.74886941e-06]]]\n",
      "Next observation: [ 1.  0.  0.  0.  0.  0.  0.  0.]\n",
      "Next prediction: 1.0000 0.0000 0.0000 0.0000\n",
      "Next observation: [ 0.  1.  0.  0.  0.  0.  0.  0.]\n",
      "Next prediction: 1.0000 0.0000 0.0000 0.0000\n",
      "Next observation: [ 0.  0.  1.  0.  0.  0.  0.  0.]\n",
      "Next prediction: 1.0000 0.0000 0.0000 0.0000\n",
      "Next observation: [ 0.  0.  0.  1.  0.  0.  0.  0.]\n",
      "Next prediction: 1.0000 0.0000 0.0000 0.0000\n",
      "Next observation: [ 0.  0.  0.  0.  1.  0.  0.  0.]\n",
      "Next prediction: 1.0000 0.0000 0.0000 0.0000\n",
      "Next observation: [ 0.  0.  0.  0.  0.  1.  0.  0.]\n",
      "Next prediction: 1.0000 0.0000 0.0000 0.0000\n",
      "Next observation: [ 0.  0.  0.  0.  0.  0.  1.  0.]\n",
      "Next prediction: 1.0000 0.0000 0.0000 0.0000\n",
      "Next observation: [ 0.  0.  0.  0.  0.  0.  0.  1.]\n",
      "Next prediction: 1.0000 0.0000 0.0000 0.0000\n"
     ]
    }
   ],
   "source": [
    "# predict a bit\n",
    "dataix = 4\n",
    "test_input_data = input_data_[dataix:dataix+1,:,:]\n",
    "six.print_(test_input_data)\n",
    "six.print_(data[dataix][-1])\n",
    "prediction = dmodel.predict(test_input_data)\n",
    "six.print_(prediction)\n",
    "# add one observation of each type and see what the predictions are\n",
    "for nexta in six.moves.range(n_concepts*2):\n",
    "    obvec = np.zeros((n_concepts*2,))\n",
    "    obvec[nexta] = 1.0\n",
    "    #six.print_(test_input_data[0,:,:].shape)\n",
    "    #six.print_(obvec[np.newaxis,:].shape)\n",
    "    test_input_data2 = np.vstack((test_input_data[0,:,:],obvec[np.newaxis,:]))\n",
    "    six.print_('Next observation: {}'.format(obvec))\n",
    "    prediction = dmodel.predict(test_input_data2[np.newaxis,:,:])\n",
    "    #prediction2 = dmodel2.predict(test_input_data2[np.newaxis,:,:])\n",
    "    six.print_('Next prediction: ' + ' '.join('{:.4f}'.format(x) for x in prediction[0,seqlen-2,:]))\n",
    "    #six.print_('Next prediction2: ' + ' '.join('{:.4f}'.format(x) for x in prediction2[0,seqlen-2,:]))"
   ]
  },
  {
   "cell_type": "code",
   "execution_count": 13,
   "metadata": {},
   "outputs": [
    {
     "name": "stdout",
     "output_type": "stream",
     "text": [
      "WARNING:tensorflow:Error encountered when serializing layer_tensor/gru_1.\n",
      "Type is unsupported, or the types of the items don't match field type in CollectionDef.\n",
      "'list' object has no attribute 'name'\n"
     ]
    }
   ],
   "source": [
    "# save the model to a checkpoint file\n",
    "chkpt = 'tempmodel'\n",
    "dmodel.save(chkpt)\n",
    "\n",
    "#chkpt2 = 'tempmodel2'\n",
    "#dmodel2.save(chkpt2)"
   ]
  },
  {
   "cell_type": "code",
   "execution_count": 17,
   "metadata": {},
   "outputs": [
    {
     "name": "stdout",
     "output_type": "stream",
     "text": [
      "Time Elapsed 2.574920654296875e-05\n"
     ]
    }
   ],
   "source": [
    "# test memoization\n",
    "mem_chkpt = 'mem_tempmodel.npz'\n",
    "starttime = time.time()\n",
    "mtrain.dkt_memoize_single(n_concepts, model_id, chkpt, 6, mem_chkpt)\n",
    "endtime = time.time()\n",
    "six.print_('Time Elapsed {}'.format(endtime - starttime))"
   ]
  },
  {
   "cell_type": "code",
   "execution_count": 18,
   "metadata": {},
   "outputs": [
    {
     "name": "stdout",
     "output_type": "stream",
     "text": [
      "Time Elapsed 36.59656596183777\n",
      "Acc: 0.0 Best Q: 0.01673514956945923\n"
     ]
    }
   ],
   "source": [
    "# test the model on the real environment\n",
    "test_horizon = 6\n",
    "n_rollouts = 3000\n",
    "n_trajectories = 8\n",
    "r_type = mcts.SPARSE\n",
    "\n",
    "test_student = Student2(n_concepts, transition_after=transition_after)\n",
    "test_student.reset()\n",
    "test_student.knowledge[0] = 1 # initialize the first concept to be known\n",
    "sim = StudentExactSim(test_student.copy(), concept_tree)\n",
    "\n",
    "starttime = time.time()\n",
    "acc, bestq = mc.test_dkt_chunk(\n",
    "    n_trajectories, concept_tree, sim, model_id, [mem_chkpt],\n",
    "    test_horizon, n_rollouts, r_type, use_real=True, use_mem=True)\n",
    "endtime = time.time()\n",
    "six.print_('Time Elapsed {}'.format(endtime - starttime))\n",
    "six.print_('Acc: {} Best Q: {}'.format(acc, bestq))"
   ]
  },
  {
   "cell_type": "code",
   "execution_count": 48,
   "metadata": {},
   "outputs": [
    {
     "name": "stdout",
     "output_type": "stream",
     "text": [
      "Semisparse Value 1.0\n",
      "Spares Value 1.0\n",
      "Semisparse Value Sim 1.0\n",
      "Sparse Value Sim 1.0\n",
      "Semisparse Q-Values along sim trajectory [(3, array([ 0.75,  0.75,  0.75,  1.  ])), (3, array([ 0.75,  0.75,  0.75,  1.  ])), (2, array([ 0.75,  0.75,  1.  ,  1.  ])), (2, array([ 0.75,  0.75,  1.  ,  1.  ])), (1, array([ 0.75,  1.  ,  1.  ,  0.75])), (1, array([ 0.75,  1.  ,  1.  ,  0.75]))]\n",
      "Sparse Q-Values along sim trajectory [(3, array([ 0.,  0.,  0.,  1.])), (3, array([ 0.,  0.,  0.,  1.])), (2, array([ 0.,  0.,  1.,  1.])), (2, array([ 0.,  0.,  1.,  1.])), (1, array([ 0.,  1.,  1.,  0.])), (1, array([ 0.,  1.,  1.,  0.]))]\n",
      "Semisparse Sim Q-Values along sim trajectory [(3, array([ 0.75,  0.75,  0.75,  1.  ])), (3, array([ 0.75,  0.75,  0.75,  1.  ])), (2, array([ 0.75,  0.75,  1.  ,  1.  ])), (2, array([ 0.75,  0.75,  1.  ,  1.  ])), (1, array([ 0.75,  1.  ,  1.  ,  0.75])), (1, array([ 0.75,  1.  ,  1.  ,  0.75]))]\n",
      "Sparse Sim Q-Values along sim trajectory [(3, array([ 0.,  0.,  0.,  1.])), (3, array([ 0.,  0.,  0.,  1.])), (2, array([ 0.,  0.,  1.,  1.])), (2, array([ 0.,  0.,  1.,  1.])), (1, array([ 0.,  1.,  1.,  0.])), (1, array([ 0.,  1.,  1.,  0.]))]\n",
      "Time Elapsed 29.878859996795654\n"
     ]
    }
   ],
   "source": [
    "# test out forward search\n",
    "starttime = time.time()\n",
    "\n",
    "\n",
    "# first load mem arrays\n",
    "mem_arrays = np.load(mem_chkpt)['mem_arrays']\n",
    "\n",
    "sim = RnnStudent2SimExact(concept_tree)\n",
    "sim2 = sim.copy()\n",
    "dkt = dmc.RnnStudentSimMemEnsemble(n_concepts, [mem_arrays])\n",
    "\n",
    "#fsearch.dkt_forwardsearch_single(n_concepts, dkt, sim, 6)\n",
    "\n",
    "fsearch.dkt_forwardsearch_single(n_concepts, sim2, sim, 6)\n",
    "\n",
    "endtime = time.time()\n",
    "six.print_('Time Elapsed {}'.format(endtime - starttime))"
   ]
  },
  {
   "cell_type": "code",
   "execution_count": null,
   "metadata": {
    "collapsed": true
   },
   "outputs": [],
   "source": []
  }
 ],
 "metadata": {
  "kernelspec": {
   "display_name": "Python 3",
   "language": "python",
   "name": "python3"
  },
  "language_info": {
   "codemirror_mode": {
    "name": "ipython",
    "version": 3
   },
   "file_extension": ".py",
   "mimetype": "text/x-python",
   "name": "python",
   "nbconvert_exporter": "python",
   "pygments_lexer": "ipython3",
   "version": "3.6.2"
  }
 },
 "nbformat": 4,
 "nbformat_minor": 2
}
