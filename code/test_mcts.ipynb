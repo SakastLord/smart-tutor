{
 "cells": [
  {
   "cell_type": "markdown",
   "metadata": {},
   "source": [
    "# Testing MCTS with Various Models\n",
    "Here we will test MCTS first with the DKT model"
   ]
  },
  {
   "cell_type": "code",
   "execution_count": 1,
   "metadata": {
    "collapsed": true
   },
   "outputs": [],
   "source": [
    "%load_ext autoreload\n",
    "%autoreload 2"
   ]
  },
  {
   "cell_type": "code",
   "execution_count": 2,
   "metadata": {
    "collapsed": true
   },
   "outputs": [],
   "source": [
    "%matplotlib inline\n",
    "import six\n",
    "import dynamics_model_class as dmc\n",
    "import mcts_tests as mc\n",
    "import mcts\n",
    "import numpy as np\n",
    "import scipy as sp\n",
    "from matplotlib.pyplot import *\n",
    "import dataset_utils\n",
    "import tensorflow as tf\n",
    "import tflearn\n",
    "import time\n",
    "import copy\n",
    "\n",
    "from concept_dependency_graph import ConceptDependencyGraph\n",
    "import data_generator as dg\n",
    "from student import *\n",
    "import simple_mdp as sm"
   ]
  },
  {
   "cell_type": "code",
   "execution_count": 14,
   "metadata": {},
   "outputs": [
    {
     "name": "stdout",
     "output_type": "stream",
     "text": [
      "test2a-w5-n100000-l7-random.pickle\n"
     ]
    }
   ],
   "source": [
    "n_concepts = 5\n",
    "use_student2 = True\n",
    "transition_after = True\n",
    "student2_str = ('2' if use_student2 else '') + ('a' if use_student2 and transition_after else '')\n",
    "learn_prob = 0.5\n",
    "lp_str = '-lp{}'.format(int(learn_prob*100)) if not use_student2 else ''\n",
    "n_students = 100000\n",
    "seqlen = 7\n",
    "filter_mastery = False\n",
    "filter_str = '' if not filter_mastery else '-filtered'\n",
    "policy = 'random'\n",
    "epsilon = 0.3\n",
    "epsilon_str = '{:.2f}'.format(epsilon) if policy == 'egreedy' else ''\n",
    "filename = 'test{}-w{}-n{}-l{}{}-{}{}{}.pickle'.format(student2_str, n_concepts, n_students, seqlen,\n",
    "                                                    lp_str, policy, epsilon_str, filter_str)\n",
    "#concept_tree = sm.create_custom_dependency()\n",
    "concept_tree = ConceptDependencyGraph()\n",
    "concept_tree.init_default_tree(n_concepts)\n",
    "if not use_student2:\n",
    "    test_student = Student(n=n_concepts,p_trans_satisfied=learn_prob, p_trans_not_satisfied=0.0, p_get_ex_correct_if_concepts_learned=1.0)\n",
    "else:\n",
    "    test_student = Student2(n_concepts, transition_after=transition_after)\n",
    "six.print_(filename)"
   ]
  },
  {
   "cell_type": "code",
   "execution_count": 15,
   "metadata": {
    "collapsed": true
   },
   "outputs": [],
   "source": [
    "# Generates the data\n",
    "# Only run this cell if need to generate new data, otherwise skip this\n",
    "if False:\n",
    "    print (\"Initializing synthetic data sets...\")\n",
    "    dg.generate_data(concept_tree, student=test_student, n_students=n_students, filter_mastery=filter_mastery, seqlen=seqlen, policy=policy, epsilon=epsilon, filename=\"{}{}\".format(dg.SYN_DATA_DIR, filename))\n",
    "    print (\"Data generation completed. \")"
   ]
  },
  {
   "cell_type": "code",
   "execution_count": 16,
   "metadata": {
    "collapsed": true
   },
   "outputs": [],
   "source": [
    "# load toy data\n",
    "data = dataset_utils.load_data(filename='{}{}'.format(dg.SYN_DATA_DIR, filename))"
   ]
  },
  {
   "cell_type": "code",
   "execution_count": 17,
   "metadata": {},
   "outputs": [
    {
     "name": "stdout",
     "output_type": "stream",
     "text": [
      "Average posttest: 0.38289600000025203\n",
      "Average sparse reward: 0.0\n",
      "Percent of full posttest score: 0.0\n",
      "Percent of all seen: 0.3236\n",
      "(array([0, 1, 0, 0, 0]), False, array([ 1.,  0.,  0.,  0.,  0.]), array([1, 0, 0, 0, 0, 0, 0, 0, 0, 0]))\n",
      "(array([1, 0, 0, 0, 0]), True, array([ 1.,  0.,  0.,  0.,  0.]), array([1, 0, 0, 0, 0, 0, 1, 0, 0, 0]))\n",
      "(array([0, 0, 1, 0, 0]), False, array([ 1.,  0.,  0.,  0.,  0.]), array([1, 0, 0, 0, 0, 1, 1, 0, 0, 0]))\n",
      "(array([1, 0, 0, 0, 0]), True, array([ 1.,  0.,  0.,  0.,  0.]), array([1, 0, 0, 0, 0, 1, 1, 1, 0, 0]))\n",
      "(array([0, 0, 0, 0, 1]), False, array([ 1.,  0.,  0.,  0.,  0.]), array([1, 0, 0, 0, 0, 1, 1, 1, 0, 0]))\n",
      "(array([1, 0, 0, 0, 0]), True, array([ 1.,  0.,  0.,  0.,  0.]), array([1, 0, 0, 0, 0, 1, 1, 1, 0, 0]))\n",
      "(array([0, 1, 0, 0, 0]), False, array([ 1.,  1.,  0.,  0.,  0.]), array([1, 0, 0, 0, 0, 1, 1, 1, 0, 0]))\n"
     ]
    }
   ],
   "source": [
    "print('Average posttest: {}'.format(sm.expected_reward(data)))\n",
    "print('Average sparse reward: {}'.format(sm.expected_sparse_reward(data)))\n",
    "print('Percent of full posttest score: {}'.format(sm.percent_complete(data)))\n",
    "print('Percent of all seen: {}'.format(sm.percent_all_seen(data)))\n",
    "for t in data[0]:\n",
    "    six.print_(t)"
   ]
  },
  {
   "cell_type": "code",
   "execution_count": 18,
   "metadata": {},
   "outputs": [
    {
     "name": "stdout",
     "output_type": "stream",
     "text": [
      "(100000, 6, 10)\n",
      "(100000, 6, 5)\n",
      "(100000, 6, 5)\n",
      "[[ 1.  0.  0.  0.  0.]\n",
      " [ 0.  0.  1.  0.  0.]\n",
      " [ 1.  0.  0.  0.  0.]\n",
      " [ 0.  0.  0.  0.  1.]\n",
      " [ 1.  0.  0.  0.  0.]\n",
      " [ 0.  1.  0.  0.  0.]]\n",
      "[[ 1.  0.  0.  0.  0.]\n",
      " [ 0.  0.  0.  0.  0.]\n",
      " [ 1.  0.  0.  0.  0.]\n",
      " [ 0.  0.  0.  0.  0.]\n",
      " [ 1.  0.  0.  0.  0.]\n",
      " [ 0.  0.  0.  0.  0.]]\n"
     ]
    }
   ],
   "source": [
    "input_data_, output_mask_, target_data_ = dataset_utils.preprocess_data_for_rnn(data)\n",
    "\n",
    "six.print_(input_data_.shape)\n",
    "six.print_(output_mask_.shape)\n",
    "six.print_(target_data_.shape)\n",
    "six.print_(output_mask_[0,:,:])\n",
    "six.print_(target_data_[0,:,:])"
   ]
  },
  {
   "cell_type": "code",
   "execution_count": 19,
   "metadata": {},
   "outputs": [
    {
     "name": "stdout",
     "output_type": "stream",
     "text": [
      "Loading RNN dynamics model...\n",
      "Directory path for tensorboard summaries: ../tensorboard_logs/test2w5_modelgrusimple_mid/\n",
      "Checkpoint directory path: ../checkpoints/test2w5_modelgrusimple_mid/\n",
      "Model loaded.\n"
     ]
    }
   ],
   "source": [
    "# test_model hidden=16\n",
    "# test_model_mid hidden=10\n",
    "# test_model_small hidden=5\n",
    "# test_model_tiny hidden=3\n",
    "model_id = \"test2w5_modelgrusimple_mid\"\n",
    "dmodel = dmc.DynamicsModel(model_id=model_id, timesteps=seqlen-1, dropout=1.0, load_checkpoint=False)"
   ]
  },
  {
   "cell_type": "code",
   "execution_count": 20,
   "metadata": {
    "collapsed": true
   },
   "outputs": [],
   "source": [
    "# extract out the training states\n",
    "class ExtractCallback(tflearn.callbacks.Callback):\n",
    "    def __init__(self):\n",
    "        self.tstates = []\n",
    "    def on_epoch_begin(self,ts):\n",
    "        self.tstates.append([])\n",
    "    def on_batch_end(self,ts,snapshot):\n",
    "        self.tstates[-1].append(copy.copy(ts))\n",
    "ecall = ExtractCallback()"
   ]
  },
  {
   "cell_type": "code",
   "execution_count": 21,
   "metadata": {
    "scrolled": true
   },
   "outputs": [
    {
     "name": "stdout",
     "output_type": "stream",
     "text": [
      "Training Step: 112559  | total loss: \u001b[1m\u001b[32m0.00001\u001b[0m\u001b[0m | time: 6.343s\n",
      "| Adam | epoch: 080 | loss: 0.00001 -- iter: 89984/90000\n",
      "Training Step: 112560  | total loss: \u001b[1m\u001b[32m0.00001\u001b[0m\u001b[0m | time: 7.514s\n",
      "| Adam | epoch: 080 | loss: 0.00001 | val_loss: 0.00000 -- iter: 90000/90000\n",
      "--\n"
     ]
    }
   ],
   "source": [
    "num_epoch_batch = 80\n",
    "num_epoch_per_batch = 1\n",
    "for eb in six.moves.range(num_epoch_batch):\n",
    "    # add noise to each batch\n",
    "    processed_input_data = input_data_ + 0.1*np.random.randn(*input_data_.shape)\n",
    "    train_data = (processed_input_data[:,:,:], output_mask_[:,:,:], target_data_[:,:,:])\n",
    "    dmodel.train(train_data,\n",
    "                 n_epoch=num_epoch_per_batch,\n",
    "                 callbacks=ecall,\n",
    "                 load_checkpoint=False,\n",
    "                 shuffle=True,\n",
    "                 validation_set=0.1,\n",
    "                batch_size=None)"
   ]
  },
  {
   "cell_type": "code",
   "execution_count": 24,
   "metadata": {},
   "outputs": [
    {
     "name": "stdout",
     "output_type": "stream",
     "text": [
      "Train Loss Limit: 0.00003690\n",
      "Val Loss Limit: 0.00000416 Thresh: 0.00000516\n"
     ]
    },
    {
     "data": {
      "text/plain": [
       "(0, 0.0001)"
      ]
     },
     "execution_count": 24,
     "metadata": {},
     "output_type": "execute_result"
    },
    {
     "data": {
      "image/png": "[encoded data removed]",
      "text/plain": [
       "<matplotlib.figure.Figure at 0x7f3622e3ef28>"
      ]
     },
     "metadata": {},
     "output_type": "display_data"
    }
   ],
   "source": [
    "# binary crossentropy doesn't work\n",
    "train_loss = np.array([np.mean([ts.global_loss for ts in batch]) for batch in ecall.tstates])\n",
    "val_loss = np.array([batch[-1].val_loss if batch[-1].val_loss is not None else 0.0 for batch in ecall.tstates])\n",
    "figure()\n",
    "plot(train_loss)\n",
    "plot(val_loss)\n",
    "last_val_loss = np.mean(val_loss[-2:])\n",
    "val_loss_thres = last_val_loss + 0.000001\n",
    "last_train_loss = np.mean(train_loss[-2:])\n",
    "#xlim(40,50)\n",
    "six.print_('Train Loss Limit: {:.8f}'.format(last_train_loss))\n",
    "six.print_('Val Loss Limit: {:.8f} Thresh: {:.8f}'.format(last_val_loss, val_loss_thres))\n",
    "plot([0,train_loss.shape[0]], [last_val_loss,last_val_loss], color='#ff0000')\n",
    "plot([0,train_loss.shape[0]], [val_loss_thres,val_loss_thres], color='#ff0000')\n",
    "#ylim(last_val_loss - 0.00001, last_val_loss + 0.00002)\n",
    "ylim(0,0.0001)"
   ]
  },
  {
   "cell_type": "code",
   "execution_count": 24,
   "metadata": {},
   "outputs": [
    {
     "name": "stdout",
     "output_type": "stream",
     "text": [
      "[[[ 0.  0.  0.  0.  0.  0.  0.  1.  0.  0.]\n",
      "  [ 0.  0.  0.  0.  0.  0.  0.  0.  1.  0.]\n",
      "  [ 0.  0.  0.  0.  0.  0.  1.  0.  0.  0.]\n",
      "  [ 0.  0.  0.  0.  0.  0.  1.  0.  0.  0.]\n",
      "  [ 1.  0.  0.  0.  0.  0.  0.  0.  0.  0.]\n",
      "  [ 1.  0.  0.  0.  0.  0.  0.  0.  0.  0.]]]\n",
      "(array([0, 0, 0, 0, 1]), False, array([ 1.,  1.,  0.,  0.,  0.]), array([1, 1, 0, 0, 0, 1, 1, 1, 0, 0]))\n",
      "[[[  9.99822438e-01   3.92167067e-06   4.12475783e-03   3.87934688e-06\n",
      "     2.63397524e-05]\n",
      "  [  9.99985218e-01   2.51906130e-07   2.31746326e-05   8.71357670e-08\n",
      "     3.77694141e-06]\n",
      "  [  9.99998450e-01   4.03231039e-04   1.42168437e-05   7.47866338e-08\n",
      "     3.27575253e-06]\n",
      "  [  9.99999166e-01   9.99933243e-01   1.59054558e-04   1.67696396e-06\n",
      "     3.30989715e-05]\n",
      "  [  9.99998927e-01   9.99973893e-01   3.06013389e-04   2.17467209e-06\n",
      "     4.91370120e-05]\n",
      "  [  9.99998808e-01   9.99984860e-01   4.91819577e-04   2.60757793e-06\n",
      "     6.27070258e-05]]]\n",
      "Next observation: [ 1.  0.  0.  0.  0.  0.  0.  0.  0.  0.]\n",
      "Next prediction: 1.0000 1.0000 0.0005 0.0000 0.0001\n",
      "Next observation: [ 0.  1.  0.  0.  0.  0.  0.  0.  0.  0.]\n",
      "Next prediction: 1.0000 1.0000 0.0005 0.0000 0.0001\n",
      "Next observation: [ 0.  0.  1.  0.  0.  0.  0.  0.  0.  0.]\n",
      "Next prediction: 1.0000 1.0000 0.0005 0.0000 0.0001\n",
      "Next observation: [ 0.  0.  0.  1.  0.  0.  0.  0.  0.  0.]\n",
      "Next prediction: 1.0000 1.0000 0.0005 0.0000 0.0001\n",
      "Next observation: [ 0.  0.  0.  0.  1.  0.  0.  0.  0.  0.]\n",
      "Next prediction: 1.0000 1.0000 0.0005 0.0000 0.0001\n",
      "Next observation: [ 0.  0.  0.  0.  0.  1.  0.  0.  0.  0.]\n",
      "Next prediction: 1.0000 1.0000 0.0005 0.0000 0.0001\n",
      "Next observation: [ 0.  0.  0.  0.  0.  0.  1.  0.  0.  0.]\n",
      "Next prediction: 1.0000 1.0000 0.0005 0.0000 0.0001\n",
      "Next observation: [ 0.  0.  0.  0.  0.  0.  0.  1.  0.  0.]\n",
      "Next prediction: 1.0000 1.0000 0.0005 0.0000 0.0001\n",
      "Next observation: [ 0.  0.  0.  0.  0.  0.  0.  0.  1.  0.]\n",
      "Next prediction: 1.0000 1.0000 0.0005 0.0000 0.0001\n",
      "Next observation: [ 0.  0.  0.  0.  0.  0.  0.  0.  0.  1.]\n",
      "Next prediction: 1.0000 1.0000 0.0005 0.0000 0.0001\n"
     ]
    }
   ],
   "source": [
    "# predict a bit\n",
    "dataix = 4\n",
    "test_input_data = input_data_[dataix:dataix+1,:,:]\n",
    "six.print_(test_input_data)\n",
    "six.print_(data[dataix][-1])\n",
    "prediction = dmodel.predict(test_input_data)\n",
    "six.print_(prediction)\n",
    "# add one observation of each type and see what the predictions are\n",
    "for nexta in six.moves.range(n_concepts*2):\n",
    "    obvec = np.zeros((n_concepts*2,))\n",
    "    obvec[nexta] = 1.0\n",
    "    #six.print_(test_input_data[0,:,:].shape)\n",
    "    #six.print_(obvec[np.newaxis,:].shape)\n",
    "    test_input_data2 = np.vstack((test_input_data[0,:,:],obvec[np.newaxis,:]))\n",
    "    six.print_('Next observation: {}'.format(obvec))\n",
    "    prediction = dmodel.predict(test_input_data2[np.newaxis,:,:])\n",
    "    six.print_('Next prediction: ' + ' '.join('{:.4f}'.format(x) for x in prediction[0,seqlen-2,:]))"
   ]
  },
  {
   "cell_type": "code",
   "execution_count": 25,
   "metadata": {},
   "outputs": [
    {
     "name": "stdout",
     "output_type": "stream",
     "text": [
      "WARNING:tensorflow:Error encountered when serializing layer_tensor/gru_1.\n",
      "Type is unsupported, or the types of the items don't match field type in CollectionDef.\n",
      "'list' object has no attribute 'name'\n"
     ]
    }
   ],
   "source": [
    "# save the model to a checkpoint file\n",
    "chkpt = 'tempmodel'\n",
    "dmodel.save(chkpt)"
   ]
  },
  {
   "cell_type": "code",
   "execution_count": 28,
   "metadata": {},
   "outputs": [
    {
     "name": "stdout",
     "output_type": "stream",
     "text": [
      "Loading RNN dynamics model...\n",
      "Directory path for tensorboard summaries: ../tensorboard_logs/test2w5_modelgrusimple_mid/\n",
      "Checkpoint directory path: ../checkpoints/test2w5_modelgrusimple_mid/\n",
      "Model loaded.\n",
      "INFO:tensorflow:Restoring parameters from D:\\Projects\\smart-tutor\\code\\tempmodel\n",
      "Time Elapsed 128.44826292991638\n"
     ]
    }
   ],
   "source": [
    "# test the model on the real environment\n",
    "test_horizon = 8\n",
    "n_rollouts = 3000\n",
    "n_trajectories = 8\n",
    "r_type = mcts.SPARSE\n",
    "\n",
    "test_student = Student2(n_concepts, transition_after=transition_after)\n",
    "test_student.reset()\n",
    "test_student.knowledge[0] = 1 # initialize the first concept to be known\n",
    "sim = StudentExactSim(test_student.copy(), concept_tree)\n",
    "\n",
    "starttime = time.time()\n",
    "mc.test_dkt_chunk(n_trajectories, concept_tree, sim, model_id, chkpt, test_horizon, n_rollouts, r_type)\n",
    "#mc.test_dkt(model_id, n_concepts, transition_after, test_horizon, n_rollouts, n_trajectories, r_type, True, chkpt=chkpt)\n",
    "endtime = time.time()\n",
    "six.print_('Time Elapsed {}'.format(endtime - starttime))"
   ]
  },
  {
   "cell_type": "code",
   "execution_count": null,
   "metadata": {
    "collapsed": true
   },
   "outputs": [],
   "source": []
  }
 ],
 "metadata": {
  "kernelspec": {
   "display_name": "Python 3",
   "language": "python",
   "name": "python3"
  },
  "language_info": {
   "codemirror_mode": {
    "name": "ipython",
    "version": 3
   },
   "file_extension": ".py",
   "mimetype": "text/x-python",
   "name": "python",
   "nbconvert_exporter": "python",
   "pygments_lexer": "ipython3",
   "version": "3.6.2"
  }
 },
 "nbformat": 4,
 "nbformat_minor": 2
}
