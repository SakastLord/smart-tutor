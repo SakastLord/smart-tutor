{
 "cells": [
  {
   "cell_type": "markdown",
   "metadata": {},
   "source": [
    "# Testing MCTS with Various Models\n",
    "Here we will test MCTS first with the DKT model"
   ]
  },
  {
   "cell_type": "code",
   "execution_count": 1,
   "metadata": {
    "collapsed": true
   },
   "outputs": [],
   "source": [
    "%load_ext autoreload\n",
    "%autoreload 2"
   ]
  },
  {
   "cell_type": "code",
   "execution_count": 30,
   "metadata": {
    "collapsed": true
   },
   "outputs": [],
   "source": [
    "%matplotlib inline\n",
    "import six\n",
    "import dynamics_model_class as dmc\n",
    "import mcts_tests as mc\n",
    "import mcts\n",
    "import numpy as np\n",
    "import scipy as sp\n",
    "from matplotlib.pyplot import *\n",
    "import dataset_utils\n",
    "import tensorflow as tf\n",
    "import tflearn\n",
    "import time\n",
    "import copy\n",
    "\n",
    "from concept_dependency_graph import ConceptDependencyGraph\n",
    "import data_generator as dg\n",
    "from student import *\n",
    "import simple_mdp as sm"
   ]
  },
  {
   "cell_type": "code",
   "execution_count": 5,
   "metadata": {},
   "outputs": [
    {
     "name": "stdout",
     "output_type": "stream",
     "text": [
      "test2a-w5-n10000-l7-random.pickle\n"
     ]
    }
   ],
   "source": [
    "n_concepts = 5\n",
    "use_student2 = True\n",
    "transition_after = True\n",
    "student2_str = ('2' if use_student2 else '') + ('a' if use_student2 and transition_after else '')\n",
    "learn_prob = 0.5\n",
    "lp_str = '-lp{}'.format(int(learn_prob*100)) if not use_student2 else ''\n",
    "n_students = 10000\n",
    "seqlen = 7\n",
    "filter_mastery = False\n",
    "filter_str = '' if not filter_mastery else '-filtered'\n",
    "policy = 'random'\n",
    "epsilon = 0.3\n",
    "epsilon_str = '{:.2f}'.format(epsilon) if policy == 'egreedy' else ''\n",
    "filename = 'test{}-w{}-n{}-l{}{}-{}{}{}.pickle'.format(student2_str, n_concepts, n_students, seqlen,\n",
    "                                                    lp_str, policy, epsilon_str, filter_str)\n",
    "#concept_tree = sm.create_custom_dependency()\n",
    "concept_tree = ConceptDependencyGraph()\n",
    "concept_tree.init_default_tree(n_concepts)\n",
    "if not use_student2:\n",
    "    test_student = Student(n=n_concepts,p_trans_satisfied=learn_prob, p_trans_not_satisfied=0.0, p_get_ex_correct_if_concepts_learned=1.0)\n",
    "else:\n",
    "    test_student = Student2(n_concepts, transition_after=transition_after)\n",
    "six.print_(filename)"
   ]
  },
  {
   "cell_type": "code",
   "execution_count": 20,
   "metadata": {},
   "outputs": [
    {
     "name": "stdout",
     "output_type": "stream",
     "text": [
      "Initializing synthetic data sets...\n",
      "Generating data for 10000 students with behavior policy random and sequence length 7.\n",
      "Data generation completed. \n"
     ]
    }
   ],
   "source": [
    "# Generates the data\n",
    "# Only run this cell if need to generate new data, otherwise skip this\n",
    "if True:\n",
    "    print (\"Initializing synthetic data sets...\")\n",
    "    dg.generate_data(concept_tree, student=test_student, n_students=n_students, filter_mastery=filter_mastery, seqlen=seqlen, policy=policy, epsilon=epsilon, filename=\"{}{}\".format(dg.SYN_DATA_DIR, filename))\n",
    "    print (\"Data generation completed. \")"
   ]
  },
  {
   "cell_type": "code",
   "execution_count": 21,
   "metadata": {
    "collapsed": true
   },
   "outputs": [],
   "source": [
    "# load toy data\n",
    "data = dataset_utils.load_data(filename='{}{}'.format(dg.SYN_DATA_DIR, filename))"
   ]
  },
  {
   "cell_type": "code",
   "execution_count": 22,
   "metadata": {},
   "outputs": [
    {
     "name": "stdout",
     "output_type": "stream",
     "text": [
      "Average posttest: 0.3801\n",
      "Average sparse reward: 0.0\n",
      "Percent of full posttest score: 0.0\n",
      "Percent of all seen: 0.322\n",
      "(array([0, 0, 1, 0, 0]), False, array([ 1.,  0.,  0.,  0.,  0.]), array([1, 0, 0, 0, 0, 0, 0, 0, 0, 0]))\n",
      "(array([0, 0, 0, 1, 0]), False, array([ 1.,  0.,  0.,  0.,  0.]), array([1, 0, 0, 0, 0, 0, 0, 1, 0, 0]))\n",
      "(array([0, 0, 0, 0, 1]), False, array([ 1.,  0.,  0.,  0.,  0.]), array([1, 0, 0, 0, 0, 0, 0, 1, 0, 0]))\n",
      "(array([0, 1, 0, 0, 0]), False, array([ 1.,  0.,  0.,  0.,  0.]), array([1, 0, 0, 0, 0, 0, 0, 1, 0, 0]))\n",
      "(array([1, 0, 0, 0, 0]), True, array([ 1.,  0.,  0.,  0.,  0.]), array([1, 0, 0, 0, 0, 0, 1, 1, 0, 0]))\n",
      "(array([0, 0, 0, 0, 1]), False, array([ 1.,  0.,  0.,  0.,  0.]), array([1, 0, 0, 0, 0, 1, 1, 1, 0, 0]))\n",
      "(array([0, 0, 1, 0, 0]), False, array([ 1.,  0.,  1.,  0.,  0.]), array([1, 0, 0, 0, 0, 1, 1, 1, 0, 0]))\n"
     ]
    }
   ],
   "source": [
    "print('Average posttest: {}'.format(sm.expected_reward(data)))\n",
    "print('Average sparse reward: {}'.format(sm.expected_sparse_reward(data)))\n",
    "print('Percent of full posttest score: {}'.format(sm.percent_complete(data)))\n",
    "print('Percent of all seen: {}'.format(sm.percent_all_seen(data)))\n",
    "for t in data[0]:\n",
    "    six.print_(t)"
   ]
  },
  {
   "cell_type": "code",
   "execution_count": 23,
   "metadata": {},
   "outputs": [
    {
     "name": "stdout",
     "output_type": "stream",
     "text": [
      "(10000, 6, 10)\n",
      "(10000, 6, 5)\n",
      "(10000, 6, 5)\n",
      "[[ 0.  0.  0.  0.  0.  0.  0.  1.  0.  0.]\n",
      " [ 0.  0.  0.  0.  0.  0.  0.  0.  1.  0.]\n",
      " [ 0.  0.  0.  0.  0.  0.  0.  0.  0.  1.]\n",
      " [ 0.  0.  0.  0.  0.  0.  1.  0.  0.  0.]\n",
      " [ 1.  0.  0.  0.  0.  0.  0.  0.  0.  0.]\n",
      " [ 0.  0.  0.  0.  0.  0.  0.  0.  0.  1.]]\n",
      "[[ 0.  0.  0.  1.  0.]\n",
      " [ 0.  0.  0.  0.  1.]\n",
      " [ 0.  1.  0.  0.  0.]\n",
      " [ 1.  0.  0.  0.  0.]\n",
      " [ 0.  0.  0.  0.  1.]\n",
      " [ 0.  0.  1.  0.  0.]]\n",
      "[[ 0.  0.  0.  0.  0.]\n",
      " [ 0.  0.  0.  0.  0.]\n",
      " [ 0.  0.  0.  0.  0.]\n",
      " [ 1.  0.  0.  0.  0.]\n",
      " [ 0.  0.  0.  0.  0.]\n",
      " [ 0.  0.  0.  0.  0.]]\n"
     ]
    }
   ],
   "source": [
    "input_data_, output_mask_, target_data_ = dataset_utils.preprocess_data_for_rnn(data)\n",
    "train_data = (input_data_[:,:,:], output_mask_[:,:,:], target_data_[:,:,:])\n",
    "six.print_(input_data_.shape)\n",
    "six.print_(output_mask_.shape)\n",
    "six.print_(target_data_.shape)\n",
    "six.print_(input_data_[0,:,:])\n",
    "six.print_(output_mask_[0,:,:])\n",
    "six.print_(target_data_[0,:,:])"
   ]
  },
  {
   "cell_type": "code",
   "execution_count": 24,
   "metadata": {},
   "outputs": [
    {
     "name": "stdout",
     "output_type": "stream",
     "text": [
      "Loading RNN dynamics model...\n",
      "Directory path for tensorboard summaries: ../tensorboard_logs/test2w5_modelgrusimple_mid/\n",
      "Checkpoint directory path: ../checkpoints/test2w5_modelgrusimple_mid/\n",
      "Model loaded.\n"
     ]
    }
   ],
   "source": [
    "# test_model hidden=16\n",
    "# test_model_mid hidden=10\n",
    "# test_model_small hidden=5\n",
    "# test_model_tiny hidden=3\n",
    "model_id = \"test2w5_modelgrusimple_mid\"\n",
    "dmodel = dmc.DynamicsModel(model_id=model_id, timesteps=seqlen-1, dropout=1.0, load_checkpoint=False)"
   ]
  },
  {
   "cell_type": "code",
   "execution_count": 25,
   "metadata": {
    "collapsed": true
   },
   "outputs": [],
   "source": [
    "class ExtractCallback(tflearn.callbacks.Callback):\n",
    "    def __init__(self):\n",
    "        self.tstates = []\n",
    "    def on_epoch_end(self, training_state):\n",
    "        self.tstates.append(copy.copy(training_state))\n",
    "ecall = ExtractCallback()"
   ]
  },
  {
   "cell_type": "code",
   "execution_count": 26,
   "metadata": {
    "scrolled": true
   },
   "outputs": [
    {
     "name": "stdout",
     "output_type": "stream",
     "text": [
      "Training Step: 1569  | total loss: \u001b[1m\u001b[32m0.00062\u001b[0m\u001b[0m | time: 0.563s\n",
      "| Adam | epoch: 010 | loss: 0.00062 -- iter: 09984/10000\n",
      "Training Step: 1570  | total loss: \u001b[1m\u001b[32m0.00057\u001b[0m\u001b[0m | time: 0.566s\n",
      "| Adam | epoch: 010 | loss: 0.00057 -- iter: 10000/10000\n",
      "--\n",
      "WARNING:tensorflow:Error encountered when serializing layer_tensor/gru_1.\n",
      "Type is unsupported, or the types of the items don't match field type in CollectionDef.\n",
      "'list' object has no attribute 'name'\n"
     ]
    }
   ],
   "source": [
    "dmodel.train(train_data, n_epoch=10, callbacks=ecall, load_checkpoint=False, shuffle=True, validation_set=None)"
   ]
  },
  {
   "cell_type": "code",
   "execution_count": 27,
   "metadata": {},
   "outputs": [
    {
     "name": "stdout",
     "output_type": "stream",
     "text": [
      "Train Loss Limit: 0.00324914\n",
      "Val Loss Limit: 0.00000000 Thresh: 0.00001000\n"
     ]
    },
    {
     "data": {
      "text/plain": [
       "[<matplotlib.lines.Line2D at 0x7fd18aa7cdd0>]"
      ]
     },
     "execution_count": 27,
     "metadata": {},
     "output_type": "execute_result"
    },
    {
     "data": {
      "image/png": "[encoded data removed]",
      "text/plain": [
       "<matplotlib.figure.Figure at 0x7fd1888ed050>"
      ]
     },
     "metadata": {},
     "output_type": "display_data"
    }
   ],
   "source": [
    "# binary crossentropy doesn't work\n",
    "# default batch size of 64 with 100000 trajectories is 1562.5 iters per epoch\n",
    "# which means 40 epochs is 62,500 iters\n",
    "train_loss = np.array([s.global_loss for s in ecall.tstates])\n",
    "val_loss = np.array([s.val_loss if s.val_loss is not None else 0.0 for s in ecall.tstates])\n",
    "#print(dir(ecall.tstates[0]))\n",
    "figure()\n",
    "plot(train_loss)\n",
    "plot(val_loss)\n",
    "last_val_loss = np.mean(val_loss[-10:])\n",
    "val_loss_thres = last_val_loss + 0.00001\n",
    "last_train_loss = np.mean(train_loss[-10:])\n",
    "xlim(40,50)\n",
    "six.print_('Train Loss Limit: {:.8f}'.format(last_train_loss))\n",
    "six.print_('Val Loss Limit: {:.8f} Thresh: {:.8f}'.format(last_val_loss, val_loss_thres))\n",
    "plot([0,train_loss.shape[0]], [last_val_loss,last_val_loss], color='#ff0000')\n",
    "plot([0,train_loss.shape[0]], [val_loss_thres,val_loss_thres], color='#ff0000')\n",
    "#ylim(last_val_loss - 0.00001, last_val_loss + 0.00002)\n",
    "#ylim(0,0.01)\n",
    "# training length 7\n",
    "# trying gru simple mid size with learning rate 0.01: seems like about <40 epochs is good enough\n",
    "# gru simple small size with lr 0.01: looks like 34 is enough\n",
    "# simple mid size of lr 0.01: looks like 34 is enough\n",
    "# simple small size of lr 0.01: looks like 34 is enough\n",
    "# try it out dropout=0.8\n",
    "# gru simple mid size lr 0.01: doesn't seem like 70 eps is enough, though after 40 it seems stable, val loss seems to converge much earlier\n",
    "# simple mid size lr 0.01: doesn't seem like 60 is enough, kinda stable-ish? after 30 epochs, validation loss also seems mostly stable\n",
    "# overall it seems like 40 epochs is enough for everything, small, mid, or dropout\n",
    "# training length 6\n",
    "# looks like 50 epochs is needed to stablize"
   ]
  },
  {
   "cell_type": "code",
   "execution_count": 28,
   "metadata": {},
   "outputs": [
    {
     "name": "stdout",
     "output_type": "stream",
     "text": [
      "[[[ 0.  0.  0.  0.  0.  0.  0.  0.  1.  0.]\n",
      "  [ 0.  0.  0.  0.  0.  0.  0.  0.  0.  1.]\n",
      "  [ 0.  0.  0.  0.  0.  0.  0.  1.  0.  0.]\n",
      "  [ 0.  0.  0.  0.  0.  0.  0.  0.  1.  0.]\n",
      "  [ 0.  0.  0.  0.  0.  0.  0.  0.  1.  0.]\n",
      "  [ 1.  0.  0.  0.  0.  0.  0.  0.  0.  0.]]]\n",
      "(array([0, 0, 1, 0, 0]), False, array([ 1.,  0.,  1.,  0.,  0.]), array([1, 0, 0, 0, 0, 1, 0, 1, 0, 0]))\n",
      "[[[  9.89955425e-01   9.93815903e-03   3.90697550e-03   1.11842304e-02\n",
      "     1.21492986e-02]\n",
      "  [  9.96909678e-01   2.56332522e-03   1.31003105e-03   3.43835377e-03\n",
      "     3.67564568e-03]\n",
      "  [  9.96933818e-01   7.99560396e-04   2.66281962e-02   3.14442441e-03\n",
      "     3.22895916e-03]\n",
      "  [  9.97086704e-01   8.41905188e-04   2.04637181e-02   2.99884751e-03\n",
      "     3.09865386e-03]\n",
      "  [  9.97224927e-01   8.79694184e-04   1.60780381e-02   2.86530796e-03\n",
      "     2.97611044e-03]\n",
      "  [  9.97369528e-01   9.46325716e-04   1.11178551e-02   2.72916351e-03\n",
      "     2.85732327e-03]]]\n",
      "Next observation: [ 1.  0.  0.  0.  0.  0.  0.  0.  0.  0.]\n",
      "Next prediction: 0.9974 0.0009 0.0111 0.0027 0.0029\n",
      "Next observation: [ 0.  1.  0.  0.  0.  0.  0.  0.  0.  0.]\n",
      "Next prediction: 0.9974 0.0009 0.0111 0.0027 0.0029\n",
      "Next observation: [ 0.  0.  1.  0.  0.  0.  0.  0.  0.  0.]\n",
      "Next prediction: 0.9974 0.0009 0.0111 0.0027 0.0029\n",
      "Next observation: [ 0.  0.  0.  1.  0.  0.  0.  0.  0.  0.]\n",
      "Next prediction: 0.9974 0.0009 0.0111 0.0027 0.0029\n",
      "Next observation: [ 0.  0.  0.  0.  1.  0.  0.  0.  0.  0.]\n",
      "Next prediction: 0.9974 0.0009 0.0111 0.0027 0.0029\n",
      "Next observation: [ 0.  0.  0.  0.  0.  1.  0.  0.  0.  0.]\n",
      "Next prediction: 0.9974 0.0009 0.0111 0.0027 0.0029\n",
      "Next observation: [ 0.  0.  0.  0.  0.  0.  1.  0.  0.  0.]\n",
      "Next prediction: 0.9974 0.0009 0.0111 0.0027 0.0029\n",
      "Next observation: [ 0.  0.  0.  0.  0.  0.  0.  1.  0.  0.]\n",
      "Next prediction: 0.9974 0.0009 0.0111 0.0027 0.0029\n",
      "Next observation: [ 0.  0.  0.  0.  0.  0.  0.  0.  1.  0.]\n",
      "Next prediction: 0.9974 0.0009 0.0111 0.0027 0.0029\n",
      "Next observation: [ 0.  0.  0.  0.  0.  0.  0.  0.  0.  1.]\n",
      "Next prediction: 0.9974 0.0009 0.0111 0.0027 0.0029\n"
     ]
    }
   ],
   "source": [
    "# predict a bit\n",
    "dataix = 4\n",
    "test_input_data = input_data_[dataix:dataix+1,:,:]\n",
    "six.print_(test_input_data)\n",
    "six.print_(data[dataix][-1])\n",
    "prediction = dmodel.predict(test_input_data)\n",
    "six.print_(prediction)\n",
    "# add one observation of each type and see what the predictions are\n",
    "for nexta in six.moves.range(n_concepts*2):\n",
    "    obvec = np.zeros((n_concepts*2,))\n",
    "    obvec[nexta] = 1.0\n",
    "    #six.print_(test_input_data[0,:,:].shape)\n",
    "    #six.print_(obvec[np.newaxis,:].shape)\n",
    "    test_input_data2 = np.vstack((test_input_data[0,:,:],obvec[np.newaxis,:]))\n",
    "    six.print_('Next observation: {}'.format(obvec))\n",
    "    prediction = dmodel.predict(test_input_data2[np.newaxis,:,:])\n",
    "    six.print_('Next prediction: ' + ' '.join('{:.4f}'.format(x) for x in prediction[0,seqlen-2,:]))"
   ]
  },
  {
   "cell_type": "code",
   "execution_count": 29,
   "metadata": {},
   "outputs": [
    {
     "name": "stdout",
     "output_type": "stream",
     "text": [
      "WARNING:tensorflow:Error encountered when serializing layer_tensor/gru_1.\n",
      "Type is unsupported, or the types of the items don't match field type in CollectionDef.\n",
      "'list' object has no attribute 'name'\n"
     ]
    }
   ],
   "source": [
    "# save the model to a checkpoint file\n",
    "chkpt = 'tempmodel'\n",
    "dmodel.save(chkpt)"
   ]
  },
  {
   "cell_type": "code",
   "execution_count": null,
   "metadata": {},
   "outputs": [
    {
     "name": "stdout",
     "output_type": "stream",
     "text": [
      "Testing model: test2w5_modelgrusimple_mid\n",
      "horizon: 8\n",
      "rollouts: 3000\n",
      "Loading RNN dynamics model...\n",
      "Loading RNN dynamics model...\n",
      "Loading RNN dynamics model...\n",
      "Loading RNN dynamics model...\n",
      "Loading RNN dynamics model...\n",
      "Loading RNN dynamics model...\n",
      "Loading RNN dynamics model...\n",
      "Loading RNN dynamics model...\n",
      "Directory path for tensorboard summaries: ../tensorboard_logs/test2w5_modelgrusimple_mid/\n",
      "Directory path for tensorboard summaries: ../tensorboard_logs/test2w5_modelgrusimple_mid/\n",
      "Checkpoint directory path: ../checkpoints/test2w5_modelgrusimple_mid/\n",
      "Checkpoint directory path: ../checkpoints/test2w5_modelgrusimple_mid/\n",
      "Directory path for tensorboard summaries: ../tensorboard_logs/test2w5_modelgrusimple_mid/\n",
      "Checkpoint directory path: ../checkpoints/test2w5_modelgrusimple_mid/\n",
      "Directory path for tensorboard summaries: ../tensorboard_logs/test2w5_modelgrusimple_mid/\n",
      "Checkpoint directory path: ../checkpoints/test2w5_modelgrusimple_mid/\n",
      "Directory path for tensorboard summaries: ../tensorboard_logs/test2w5_modelgrusimple_mid/\n",
      "Checkpoint directory path: ../checkpoints/test2w5_modelgrusimple_mid/\n",
      "Directory path for tensorboard summaries: ../tensorboard_logs/test2w5_modelgrusimple_mid/\n",
      "Checkpoint directory path: ../checkpoints/test2w5_modelgrusimple_mid/\n",
      "Directory path for tensorboard summaries: ../tensorboard_logs/test2w5_modelgrusimple_mid/\n",
      "Directory path for tensorboard summaries: ../tensorboard_logs/test2w5_modelgrusimple_mid/\n",
      "Checkpoint directory path: ../checkpoints/test2w5_modelgrusimple_mid/\n",
      "Checkpoint directory path: ../checkpoints/test2w5_modelgrusimple_mid/\n"
     ]
    }
   ],
   "source": [
    "# test the model on the real environment\n",
    "test_horizon = 8\n",
    "n_rollouts = 3000\n",
    "n_trajectories = 8\n",
    "r_type = mcts.SPARSE\n",
    "\n",
    "test_student = Student2(n_concepts, transition_after=transition_after)\n",
    "test_student.reset()\n",
    "test_student.knowledge[0] = 1 # initialize the first concept to be known\n",
    "sim = StudentExactSim(test_student.copy(), concept_tree)\n",
    "\n",
    "starttime = time.time()\n",
    "mc.test_dkt_chunk(n_trajectories, concept_tree, sim, model_id, chkpt, test_horizon, n_rollouts, r_type)\n",
    "#mc.test_dkt(model_id, n_concepts, transition_after, test_horizon, n_rollouts, n_trajectories, r_type, True, chkpt=chkpt)\n",
    "endtime = time.time()\n",
    "six.print_('Time Elapsed {}'.format(endtime - starttime))"
   ]
  },
  {
   "cell_type": "code",
   "execution_count": null,
   "metadata": {
    "collapsed": true
   },
   "outputs": [],
   "source": []
  }
 ],
 "metadata": {
  "kernelspec": {
   "display_name": "Python 2",
   "language": "python",
   "name": "python2"
  },
  "language_info": {
   "codemirror_mode": {
    "name": "ipython",
    "version": 2
   },
   "file_extension": ".py",
   "mimetype": "text/x-python",
   "name": "python",
   "nbconvert_exporter": "python",
   "pygments_lexer": "ipython2",
   "version": "2.7.6"
  }
 },
 "nbformat": 4,
 "nbformat_minor": 2
}
