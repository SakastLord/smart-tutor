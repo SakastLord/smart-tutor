{
 "cells": [
  {
   "cell_type": "markdown",
   "metadata": {},
   "source": [
    "# Testing MCTS with Various Models\n",
    "Here we will test MCTS first with the DKT model"
   ]
  },
  {
   "cell_type": "code",
   "execution_count": 1,
   "metadata": {
    "collapsed": true
   },
   "outputs": [],
   "source": [
    "%load_ext autoreload\n",
    "%autoreload 2"
   ]
  },
  {
   "cell_type": "code",
   "execution_count": 2,
   "metadata": {
    "collapsed": true
   },
   "outputs": [],
   "source": [
    "%matplotlib inline\n",
    "import six\n",
    "import dynamics_model_class as dmc\n",
    "import mcts_tests as mc\n",
    "import mcts\n",
    "import model_training as mtrain\n",
    "import numpy as np\n",
    "import scipy as sp\n",
    "from matplotlib.pyplot import *\n",
    "import dataset_utils\n",
    "import tensorflow as tf\n",
    "import tflearn\n",
    "import time\n",
    "import copy\n",
    "\n",
    "from concept_dependency_graph import ConceptDependencyGraph\n",
    "import data_generator as dg\n",
    "from student import *\n",
    "import simple_mdp as sm"
   ]
  },
  {
   "cell_type": "code",
   "execution_count": 3,
   "metadata": {},
   "outputs": [
    {
     "name": "stdout",
     "output_type": "stream",
     "text": [
      "test2a-w4-n100000-l5-random.pickle\n"
     ]
    }
   ],
   "source": [
    "n_concepts = 4\n",
    "use_student2 = True\n",
    "transition_after = True\n",
    "student2_str = ('2' if use_student2 else '') + ('a' if use_student2 and transition_after else '')\n",
    "learn_prob = 0.5\n",
    "lp_str = '-lp{}'.format(int(learn_prob*100)) if not use_student2 else ''\n",
    "n_students = 100000\n",
    "seqlen = 5\n",
    "filter_mastery = False\n",
    "filter_str = '' if not filter_mastery else '-filtered'\n",
    "policy = 'random'\n",
    "epsilon = 0.3\n",
    "epsilon_str = '{:.2f}'.format(epsilon) if policy == 'egreedy' else ''\n",
    "filename = 'test{}-w{}-n{}-l{}{}-{}{}{}.pickle'.format(student2_str, n_concepts, n_students, seqlen,\n",
    "                                                    lp_str, policy, epsilon_str, filter_str)\n",
    "#concept_tree = sm.create_custom_dependency()\n",
    "concept_tree = ConceptDependencyGraph()\n",
    "concept_tree.init_default_tree(n_concepts)\n",
    "if not use_student2:\n",
    "    test_student = Student(n=n_concepts,p_trans_satisfied=learn_prob, p_trans_not_satisfied=0.0, p_get_ex_correct_if_concepts_learned=1.0)\n",
    "else:\n",
    "    test_student = Student2(n_concepts, transition_after=transition_after)\n",
    "six.print_(filename)"
   ]
  },
  {
   "cell_type": "code",
   "execution_count": 4,
   "metadata": {
    "collapsed": true
   },
   "outputs": [],
   "source": [
    "# Generates the data\n",
    "# Only run this cell if need to generate new data, otherwise skip this\n",
    "if False:\n",
    "    print (\"Initializing synthetic data sets...\")\n",
    "    dg.generate_data(concept_tree, student=test_student, n_students=n_students, filter_mastery=filter_mastery, seqlen=seqlen, policy=policy, epsilon=epsilon, filename=\"{}{}\".format(dg.SYN_DATA_DIR, filename))\n",
    "    print (\"Data generation completed. \")"
   ]
  },
  {
   "cell_type": "code",
   "execution_count": 5,
   "metadata": {
    "collapsed": true
   },
   "outputs": [],
   "source": [
    "# load toy data\n",
    "data = dataset_utils.load_data(filename='{}{}'.format(dg.SYN_DATA_DIR, filename))"
   ]
  },
  {
   "cell_type": "code",
   "execution_count": 6,
   "metadata": {},
   "outputs": [
    {
     "name": "stdout",
     "output_type": "stream",
     "text": [
      "Average posttest: 0.4380675\n",
      "Average sparse reward: 0.0\n",
      "Percent of full posttest score: 0.0\n",
      "Percent of all seen: 0.38158\n",
      "(array([0, 0, 1, 0]), False, array([ 1.,  0.,  0.,  0.]), array([1, 0, 0, 0, 0, 0, 0, 0]))\n",
      "(array([0, 0, 0, 1]), False, array([ 1.,  0.,  0.,  0.]), array([1, 0, 0, 0, 0, 0, 1, 0]))\n",
      "(array([0, 1, 0, 0]), False, array([ 1.,  0.,  0.,  0.]), array([1, 0, 0, 0, 0, 0, 1, 0]))\n",
      "(array([1, 0, 0, 0]), True, array([ 1.,  0.,  0.,  0.]), array([1, 0, 0, 0, 0, 1, 1, 0]))\n",
      "(array([0, 0, 1, 0]), False, array([ 1.,  0.,  1.,  0.]), array([1, 0, 0, 0, 1, 1, 1, 0]))\n"
     ]
    }
   ],
   "source": [
    "print('Average posttest: {}'.format(sm.expected_reward(data)))\n",
    "print('Average sparse reward: {}'.format(sm.expected_sparse_reward(data)))\n",
    "print('Percent of full posttest score: {}'.format(sm.percent_complete(data)))\n",
    "print('Percent of all seen: {}'.format(sm.percent_all_seen(data)))\n",
    "for t in data[0]:\n",
    "    six.print_(t)"
   ]
  },
  {
   "cell_type": "code",
   "execution_count": 7,
   "metadata": {},
   "outputs": [
    {
     "name": "stdout",
     "output_type": "stream",
     "text": [
      "(100000, 4, 8)\n",
      "(100000, 4, 4)\n",
      "(100000, 4, 4)\n",
      "[[ 0.  0.  0.  1.]\n",
      " [ 0.  1.  0.  0.]\n",
      " [ 1.  0.  0.  0.]\n",
      " [ 0.  0.  1.  0.]]\n",
      "[[ 0.  0.  0.  0.]\n",
      " [ 0.  0.  0.  0.]\n",
      " [ 1.  0.  0.  0.]\n",
      " [ 0.  0.  0.  0.]]\n"
     ]
    }
   ],
   "source": [
    "input_data_, output_mask_, target_data_ = dataset_utils.preprocess_data_for_rnn(data)\n",
    "\n",
    "six.print_(input_data_.shape)\n",
    "six.print_(output_mask_.shape)\n",
    "six.print_(target_data_.shape)\n",
    "six.print_(output_mask_[0,:,:])\n",
    "six.print_(target_data_[0,:,:])"
   ]
  },
  {
   "cell_type": "code",
   "execution_count": 16,
   "metadata": {
    "collapsed": true
   },
   "outputs": [],
   "source": [
    "# test_model hidden=16\n",
    "# test_model_mid hidden=10\n",
    "# test_model_small hidden=5\n",
    "# test_model_tiny hidden=3\n",
    "model_id = \"test2_modelgrusimple_mid\"\n",
    "dmodel = dmc.DynamicsModel(model_id=model_id, timesteps=seqlen-1, dropout=1.0, load_checkpoint=False)\n",
    "#dmodel2 = dmc.DynamicsModel(model_id=model_id, timesteps=seqlen-1, dropout=1.0, load_checkpoint=False)"
   ]
  },
  {
   "cell_type": "code",
   "execution_count": 17,
   "metadata": {
    "collapsed": true
   },
   "outputs": [],
   "source": [
    "# extract out the training states\n",
    "class ExtractCallback(tflearn.callbacks.Callback):\n",
    "    def __init__(self):\n",
    "        self.tstates = []\n",
    "    def on_epoch_begin(self,ts):\n",
    "        self.tstates.append([])\n",
    "    def on_batch_end(self,ts,snapshot):\n",
    "        self.tstates[-1].append(copy.copy(ts))\n",
    "ecall = ExtractCallback()"
   ]
  },
  {
   "cell_type": "code",
   "execution_count": 18,
   "metadata": {
    "scrolled": true
   },
   "outputs": [
    {
     "name": "stdout",
     "output_type": "stream",
     "text": [
      "Training Step: 84419  | total loss: \u001b[1m\u001b[32m0.00000\u001b[0m\u001b[0m | time: 5.335s\n",
      "| Adam | epoch: 060 | loss: 0.00000 -- iter: 89984/90000\n",
      "Training Step: 84420  | total loss: \u001b[1m\u001b[32m0.00000\u001b[0m\u001b[0m | time: 6.484s\n",
      "| Adam | epoch: 060 | loss: 0.00000 | val_loss: 0.00000 -- iter: 90000/90000\n",
      "--\n"
     ]
    }
   ],
   "source": [
    "num_epoch_batch = 1\n",
    "num_epoch_per_batch = 60\n",
    "for eb in six.moves.range(num_epoch_batch):\n",
    "    # add noise to each batch\n",
    "    processed_input_data = input_data_ + 0.00*np.random.randn(*input_data_.shape)\n",
    "    train_data = (processed_input_data[:,:,:], output_mask_[:,:,:], target_data_[:,:,:])\n",
    "    dmodel.train(train_data,\n",
    "                 n_epoch=num_epoch_per_batch,\n",
    "                 callbacks=ecall,\n",
    "                 load_checkpoint=False,\n",
    "                 shuffle=True,\n",
    "                 validation_set=0.1,\n",
    "                 batch_size=None)\n",
    "    #dmodel2.train(train_data,\n",
    "    #             n_epoch=num_epoch_per_batch,\n",
    "    #             callbacks=ecall,\n",
    "    #             load_checkpoint=False,\n",
    "    #             shuffle=True,\n",
    "    #             validation_set=0.1,\n",
    "    #            batch_size=None)"
   ]
  },
  {
   "cell_type": "code",
   "execution_count": 20,
   "metadata": {},
   "outputs": [
    {
     "name": "stdout",
     "output_type": "stream",
     "text": [
      "Train Loss Limit: 0.00000833\n",
      "Val Loss Limit: 0.00000000 Thresh: 0.00000100\n"
     ]
    },
    {
     "data": {
      "text/plain": [
       "(0, 0.0002)"
      ]
     },
     "execution_count": 20,
     "metadata": {},
     "output_type": "execute_result"
    },
    {
     "data": {
      "image/png": "[encoded data removed]",
      "text/plain": [
       "<matplotlib.figure.Figure at 0x7fe1ac912ba8>"
      ]
     },
     "metadata": {},
     "output_type": "display_data"
    }
   ],
   "source": [
    "# binary crossentropy doesn't work\n",
    "train_loss = np.array([np.mean([ts.global_loss for ts in batch]) for batch in ecall.tstates])\n",
    "val_loss = np.array([batch[-1].val_loss if batch[-1].val_loss is not None else 0.0 for batch in ecall.tstates])\n",
    "figure()\n",
    "plot(train_loss)\n",
    "plot(val_loss)\n",
    "last_val_loss = np.mean(val_loss[-2:])\n",
    "val_loss_thres = last_val_loss + 0.000001\n",
    "last_train_loss = np.mean(train_loss[-2:])\n",
    "#xlim(40,50)\n",
    "six.print_('Train Loss Limit: {:.8f}'.format(last_train_loss))\n",
    "six.print_('Val Loss Limit: {:.8f} Thresh: {:.8f}'.format(last_val_loss, val_loss_thres))\n",
    "plot([0,train_loss.shape[0]], [last_val_loss,last_val_loss], color='#ff0000')\n",
    "plot([0,train_loss.shape[0]], [val_loss_thres,val_loss_thres], color='#ff0000')\n",
    "#ylim(last_val_loss - 0.00001, last_val_loss + 0.00002)\n",
    "ylim(0,0.0002)"
   ]
  },
  {
   "cell_type": "code",
   "execution_count": 26,
   "metadata": {},
   "outputs": [
    {
     "name": "stdout",
     "output_type": "stream",
     "text": [
      "[[[ 0.  0.  0.  0.  0.  1.  0.  0.]\n",
      "  [ 1.  0.  0.  0.  0.  0.  0.  0.]\n",
      "  [ 1.  0.  0.  0.  0.  0.  0.  0.]\n",
      "  [ 1.  0.  0.  0.  0.  0.  0.  0.]]]\n",
      "(array([0, 0, 1, 0]), False, array([ 1.,  0.,  0.,  0.]), array([1, 0, 0, 0, 1, 1, 0, 0]))\n",
      "[[[  9.98491168e-01   1.61381550e-02   2.17851615e-04   2.35260511e-03]\n",
      "  [  9.99761403e-01   5.73825277e-03   2.91675442e-05   4.18961397e-04]\n",
      "  [  9.99817669e-01   5.21324109e-03   2.40461322e-05   3.26802605e-04]\n",
      "  [  9.99827504e-01   4.97569283e-03   2.36431988e-05   3.09593190e-04]]]\n",
      "Next observation: [ 1.  0.  0.  0.  0.  0.  0.  0.]\n",
      "Next prediction: 0.9998 0.0050 0.0000 0.0003\n",
      "Next observation: [ 0.  1.  0.  0.  0.  0.  0.  0.]\n",
      "Next prediction: 0.9998 0.0050 0.0000 0.0003\n",
      "Next observation: [ 0.  0.  1.  0.  0.  0.  0.  0.]\n",
      "Next prediction: 0.9998 0.0050 0.0000 0.0003\n",
      "Next observation: [ 0.  0.  0.  1.  0.  0.  0.  0.]\n",
      "Next prediction: 0.9998 0.0050 0.0000 0.0003\n",
      "Next observation: [ 0.  0.  0.  0.  1.  0.  0.  0.]\n",
      "Next prediction: 0.9998 0.0050 0.0000 0.0003\n",
      "Next observation: [ 0.  0.  0.  0.  0.  1.  0.  0.]\n",
      "Next prediction: 0.9998 0.0050 0.0000 0.0003\n",
      "Next observation: [ 0.  0.  0.  0.  0.  0.  1.  0.]\n",
      "Next prediction: 0.9998 0.0050 0.0000 0.0003\n",
      "Next observation: [ 0.  0.  0.  0.  0.  0.  0.  1.]\n",
      "Next prediction: 0.9998 0.0050 0.0000 0.0003\n"
     ]
    }
   ],
   "source": [
    "# predict a bit\n",
    "dataix = 4\n",
    "test_input_data = input_data_[dataix:dataix+1,:,:]\n",
    "six.print_(test_input_data)\n",
    "six.print_(data[dataix][-1])\n",
    "prediction = dmodel.predict(test_input_data)\n",
    "six.print_(prediction)\n",
    "# add one observation of each type and see what the predictions are\n",
    "for nexta in six.moves.range(n_concepts*2):\n",
    "    obvec = np.zeros((n_concepts*2,))\n",
    "    obvec[nexta] = 1.0\n",
    "    #six.print_(test_input_data[0,:,:].shape)\n",
    "    #six.print_(obvec[np.newaxis,:].shape)\n",
    "    test_input_data2 = np.vstack((test_input_data[0,:,:],obvec[np.newaxis,:]))\n",
    "    six.print_('Next observation: {}'.format(obvec))\n",
    "    prediction = dmodel.predict(test_input_data2[np.newaxis,:,:])\n",
    "    #prediction2 = dmodel2.predict(test_input_data2[np.newaxis,:,:])\n",
    "    six.print_('Next prediction: ' + ' '.join('{:.4f}'.format(x) for x in prediction[0,seqlen-2,:]))\n",
    "    #six.print_('Next prediction2: ' + ' '.join('{:.4f}'.format(x) for x in prediction2[0,seqlen-2,:]))"
   ]
  },
  {
   "cell_type": "code",
   "execution_count": 7,
   "metadata": {
    "collapsed": true
   },
   "outputs": [],
   "source": [
    "# save the model to a checkpoint file\n",
    "chkpt = 'tempmodel'\n",
    "#dmodel.save(chkpt)\n",
    "\n",
    "#chkpt2 = 'tempmodel2'\n",
    "#dmodel2.save(chkpt2)"
   ]
  },
  {
   "cell_type": "code",
   "execution_count": 30,
   "metadata": {},
   "outputs": [
    {
     "name": "stdout",
     "output_type": "stream",
     "text": [
      "INFO:tensorflow:Restoring parameters from /usr0/home/zguo/Documents/smart-tutor/code/tempmodel\n",
      "Time Elapsed 139.59412813186646\n",
      "Acc: 0.0 Best Q: 0.47858624160289776\n"
     ]
    }
   ],
   "source": [
    "# test the model on the real environment\n",
    "test_horizon = 6\n",
    "n_rollouts = 3000\n",
    "n_trajectories = 24\n",
    "r_type = mcts.SPARSE\n",
    "\n",
    "test_student = Student2(n_concepts, transition_after=transition_after)\n",
    "test_student.reset()\n",
    "test_student.knowledge[0] = 1 # initialize the first concept to be known\n",
    "sim = StudentExactSim(test_student.copy(), concept_tree)\n",
    "\n",
    "starttime = time.time()\n",
    "acc, bestq = mc.test_dkt_chunk(n_trajectories, concept_tree, sim, model_id, [chkpt], test_horizon, n_rollouts, r_type)\n",
    "#mc.test_dkt(model_id, n_concepts, transition_after, test_horizon, n_rollouts, n_trajectories, r_type, True, chkpt=chkpt)\n",
    "endtime = time.time()\n",
    "six.print_('Time Elapsed {}'.format(endtime - starttime))\n",
    "six.print_('Acc: {} Best Q: {}'.format(acc, bestq))"
   ]
  },
  {
   "cell_type": "code",
   "execution_count": 13,
   "metadata": {},
   "outputs": [
    {
     "name": "stdout",
     "output_type": "stream",
     "text": [
      "INFO:tensorflow:Restoring parameters from /usr0/home/zguo/Documents/smart-tutor/code/tempmodel\n",
      "Time Elapsed 2.7049694061279297\n"
     ]
    }
   ],
   "source": [
    "# test memoization\n",
    "starttime = time.time()\n",
    "mtrain.dkt_memoize_single(n_concepts, model_id, chkpt, 3, 'mem_tempmodel')\n",
    "endtime = time.time()\n",
    "six.print_('Time Elapsed {}'.format(endtime - starttime))"
   ]
  },
  {
   "cell_type": "code",
   "execution_count": 11,
   "metadata": {},
   "outputs": [
    {
     "name": "stdout",
     "output_type": "stream",
     "text": [
      "['mem_arrays']\n",
      "(4,)\n",
      "[[ 0.  0.  0.  0.]]\n",
      "[[  9.67990458e-01   1.84817687e-02   1.44554321e-02   3.60819027e-02]\n",
      " [  9.98491168e-01   1.61381550e-02   2.17851615e-04   2.35260511e-03]\n",
      " [  9.98841822e-01   6.13134936e-04   1.02831842e-02   1.30330515e-03]\n",
      " [  9.96319532e-01   1.32317375e-03   4.43759171e-04   4.45438549e-03]\n",
      " [  9.97196317e-01   1.39679399e-03   4.15361894e-04   3.48358159e-03]\n",
      " [  9.66320395e-01   5.01056090e-02   1.91735718e-02   3.67798619e-02]\n",
      " [  9.72327530e-01   2.05066483e-02   3.94504704e-02   2.91881897e-02]\n",
      " [  9.59235430e-01   1.81578547e-02   1.50675327e-02   4.35173400e-02]]\n"
     ]
    }
   ],
   "source": [
    "# see memoization\n",
    "memdata = np.load('mem_tempmodel.npz')\n",
    "six.print_(memdata.files)\n",
    "six.print_(memdata['mem_arrays'].shape)\n",
    "six.print_(memdata['mem_arrays'][0])\n",
    "six.print_(memdata['mem_arrays'][1])"
   ]
  },
  {
   "cell_type": "code",
   "execution_count": null,
   "metadata": {
    "collapsed": true
   },
   "outputs": [],
   "source": []
  }
 ],
 "metadata": {
  "kernelspec": {
   "display_name": "Python 3",
   "language": "python",
   "name": "python3"
  },
  "language_info": {
   "codemirror_mode": {
    "name": "ipython",
    "version": 3
   },
   "file_extension": ".py",
   "mimetype": "text/x-python",
   "name": "python",
   "nbconvert_exporter": "python",
   "pygments_lexer": "ipython3",
   "version": "3.6.2"
  }
 },
 "nbformat": 4,
 "nbformat_minor": 2
}
