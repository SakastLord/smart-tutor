{
 "cells": [
  {
   "cell_type": "markdown",
   "metadata": {},
   "source": [
    "# Testing MCTS with Various Models\n",
    "Here we will test MCTS first with the DKT model"
   ]
  },
  {
   "cell_type": "code",
   "execution_count": 1,
   "metadata": {
    "collapsed": true
   },
   "outputs": [],
   "source": [
    "%load_ext autoreload\n",
    "%autoreload 2"
   ]
  },
  {
   "cell_type": "code",
   "execution_count": 2,
   "metadata": {
    "collapsed": true
   },
   "outputs": [],
   "source": [
    "%matplotlib inline\n",
    "import six\n",
    "import dynamics_model_class as dmc\n",
    "import mcts_tests as mc\n",
    "import mcts\n",
    "import numpy as np\n",
    "import scipy as sp\n",
    "from matplotlib.pyplot import *\n",
    "import dataset_utils\n",
    "import tensorflow as tf\n",
    "import tflearn\n",
    "import time\n",
    "import copy\n",
    "\n",
    "from concept_dependency_graph import ConceptDependencyGraph\n",
    "import data_generator as dg\n",
    "from student import *\n",
    "import simple_mdp as sm"
   ]
  },
  {
   "cell_type": "code",
   "execution_count": 4,
   "metadata": {},
   "outputs": [
    {
     "name": "stdout",
     "output_type": "stream",
     "text": [
      "test2a-w5-n100000-l7-random.pickle\n"
     ]
    }
   ],
   "source": [
    "n_concepts = 5\n",
    "use_student2 = True\n",
    "transition_after = True\n",
    "student2_str = ('2' if use_student2 else '') + ('a' if use_student2 and transition_after else '')\n",
    "learn_prob = 0.5\n",
    "lp_str = '-lp{}'.format(int(learn_prob*100)) if not use_student2 else ''\n",
    "n_students = 100000\n",
    "seqlen = 7\n",
    "filter_mastery = False\n",
    "filter_str = '' if not filter_mastery else '-filtered'\n",
    "policy = 'random'\n",
    "epsilon = 0.3\n",
    "epsilon_str = '{:.2f}'.format(epsilon) if policy == 'egreedy' else ''\n",
    "filename = 'test{}-w{}-n{}-l{}{}-{}{}{}.pickle'.format(student2_str, n_concepts, n_students, seqlen,\n",
    "                                                    lp_str, policy, epsilon_str, filter_str)\n",
    "#concept_tree = sm.create_custom_dependency()\n",
    "concept_tree = ConceptDependencyGraph()\n",
    "concept_tree.init_default_tree(n_concepts)\n",
    "if not use_student2:\n",
    "    test_student = Student(n=n_concepts,p_trans_satisfied=learn_prob, p_trans_not_satisfied=0.0, p_get_ex_correct_if_concepts_learned=1.0)\n",
    "else:\n",
    "    test_student = Student2(n_concepts, transition_after=transition_after)\n",
    "six.print_(filename)"
   ]
  },
  {
   "cell_type": "code",
   "execution_count": 14,
   "metadata": {},
   "outputs": [
    {
     "name": "stdout",
     "output_type": "stream",
     "text": [
      "Initializing synthetic data sets...\n",
      "Generating data for 100000 students with behavior policy random and sequence length 7.\n",
      "Data generation completed. \n"
     ]
    }
   ],
   "source": [
    "# Generates the data\n",
    "# Only run this cell if need to generate new data, otherwise skip this\n",
    "if True:\n",
    "    print (\"Initializing synthetic data sets...\")\n",
    "    dg.generate_data(concept_tree, student=test_student, n_students=n_students, filter_mastery=filter_mastery, seqlen=seqlen, policy=policy, epsilon=epsilon, filename=\"{}{}\".format(dg.SYN_DATA_DIR, filename))\n",
    "    print (\"Data generation completed. \")"
   ]
  },
  {
   "cell_type": "code",
   "execution_count": 15,
   "metadata": {},
   "outputs": [],
   "source": [
    "# load toy data\n",
    "data = dataset_utils.load_data(filename='{}{}'.format(dg.SYN_DATA_DIR, filename))"
   ]
  },
  {
   "cell_type": "code",
   "execution_count": 16,
   "metadata": {},
   "outputs": [
    {
     "name": "stdout",
     "output_type": "stream",
     "text": [
      "Average posttest: 0.3828100000002511\n",
      "Average sparse reward: 0.0\n",
      "Percent of full posttest score: 0.0\n",
      "Percent of all seen: 0.32177\n",
      "(array([1, 0, 0, 0, 0]), True, array([ 1.,  0.,  0.,  0.,  0.]), array([1, 0, 0, 0, 0, 0, 0, 0, 0, 0]))\n",
      "(array([0, 0, 0, 1, 0]), False, array([ 1.,  0.,  0.,  0.,  0.]), array([1, 0, 0, 0, 0, 1, 0, 0, 0, 0]))\n",
      "(array([1, 0, 0, 0, 0]), True, array([ 1.,  0.,  0.,  0.,  0.]), array([1, 0, 0, 0, 0, 1, 0, 0, 0, 0]))\n",
      "(array([0, 0, 1, 0, 0]), False, array([ 1.,  0.,  0.,  0.,  0.]), array([1, 0, 0, 0, 0, 1, 0, 0, 0, 0]))\n",
      "(array([0, 0, 1, 0, 0]), False, array([ 1.,  0.,  1.,  0.,  0.]), array([1, 0, 0, 0, 0, 1, 0, 1, 0, 0]))\n",
      "(array([0, 1, 0, 0, 0]), False, array([ 1.,  0.,  1.,  0.,  0.]), array([1, 0, 1, 0, 0, 1, 0, 1, 0, 0]))\n",
      "(array([0, 0, 1, 0, 0]), True, array([ 1.,  0.,  1.,  0.,  0.]), array([1, 0, 1, 0, 0, 1, 1, 1, 0, 0]))\n"
     ]
    }
   ],
   "source": [
    "print('Average posttest: {}'.format(sm.expected_reward(data)))\n",
    "print('Average sparse reward: {}'.format(sm.expected_sparse_reward(data)))\n",
    "print('Percent of full posttest score: {}'.format(sm.percent_complete(data)))\n",
    "print('Percent of all seen: {}'.format(sm.percent_all_seen(data)))\n",
    "for t in data[0]:\n",
    "    six.print_(t)"
   ]
  },
  {
   "cell_type": "code",
   "execution_count": 18,
   "metadata": {},
   "outputs": [
    {
     "name": "stdout",
     "output_type": "stream",
     "text": [
      "(100000, 6, 10)\n",
      "(100000, 6, 5)\n",
      "(100000, 6, 5)\n",
      "[[ 0.  0.  0.  1.  0.]\n",
      " [ 1.  0.  0.  0.  0.]\n",
      " [ 0.  0.  1.  0.  0.]\n",
      " [ 0.  0.  1.  0.  0.]\n",
      " [ 0.  1.  0.  0.  0.]\n",
      " [ 0.  0.  1.  0.  0.]]\n",
      "[[ 0.  0.  0.  0.  0.]\n",
      " [ 1.  0.  0.  0.  0.]\n",
      " [ 0.  0.  0.  0.  0.]\n",
      " [ 0.  0.  0.  0.  0.]\n",
      " [ 0.  0.  0.  0.  0.]\n",
      " [ 0.  0.  1.  0.  0.]]\n"
     ]
    }
   ],
   "source": [
    "input_data_, output_mask_, target_data_ = dataset_utils.preprocess_data_for_rnn(data)\n",
    "\n",
    "six.print_(input_data_.shape)\n",
    "six.print_(output_mask_.shape)\n",
    "six.print_(target_data_.shape)\n",
    "six.print_(output_mask_[0,:,:])\n",
    "six.print_(target_data_[0,:,:])"
   ]
  },
  {
   "cell_type": "code",
   "execution_count": 20,
   "metadata": {},
   "outputs": [
    {
     "name": "stdout",
     "output_type": "stream",
     "text": [
      "Loading RNN dynamics model...\n",
      "Directory path for tensorboard summaries: ../tensorboard_logs/test2w5_modelgrusimple_mid/\n",
      "Checkpoint directory path: ../checkpoints/test2w5_modelgrusimple_mid/\n",
      "Model loaded.\n"
     ]
    }
   ],
   "source": [
    "# test_model hidden=16\n",
    "# test_model_mid hidden=10\n",
    "# test_model_small hidden=5\n",
    "# test_model_tiny hidden=3\n",
    "model_id = \"test2w5_modelgrusimple_mid\"\n",
    "dmodel = dmc.DynamicsModel(model_id=model_id, timesteps=seqlen-1, dropout=1.0, load_checkpoint=False)"
   ]
  },
  {
   "cell_type": "code",
   "execution_count": 21,
   "metadata": {
    "collapsed": true
   },
   "outputs": [],
   "source": [
    "# extract out the training states\n",
    "class ExtractCallback(tflearn.callbacks.Callback):\n",
    "    def __init__(self):\n",
    "        self.tstates = []\n",
    "    def on_epoch_begin(self,ts):\n",
    "        self.tstates.append([])\n",
    "    def on_batch_end(self,ts,snapshot):\n",
    "        self.tstates[-1].append(copy.copy(ts))\n",
    "ecall = ExtractCallback()"
   ]
  },
  {
   "cell_type": "code",
   "execution_count": 22,
   "metadata": {
    "scrolled": true
   },
   "outputs": [
    {
     "name": "stdout",
     "output_type": "stream",
     "text": [
      "Training Step: 32986  | total loss: \u001b[1m\u001b[32m0.00000\u001b[0m\u001b[0m | time: 1.709s\n",
      "\u001b[2K\r",
      "| Adam | epoch: 024 | loss: 0.00000 -- iter: 40000/90000\n"
     ]
    },
    {
     "ename": "KeyboardInterrupt",
     "evalue": "",
     "output_type": "error",
     "traceback": [
      "\u001b[1;31m---------------------------------------------------------------------------\u001b[0m",
      "\u001b[1;31mKeyboardInterrupt\u001b[0m                         Traceback (most recent call last)",
      "\u001b[1;32m<ipython-input-22-d92149b9df06>\u001b[0m in \u001b[0;36m<module>\u001b[1;34m()\u001b[0m\n\u001b[0;32m     11\u001b[0m                  \u001b[0mshuffle\u001b[0m\u001b[1;33m=\u001b[0m\u001b[1;32mTrue\u001b[0m\u001b[1;33m,\u001b[0m\u001b[1;33m\u001b[0m\u001b[0m\n\u001b[0;32m     12\u001b[0m                  \u001b[0mvalidation_set\u001b[0m\u001b[1;33m=\u001b[0m\u001b[1;36m0.1\u001b[0m\u001b[1;33m,\u001b[0m\u001b[1;33m\u001b[0m\u001b[0m\n\u001b[1;32m---> 13\u001b[1;33m                 batch_size=None)\n\u001b[0m",
      "\u001b[1;32mD:\\Projects\\smart-tutor\\code\\dynamics_model_class.py\u001b[0m in \u001b[0;36mtrain\u001b[1;34m(self, train_data, n_epoch, callbacks, shuffle, load_checkpoint, validation_set, batch_size)\u001b[0m\n\u001b[0;32m    179\u001b[0m             \u001b[0mdate_time_string\u001b[0m \u001b[1;33m=\u001b[0m \u001b[0mdatetime\u001b[0m\u001b[1;33m.\u001b[0m\u001b[0mdatetime\u001b[0m\u001b[1;33m.\u001b[0m\u001b[0mnow\u001b[0m\u001b[1;33m(\u001b[0m\u001b[1;33m)\u001b[0m\u001b[1;33m.\u001b[0m\u001b[0mstrftime\u001b[0m\u001b[1;33m(\u001b[0m\u001b[1;34m\"%m-%d-%Y_%H-%M-%S\"\u001b[0m\u001b[1;33m)\u001b[0m\u001b[1;33m\u001b[0m\u001b[0m\n\u001b[0;32m    180\u001b[0m             \u001b[0mrun_id\u001b[0m \u001b[1;33m=\u001b[0m \u001b[1;34m\"{}\"\u001b[0m\u001b[1;33m.\u001b[0m\u001b[0mformat\u001b[0m\u001b[1;33m(\u001b[0m\u001b[0mdate_time_string\u001b[0m\u001b[1;33m)\u001b[0m\u001b[1;33m\u001b[0m\u001b[0m\n\u001b[1;32m--> 181\u001b[1;33m             \u001b[0mself\u001b[0m\u001b[1;33m.\u001b[0m\u001b[0m_model\u001b[0m\u001b[1;33m.\u001b[0m\u001b[0mfit\u001b[0m\u001b[1;33m(\u001b[0m\u001b[1;33m[\u001b[0m\u001b[0minput_data\u001b[0m\u001b[1;33m,\u001b[0m \u001b[0moutput_mask\u001b[0m\u001b[1;33m]\u001b[0m\u001b[1;33m,\u001b[0m \u001b[0moutput_data\u001b[0m\u001b[1;33m,\u001b[0m \u001b[0mn_epoch\u001b[0m\u001b[1;33m=\u001b[0m\u001b[0mn_epoch\u001b[0m\u001b[1;33m,\u001b[0m \u001b[0mvalidation_set\u001b[0m\u001b[1;33m=\u001b[0m\u001b[0mvalidation_set\u001b[0m\u001b[1;33m,\u001b[0m \u001b[0mrun_id\u001b[0m\u001b[1;33m=\u001b[0m\u001b[0mrun_id\u001b[0m\u001b[1;33m,\u001b[0m \u001b[0mcallbacks\u001b[0m\u001b[1;33m=\u001b[0m\u001b[0mcallbacks\u001b[0m\u001b[1;33m,\u001b[0m \u001b[0mshuffle\u001b[0m\u001b[1;33m=\u001b[0m\u001b[0mshuffle\u001b[0m\u001b[1;33m,\u001b[0m \u001b[0mbatch_size\u001b[0m\u001b[1;33m=\u001b[0m\u001b[0mbatch_size\u001b[0m\u001b[1;33m)\u001b[0m\u001b[1;33m\u001b[0m\u001b[0m\n\u001b[0m\u001b[0;32m    182\u001b[0m \u001b[1;33m\u001b[0m\u001b[0m\n\u001b[0;32m    183\u001b[0m \u001b[1;33m\u001b[0m\u001b[0m\n",
      "\u001b[1;32m~\\Miniconda3\\envs\\tensorflow\\lib\\site-packages\\tflearn\\models\\dnn.py\u001b[0m in \u001b[0;36mfit\u001b[1;34m(self, X_inputs, Y_targets, n_epoch, validation_set, show_metric, batch_size, shuffle, snapshot_epoch, snapshot_step, excl_trainops, validation_batch_size, run_id, callbacks)\u001b[0m\n\u001b[0;32m    214\u001b[0m                          \u001b[0mexcl_trainops\u001b[0m\u001b[1;33m=\u001b[0m\u001b[0mexcl_trainops\u001b[0m\u001b[1;33m,\u001b[0m\u001b[1;33m\u001b[0m\u001b[0m\n\u001b[0;32m    215\u001b[0m                          \u001b[0mrun_id\u001b[0m\u001b[1;33m=\u001b[0m\u001b[0mrun_id\u001b[0m\u001b[1;33m,\u001b[0m\u001b[1;33m\u001b[0m\u001b[0m\n\u001b[1;32m--> 216\u001b[1;33m                          callbacks=callbacks)\n\u001b[0m\u001b[0;32m    217\u001b[0m \u001b[1;33m\u001b[0m\u001b[0m\n\u001b[0;32m    218\u001b[0m     \u001b[1;32mdef\u001b[0m \u001b[0mfit_batch\u001b[0m\u001b[1;33m(\u001b[0m\u001b[0mself\u001b[0m\u001b[1;33m,\u001b[0m \u001b[0mX_inputs\u001b[0m\u001b[1;33m,\u001b[0m \u001b[0mY_targets\u001b[0m\u001b[1;33m)\u001b[0m\u001b[1;33m:\u001b[0m\u001b[1;33m\u001b[0m\u001b[0m\n",
      "\u001b[1;32m~\\Miniconda3\\envs\\tensorflow\\lib\\site-packages\\tflearn\\helpers\\trainer.py\u001b[0m in \u001b[0;36mfit\u001b[1;34m(self, feed_dicts, n_epoch, val_feed_dicts, show_metric, snapshot_step, snapshot_epoch, shuffle_all, dprep_dict, daug_dict, excl_trainops, run_id, callbacks)\u001b[0m\n\u001b[0;32m    337\u001b[0m                                                        \u001b[1;33m(\u001b[0m\u001b[0mbool\u001b[0m\u001b[1;33m(\u001b[0m\u001b[0mself\u001b[0m\u001b[1;33m.\u001b[0m\u001b[0mbest_checkpoint_path\u001b[0m\u001b[1;33m)\u001b[0m \u001b[1;33m|\u001b[0m \u001b[0msnapshot_epoch\u001b[0m\u001b[1;33m)\u001b[0m\u001b[1;33m,\u001b[0m\u001b[1;33m\u001b[0m\u001b[0m\n\u001b[0;32m    338\u001b[0m                                                        \u001b[0msnapshot_step\u001b[0m\u001b[1;33m,\u001b[0m\u001b[1;33m\u001b[0m\u001b[0m\n\u001b[1;32m--> 339\u001b[1;33m                                                        show_metric)\n\u001b[0m\u001b[0;32m    340\u001b[0m \u001b[1;33m\u001b[0m\u001b[0m\n\u001b[0;32m    341\u001b[0m                             \u001b[1;31m# Update training state\u001b[0m\u001b[1;33m\u001b[0m\u001b[1;33m\u001b[0m\u001b[0m\n",
      "\u001b[1;32m~\\Miniconda3\\envs\\tensorflow\\lib\\site-packages\\tflearn\\helpers\\trainer.py\u001b[0m in \u001b[0;36m_train\u001b[1;34m(self, training_step, snapshot_epoch, snapshot_step, show_metric)\u001b[0m\n\u001b[0;32m    816\u001b[0m         \u001b[0mtflearn\u001b[0m\u001b[1;33m.\u001b[0m\u001b[0mis_training\u001b[0m\u001b[1;33m(\u001b[0m\u001b[1;32mTrue\u001b[0m\u001b[1;33m,\u001b[0m \u001b[0msession\u001b[0m\u001b[1;33m=\u001b[0m\u001b[0mself\u001b[0m\u001b[1;33m.\u001b[0m\u001b[0msession\u001b[0m\u001b[1;33m)\u001b[0m\u001b[1;33m\u001b[0m\u001b[0m\n\u001b[0;32m    817\u001b[0m         _, train_summ_str = self.session.run([self.train, self.summ_op],\n\u001b[1;32m--> 818\u001b[1;33m                                              feed_batch)\n\u001b[0m\u001b[0;32m    819\u001b[0m \u001b[1;33m\u001b[0m\u001b[0m\n\u001b[0;32m    820\u001b[0m         \u001b[1;31m# Retrieve loss value from summary string\u001b[0m\u001b[1;33m\u001b[0m\u001b[1;33m\u001b[0m\u001b[0m\n",
      "\u001b[1;32m~\\Miniconda3\\envs\\tensorflow\\lib\\site-packages\\tensorflow\\python\\client\\session.py\u001b[0m in \u001b[0;36mrun\u001b[1;34m(self, fetches, feed_dict, options, run_metadata)\u001b[0m\n\u001b[0;32m    787\u001b[0m     \u001b[1;32mtry\u001b[0m\u001b[1;33m:\u001b[0m\u001b[1;33m\u001b[0m\u001b[0m\n\u001b[0;32m    788\u001b[0m       result = self._run(None, fetches, feed_dict, options_ptr,\n\u001b[1;32m--> 789\u001b[1;33m                          run_metadata_ptr)\n\u001b[0m\u001b[0;32m    790\u001b[0m       \u001b[1;32mif\u001b[0m \u001b[0mrun_metadata\u001b[0m\u001b[1;33m:\u001b[0m\u001b[1;33m\u001b[0m\u001b[0m\n\u001b[0;32m    791\u001b[0m         \u001b[0mproto_data\u001b[0m \u001b[1;33m=\u001b[0m \u001b[0mtf_session\u001b[0m\u001b[1;33m.\u001b[0m\u001b[0mTF_GetBuffer\u001b[0m\u001b[1;33m(\u001b[0m\u001b[0mrun_metadata_ptr\u001b[0m\u001b[1;33m)\u001b[0m\u001b[1;33m\u001b[0m\u001b[0m\n",
      "\u001b[1;32m~\\Miniconda3\\envs\\tensorflow\\lib\\site-packages\\tensorflow\\python\\client\\session.py\u001b[0m in \u001b[0;36m_run\u001b[1;34m(self, handle, fetches, feed_dict, options, run_metadata)\u001b[0m\n\u001b[0;32m    995\u001b[0m     \u001b[1;32mif\u001b[0m \u001b[0mfinal_fetches\u001b[0m \u001b[1;32mor\u001b[0m \u001b[0mfinal_targets\u001b[0m\u001b[1;33m:\u001b[0m\u001b[1;33m\u001b[0m\u001b[0m\n\u001b[0;32m    996\u001b[0m       results = self._do_run(handle, final_targets, final_fetches,\n\u001b[1;32m--> 997\u001b[1;33m                              feed_dict_string, options, run_metadata)\n\u001b[0m\u001b[0;32m    998\u001b[0m     \u001b[1;32melse\u001b[0m\u001b[1;33m:\u001b[0m\u001b[1;33m\u001b[0m\u001b[0m\n\u001b[0;32m    999\u001b[0m       \u001b[0mresults\u001b[0m \u001b[1;33m=\u001b[0m \u001b[1;33m[\u001b[0m\u001b[1;33m]\u001b[0m\u001b[1;33m\u001b[0m\u001b[0m\n",
      "\u001b[1;32m~\\Miniconda3\\envs\\tensorflow\\lib\\site-packages\\tensorflow\\python\\client\\session.py\u001b[0m in \u001b[0;36m_do_run\u001b[1;34m(self, handle, target_list, fetch_list, feed_dict, options, run_metadata)\u001b[0m\n\u001b[0;32m   1130\u001b[0m     \u001b[1;32mif\u001b[0m \u001b[0mhandle\u001b[0m \u001b[1;32mis\u001b[0m \u001b[1;32mNone\u001b[0m\u001b[1;33m:\u001b[0m\u001b[1;33m\u001b[0m\u001b[0m\n\u001b[0;32m   1131\u001b[0m       return self._do_call(_run_fn, self._session, feed_dict, fetch_list,\n\u001b[1;32m-> 1132\u001b[1;33m                            target_list, options, run_metadata)\n\u001b[0m\u001b[0;32m   1133\u001b[0m     \u001b[1;32melse\u001b[0m\u001b[1;33m:\u001b[0m\u001b[1;33m\u001b[0m\u001b[0m\n\u001b[0;32m   1134\u001b[0m       return self._do_call(_prun_fn, self._session, handle, feed_dict,\n",
      "\u001b[1;32m~\\Miniconda3\\envs\\tensorflow\\lib\\site-packages\\tensorflow\\python\\client\\session.py\u001b[0m in \u001b[0;36m_do_call\u001b[1;34m(self, fn, *args)\u001b[0m\n\u001b[0;32m   1137\u001b[0m   \u001b[1;32mdef\u001b[0m \u001b[0m_do_call\u001b[0m\u001b[1;33m(\u001b[0m\u001b[0mself\u001b[0m\u001b[1;33m,\u001b[0m \u001b[0mfn\u001b[0m\u001b[1;33m,\u001b[0m \u001b[1;33m*\u001b[0m\u001b[0margs\u001b[0m\u001b[1;33m)\u001b[0m\u001b[1;33m:\u001b[0m\u001b[1;33m\u001b[0m\u001b[0m\n\u001b[0;32m   1138\u001b[0m     \u001b[1;32mtry\u001b[0m\u001b[1;33m:\u001b[0m\u001b[1;33m\u001b[0m\u001b[0m\n\u001b[1;32m-> 1139\u001b[1;33m       \u001b[1;32mreturn\u001b[0m \u001b[0mfn\u001b[0m\u001b[1;33m(\u001b[0m\u001b[1;33m*\u001b[0m\u001b[0margs\u001b[0m\u001b[1;33m)\u001b[0m\u001b[1;33m\u001b[0m\u001b[0m\n\u001b[0m\u001b[0;32m   1140\u001b[0m     \u001b[1;32mexcept\u001b[0m \u001b[0merrors\u001b[0m\u001b[1;33m.\u001b[0m\u001b[0mOpError\u001b[0m \u001b[1;32mas\u001b[0m \u001b[0me\u001b[0m\u001b[1;33m:\u001b[0m\u001b[1;33m\u001b[0m\u001b[0m\n\u001b[0;32m   1141\u001b[0m       \u001b[0mmessage\u001b[0m \u001b[1;33m=\u001b[0m \u001b[0mcompat\u001b[0m\u001b[1;33m.\u001b[0m\u001b[0mas_text\u001b[0m\u001b[1;33m(\u001b[0m\u001b[0me\u001b[0m\u001b[1;33m.\u001b[0m\u001b[0mmessage\u001b[0m\u001b[1;33m)\u001b[0m\u001b[1;33m\u001b[0m\u001b[0m\n",
      "\u001b[1;32m~\\Miniconda3\\envs\\tensorflow\\lib\\site-packages\\tensorflow\\python\\client\\session.py\u001b[0m in \u001b[0;36m_run_fn\u001b[1;34m(session, feed_dict, fetch_list, target_list, options, run_metadata)\u001b[0m\n\u001b[0;32m   1119\u001b[0m         return tf_session.TF_Run(session, options,\n\u001b[0;32m   1120\u001b[0m                                  \u001b[0mfeed_dict\u001b[0m\u001b[1;33m,\u001b[0m \u001b[0mfetch_list\u001b[0m\u001b[1;33m,\u001b[0m \u001b[0mtarget_list\u001b[0m\u001b[1;33m,\u001b[0m\u001b[1;33m\u001b[0m\u001b[0m\n\u001b[1;32m-> 1121\u001b[1;33m                                  status, run_metadata)\n\u001b[0m\u001b[0;32m   1122\u001b[0m \u001b[1;33m\u001b[0m\u001b[0m\n\u001b[0;32m   1123\u001b[0m     \u001b[1;32mdef\u001b[0m \u001b[0m_prun_fn\u001b[0m\u001b[1;33m(\u001b[0m\u001b[0msession\u001b[0m\u001b[1;33m,\u001b[0m \u001b[0mhandle\u001b[0m\u001b[1;33m,\u001b[0m \u001b[0mfeed_dict\u001b[0m\u001b[1;33m,\u001b[0m \u001b[0mfetch_list\u001b[0m\u001b[1;33m)\u001b[0m\u001b[1;33m:\u001b[0m\u001b[1;33m\u001b[0m\u001b[0m\n",
      "\u001b[1;31mKeyboardInterrupt\u001b[0m: "
     ]
    }
   ],
   "source": [
    "num_epoch_batch = 60\n",
    "num_epoch_per_batch = 1\n",
    "for eb in six.moves.range(num_epoch_batch):\n",
    "    # add noise to each batch\n",
    "    processed_input_data = input_data_ + 0.01*np.random.randn(*input_data_.shape)\n",
    "    train_data = (processed_input_data[:,:,:], output_mask_[:,:,:], target_data_[:,:,:])\n",
    "    dmodel.train(train_data,\n",
    "                 n_epoch=num_epoch_per_batch,\n",
    "                 callbacks=ecall,\n",
    "                 load_checkpoint=False,\n",
    "                 shuffle=True,\n",
    "                 validation_set=0.1,\n",
    "                batch_size=None)"
   ]
  },
  {
   "cell_type": "code",
   "execution_count": 23,
   "metadata": {},
   "outputs": [
    {
     "ename": "TypeError",
     "evalue": "unsupported operand type(s) for +: 'float' and 'NoneType'",
     "output_type": "error",
     "traceback": [
      "\u001b[1;31m---------------------------------------------------------------------------\u001b[0m",
      "\u001b[1;31mTypeError\u001b[0m                                 Traceback (most recent call last)",
      "\u001b[1;32m<ipython-input-23-104fa2922a42>\u001b[0m in \u001b[0;36m<module>\u001b[1;34m()\u001b[0m\n\u001b[0;32m      7\u001b[0m \u001b[0mplot\u001b[0m\u001b[1;33m(\u001b[0m\u001b[0mtrain_loss\u001b[0m\u001b[1;33m)\u001b[0m\u001b[1;33m\u001b[0m\u001b[0m\n\u001b[0;32m      8\u001b[0m \u001b[0mplot\u001b[0m\u001b[1;33m(\u001b[0m\u001b[0mval_loss\u001b[0m\u001b[1;33m)\u001b[0m\u001b[1;33m\u001b[0m\u001b[0m\n\u001b[1;32m----> 9\u001b[1;33m \u001b[0mlast_val_loss\u001b[0m \u001b[1;33m=\u001b[0m \u001b[0mnp\u001b[0m\u001b[1;33m.\u001b[0m\u001b[0mmean\u001b[0m\u001b[1;33m(\u001b[0m\u001b[0mval_loss\u001b[0m\u001b[1;33m[\u001b[0m\u001b[1;33m-\u001b[0m\u001b[1;36m2\u001b[0m\u001b[1;33m:\u001b[0m\u001b[1;33m]\u001b[0m\u001b[1;33m)\u001b[0m\u001b[1;33m\u001b[0m\u001b[0m\n\u001b[0m\u001b[0;32m     10\u001b[0m \u001b[0mval_loss_thres\u001b[0m \u001b[1;33m=\u001b[0m \u001b[0mlast_val_loss\u001b[0m \u001b[1;33m+\u001b[0m \u001b[1;36m0.000001\u001b[0m\u001b[1;33m\u001b[0m\u001b[0m\n\u001b[0;32m     11\u001b[0m \u001b[0mlast_train_loss\u001b[0m \u001b[1;33m=\u001b[0m \u001b[0mnp\u001b[0m\u001b[1;33m.\u001b[0m\u001b[0mmean\u001b[0m\u001b[1;33m(\u001b[0m\u001b[0mtrain_loss\u001b[0m\u001b[1;33m[\u001b[0m\u001b[1;33m-\u001b[0m\u001b[1;36m2\u001b[0m\u001b[1;33m:\u001b[0m\u001b[1;33m]\u001b[0m\u001b[1;33m)\u001b[0m\u001b[1;33m\u001b[0m\u001b[0m\n",
      "\u001b[1;32m~\\Miniconda3\\envs\\tensorflow\\lib\\site-packages\\numpy\\core\\fromnumeric.py\u001b[0m in \u001b[0;36mmean\u001b[1;34m(a, axis, dtype, out, keepdims)\u001b[0m\n\u001b[0;32m   2907\u001b[0m \u001b[1;33m\u001b[0m\u001b[0m\n\u001b[0;32m   2908\u001b[0m     return _methods._mean(a, axis=axis, dtype=dtype,\n\u001b[1;32m-> 2909\u001b[1;33m                           out=out, **kwargs)\n\u001b[0m\u001b[0;32m   2910\u001b[0m \u001b[1;33m\u001b[0m\u001b[0m\n\u001b[0;32m   2911\u001b[0m \u001b[1;33m\u001b[0m\u001b[0m\n",
      "\u001b[1;32m~\\Miniconda3\\envs\\tensorflow\\lib\\site-packages\\numpy\\core\\_methods.py\u001b[0m in \u001b[0;36m_mean\u001b[1;34m(a, axis, dtype, out, keepdims)\u001b[0m\n\u001b[0;32m     68\u001b[0m             \u001b[0mis_float16_result\u001b[0m \u001b[1;33m=\u001b[0m \u001b[1;32mTrue\u001b[0m\u001b[1;33m\u001b[0m\u001b[0m\n\u001b[0;32m     69\u001b[0m \u001b[1;33m\u001b[0m\u001b[0m\n\u001b[1;32m---> 70\u001b[1;33m     \u001b[0mret\u001b[0m \u001b[1;33m=\u001b[0m \u001b[0mumr_sum\u001b[0m\u001b[1;33m(\u001b[0m\u001b[0marr\u001b[0m\u001b[1;33m,\u001b[0m \u001b[0maxis\u001b[0m\u001b[1;33m,\u001b[0m \u001b[0mdtype\u001b[0m\u001b[1;33m,\u001b[0m \u001b[0mout\u001b[0m\u001b[1;33m,\u001b[0m \u001b[0mkeepdims\u001b[0m\u001b[1;33m)\u001b[0m\u001b[1;33m\u001b[0m\u001b[0m\n\u001b[0m\u001b[0;32m     71\u001b[0m     \u001b[1;32mif\u001b[0m \u001b[0misinstance\u001b[0m\u001b[1;33m(\u001b[0m\u001b[0mret\u001b[0m\u001b[1;33m,\u001b[0m \u001b[0mmu\u001b[0m\u001b[1;33m.\u001b[0m\u001b[0mndarray\u001b[0m\u001b[1;33m)\u001b[0m\u001b[1;33m:\u001b[0m\u001b[1;33m\u001b[0m\u001b[0m\n\u001b[0;32m     72\u001b[0m         ret = um.true_divide(\n",
      "\u001b[1;31mTypeError\u001b[0m: unsupported operand type(s) for +: 'float' and 'NoneType'"
     ]
    },
    {
     "data": {
      "image/png": "[encoded data removed]",
      "text/plain": [
       "<matplotlib.figure.Figure at 0x12f30d575c0>"
      ]
     },
     "metadata": {},
     "output_type": "display_data"
    }
   ],
   "source": [
    "# binary crossentropy doesn't work\n",
    "# default batch size of 64 with 100000 trajectories is 1562.5 iters per epoch\n",
    "# which means 40 epochs is 62,500 iters\n",
    "train_loss = np.array([np.mean([ts.global_loss for ts in batch]) for batch in ecall.tstates])\n",
    "val_loss = np.array([batch[-1].val_loss for batch in ecall.tstates])\n",
    "figure()\n",
    "plot(train_loss)\n",
    "plot(val_loss)\n",
    "last_val_loss = np.mean(val_loss[-2:])\n",
    "val_loss_thres = last_val_loss + 0.000001\n",
    "last_train_loss = np.mean(train_loss[-2:])\n",
    "#xlim(40,50)\n",
    "six.print_('Train Loss Limit: {:.8f}'.format(last_train_loss))\n",
    "six.print_('Val Loss Limit: {:.8f} Thresh: {:.8f}'.format(last_val_loss, val_loss_thres))\n",
    "plot([0,train_loss.shape[0]], [last_val_loss,last_val_loss], color='#ff0000')\n",
    "plot([0,train_loss.shape[0]], [val_loss_thres,val_loss_thres], color='#ff0000')\n",
    "#ylim(last_val_loss - 0.00001, last_val_loss + 0.00002)\n",
    "ylim(0,0.00002)\n",
    "# training length 7\n",
    "# trying gru simple mid size with learning rate 0.01: seems like about <40 epochs is good enough\n",
    "# gru simple small size with lr 0.01: looks like 34 is enough\n",
    "# simple mid size of lr 0.01: looks like 34 is enough\n",
    "# simple small size of lr 0.01: looks like 34 is enough\n",
    "# try it out dropout=0.8\n",
    "# gru simple mid size lr 0.01: doesn't seem like 70 eps is enough, though after 40 it seems stable, val loss seems to converge much earlier\n",
    "# simple mid size lr 0.01: doesn't seem like 60 is enough, kinda stable-ish? after 30 epochs, validation loss also seems mostly stable\n",
    "# overall it seems like 40 epochs is enough for everything, small, mid, or dropout\n",
    "# training length 6\n",
    "# looks like 50 epochs is needed to stablize"
   ]
  },
  {
   "cell_type": "code",
   "execution_count": 24,
   "metadata": {},
   "outputs": [
    {
     "name": "stdout",
     "output_type": "stream",
     "text": [
      "[[[ 0.  0.  0.  0.  0.  0.  0.  1.  0.  0.]\n",
      "  [ 0.  0.  0.  0.  0.  0.  0.  0.  1.  0.]\n",
      "  [ 0.  0.  0.  0.  0.  0.  1.  0.  0.  0.]\n",
      "  [ 0.  0.  0.  0.  0.  0.  1.  0.  0.  0.]\n",
      "  [ 1.  0.  0.  0.  0.  0.  0.  0.  0.  0.]\n",
      "  [ 1.  0.  0.  0.  0.  0.  0.  0.  0.  0.]]]\n",
      "(array([0, 0, 0, 0, 1]), False, array([ 1.,  1.,  0.,  0.,  0.]), array([1, 1, 0, 0, 0, 1, 1, 1, 0, 0]))\n",
      "[[[  9.99822438e-01   3.92167067e-06   4.12475783e-03   3.87934688e-06\n",
      "     2.63397524e-05]\n",
      "  [  9.99985218e-01   2.51906130e-07   2.31746326e-05   8.71357670e-08\n",
      "     3.77694141e-06]\n",
      "  [  9.99998450e-01   4.03231039e-04   1.42168437e-05   7.47866338e-08\n",
      "     3.27575253e-06]\n",
      "  [  9.99999166e-01   9.99933243e-01   1.59054558e-04   1.67696396e-06\n",
      "     3.30989715e-05]\n",
      "  [  9.99998927e-01   9.99973893e-01   3.06013389e-04   2.17467209e-06\n",
      "     4.91370120e-05]\n",
      "  [  9.99998808e-01   9.99984860e-01   4.91819577e-04   2.60757793e-06\n",
      "     6.27070258e-05]]]\n",
      "Next observation: [ 1.  0.  0.  0.  0.  0.  0.  0.  0.  0.]\n",
      "Next prediction: 1.0000 1.0000 0.0005 0.0000 0.0001\n",
      "Next observation: [ 0.  1.  0.  0.  0.  0.  0.  0.  0.  0.]\n",
      "Next prediction: 1.0000 1.0000 0.0005 0.0000 0.0001\n",
      "Next observation: [ 0.  0.  1.  0.  0.  0.  0.  0.  0.  0.]\n",
      "Next prediction: 1.0000 1.0000 0.0005 0.0000 0.0001\n",
      "Next observation: [ 0.  0.  0.  1.  0.  0.  0.  0.  0.  0.]\n",
      "Next prediction: 1.0000 1.0000 0.0005 0.0000 0.0001\n",
      "Next observation: [ 0.  0.  0.  0.  1.  0.  0.  0.  0.  0.]\n",
      "Next prediction: 1.0000 1.0000 0.0005 0.0000 0.0001\n",
      "Next observation: [ 0.  0.  0.  0.  0.  1.  0.  0.  0.  0.]\n",
      "Next prediction: 1.0000 1.0000 0.0005 0.0000 0.0001\n",
      "Next observation: [ 0.  0.  0.  0.  0.  0.  1.  0.  0.  0.]\n",
      "Next prediction: 1.0000 1.0000 0.0005 0.0000 0.0001\n",
      "Next observation: [ 0.  0.  0.  0.  0.  0.  0.  1.  0.  0.]\n",
      "Next prediction: 1.0000 1.0000 0.0005 0.0000 0.0001\n",
      "Next observation: [ 0.  0.  0.  0.  0.  0.  0.  0.  1.  0.]\n",
      "Next prediction: 1.0000 1.0000 0.0005 0.0000 0.0001\n",
      "Next observation: [ 0.  0.  0.  0.  0.  0.  0.  0.  0.  1.]\n",
      "Next prediction: 1.0000 1.0000 0.0005 0.0000 0.0001\n"
     ]
    }
   ],
   "source": [
    "# predict a bit\n",
    "dataix = 4\n",
    "test_input_data = input_data_[dataix:dataix+1,:,:]\n",
    "six.print_(test_input_data)\n",
    "six.print_(data[dataix][-1])\n",
    "prediction = dmodel.predict(test_input_data)\n",
    "six.print_(prediction)\n",
    "# add one observation of each type and see what the predictions are\n",
    "for nexta in six.moves.range(n_concepts*2):\n",
    "    obvec = np.zeros((n_concepts*2,))\n",
    "    obvec[nexta] = 1.0\n",
    "    #six.print_(test_input_data[0,:,:].shape)\n",
    "    #six.print_(obvec[np.newaxis,:].shape)\n",
    "    test_input_data2 = np.vstack((test_input_data[0,:,:],obvec[np.newaxis,:]))\n",
    "    six.print_('Next observation: {}'.format(obvec))\n",
    "    prediction = dmodel.predict(test_input_data2[np.newaxis,:,:])\n",
    "    six.print_('Next prediction: ' + ' '.join('{:.4f}'.format(x) for x in prediction[0,seqlen-2,:]))"
   ]
  },
  {
   "cell_type": "code",
   "execution_count": 25,
   "metadata": {},
   "outputs": [
    {
     "name": "stdout",
     "output_type": "stream",
     "text": [
      "WARNING:tensorflow:Error encountered when serializing layer_tensor/gru_1.\n",
      "Type is unsupported, or the types of the items don't match field type in CollectionDef.\n",
      "'list' object has no attribute 'name'\n"
     ]
    }
   ],
   "source": [
    "# save the model to a checkpoint file\n",
    "chkpt = 'tempmodel'\n",
    "dmodel.save(chkpt)"
   ]
  },
  {
   "cell_type": "code",
   "execution_count": 28,
   "metadata": {},
   "outputs": [
    {
     "name": "stdout",
     "output_type": "stream",
     "text": [
      "Loading RNN dynamics model...\n",
      "Directory path for tensorboard summaries: ../tensorboard_logs/test2w5_modelgrusimple_mid/\n",
      "Checkpoint directory path: ../checkpoints/test2w5_modelgrusimple_mid/\n",
      "Model loaded.\n",
      "INFO:tensorflow:Restoring parameters from D:\\Projects\\smart-tutor\\code\\tempmodel\n",
      "Time Elapsed 128.44826292991638\n"
     ]
    }
   ],
   "source": [
    "# test the model on the real environment\n",
    "test_horizon = 8\n",
    "n_rollouts = 3000\n",
    "n_trajectories = 8\n",
    "r_type = mcts.SPARSE\n",
    "\n",
    "test_student = Student2(n_concepts, transition_after=transition_after)\n",
    "test_student.reset()\n",
    "test_student.knowledge[0] = 1 # initialize the first concept to be known\n",
    "sim = StudentExactSim(test_student.copy(), concept_tree)\n",
    "\n",
    "starttime = time.time()\n",
    "mc.test_dkt_chunk(n_trajectories, concept_tree, sim, model_id, chkpt, test_horizon, n_rollouts, r_type)\n",
    "#mc.test_dkt(model_id, n_concepts, transition_after, test_horizon, n_rollouts, n_trajectories, r_type, True, chkpt=chkpt)\n",
    "endtime = time.time()\n",
    "six.print_('Time Elapsed {}'.format(endtime - starttime))"
   ]
  },
  {
   "cell_type": "code",
   "execution_count": null,
   "metadata": {
    "collapsed": true
   },
   "outputs": [],
   "source": []
  }
 ],
 "metadata": {
  "kernelspec": {
   "display_name": "Python 3",
   "language": "python",
   "name": "python3"
  },
  "language_info": {
   "codemirror_mode": {
    "name": "ipython",
    "version": 3
   },
   "file_extension": ".py",
   "mimetype": "text/x-python",
   "name": "python",
   "nbconvert_exporter": "python",
   "pygments_lexer": "ipython3",
   "version": "3.5.4"
  }
 },
 "nbformat": 4,
 "nbformat_minor": 2
}
