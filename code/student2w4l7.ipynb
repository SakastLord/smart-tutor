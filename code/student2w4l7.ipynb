{
 "cells": [
  {
   "cell_type": "code",
   "execution_count": 2,
   "metadata": {
    "collapsed": true
   },
   "outputs": [],
   "source": [
    "# July 31 2017\n",
    "# This file is for experiments with student2 4 skills and training trajectory length 7\n",
    "# to check different architectures and whether they can learn good models\n",
    "\n",
    "%load_ext autoreload\n",
    "%autoreload 2\n",
    "%matplotlib inline\n",
    "\n",
    "import numpy as np\n",
    "import scipy as sp\n",
    "import six\n",
    "from matplotlib.pyplot import *"
   ]
  },
  {
   "cell_type": "code",
   "execution_count": 10,
   "metadata": {},
   "outputs": [
    {
     "name": "stdout",
     "output_type": "stream",
     "text": [
      "(10, 21)\n",
      "last 0.00125380288737 threshold 0.00126\n"
     ]
    },
    {
     "data": {
      "text/plain": [
       "(0.0012, 0.0014)"
      ]
     },
     "execution_count": 10,
     "metadata": {},
     "output_type": "execute_result"
    },
    {
     "data": {
      "image/png": "[encoded data removed]",
      "text/plain": [
       "<matplotlib.figure.Figure at 0x7f9001c4b3d0>"
      ]
     },
     "metadata": {},
     "output_type": "display_data"
    }
   ],
   "source": [
    "'''\n",
    "Default Double LSTM\n",
    "Trying to find a training epoch to stop training.\n",
    "'''\n",
    "data11 = np.load('experiments/test2_model_small-dropout10-shuffle0-data-test2-n100000-l7-random.pickle/stats-runA.npz')\n",
    "\n",
    "vloss = data11['vloss']\n",
    "#scores = data21['scores'][:,0]\n",
    "#initialq = data51['qvals'][:,0]\n",
    "#opts = data61['opts']\n",
    "#qfuncs = data61['qs'][:,0,:,:]\n",
    "\n",
    "six.print_(vloss.shape)\n",
    "figure()\n",
    "x_avg = np.mean(vloss,axis=0)\n",
    "x_serr = np.std(vloss,axis=0) / vloss.shape[0] * 1.98\n",
    "plot(x_avg, color='#0000ff')\n",
    "plot(x_avg + x_serr, color='#ddddff')\n",
    "plot(x_avg - x_serr, color='#ddddff')\n",
    "\n",
    "x_end = np.mean(x_avg[-2:])\n",
    "x_thres = 0.00126\n",
    "six.print_('last {} threshold {}'.format(x_end, x_thres))\n",
    "plot([0,20],[x_end,x_end],color='#ff0000')\n",
    "plot([0,20],[x_thres,x_thres],color='#ff0000')\n",
    "\n",
    "xlim(10, 15)\n",
    "ylim(0.0012,0.0014)\n",
    "\n",
    "# looks like epoch 11 is good for 0.00001\n",
    "# but might as well just make it 12 to be consistent with the others"
   ]
  },
  {
   "cell_type": "code",
   "execution_count": 14,
   "metadata": {},
   "outputs": [
    {
     "name": "stdout",
     "output_type": "stream",
     "text": [
      "(10, 21)\n",
      "last 7.97343786871e-08 threshold 1e-05\n"
     ]
    },
    {
     "data": {
      "text/plain": [
       "[<matplotlib.lines.Line2D at 0x7f9001abcf90>]"
      ]
     },
     "execution_count": 14,
     "metadata": {},
     "output_type": "execute_result"
    },
    {
     "data": {
      "image/png": "[encoded data removed]",
      "text/plain": [
       "<matplotlib.figure.Figure at 0x7f9001c3fd50>"
      ]
     },
     "metadata": {},
     "output_type": "display_data"
    }
   ],
   "source": [
    "'''\n",
    "Single LSTM\n",
    "Trying to find a training epoch to stop training.\n",
    "'''\n",
    "data11 = np.load('experiments/test2_modelsimple_small-dropout10-shuffle0-data-test2-n100000-l7-random.pickle/stats-runA.npz')\n",
    "\n",
    "vloss = data11['vloss']\n",
    "#scores = data21['scores'][:,0]\n",
    "#initialq = data51['qvals'][:,0]\n",
    "#opts = data61['opts']\n",
    "#qfuncs = data61['qs'][:,0,:,:]\n",
    "\n",
    "six.print_(vloss.shape)\n",
    "figure()\n",
    "x_avg = np.mean(vloss,axis=0)\n",
    "x_serr = np.std(vloss,axis=0) / vloss.shape[0] * 1.98\n",
    "plot(x_avg, color='#0000ff')\n",
    "plot(x_avg + x_serr, color='#ddddff')\n",
    "plot(x_avg - x_serr, color='#ddddff')\n",
    "\n",
    "x_end = np.mean(x_avg[-2:])\n",
    "x_thres = 0.00001\n",
    "six.print_('last {} threshold {}'.format(x_end, x_thres))\n",
    "plot([0,20],[x_end,x_end],color='#ff0000')\n",
    "plot([0,20],[x_thres,x_thres],color='#ff0000')\n",
    "\n",
    "#xlim(10, 15)\n",
    "#ylim(0.00,0.00002)\n",
    "\n",
    "# looks like epoch 12 is good for 0.00001"
   ]
  },
  {
   "cell_type": "code",
   "execution_count": 25,
   "metadata": {},
   "outputs": [
    {
     "name": "stdout",
     "output_type": "stream",
     "text": [
      "(10, 21)\n",
      "last 8.66475158124e-05 threshold 9e-05\n"
     ]
    },
    {
     "data": {
      "text/plain": [
       "(0.0, 0.0001)"
      ]
     },
     "execution_count": 25,
     "metadata": {},
     "output_type": "execute_result"
    },
    {
     "data": {
      "image/png": "[encoded data removed]",
      "text/plain": [
       "<matplotlib.figure.Figure at 0x7f90016df990>"
      ]
     },
     "metadata": {},
     "output_type": "display_data"
    }
   ],
   "source": [
    "'''\n",
    "Double GRU\n",
    "Trying to find a training epoch to stop training.\n",
    "'''\n",
    "data11 = np.load('experiments/test2_modelgru_small-dropout10-shuffle0-data-test2-n100000-l7-random.pickle/stats-runA.npz')\n",
    "\n",
    "vloss = data11['vloss']\n",
    "#scores = data21['scores'][:,0]\n",
    "#initialq = data51['qvals'][:,0]\n",
    "#opts = data61['opts']\n",
    "#qfuncs = data61['qs'][:,0,:,:]\n",
    "\n",
    "six.print_(vloss.shape)\n",
    "figure()\n",
    "x_avg = np.mean(vloss,axis=0)\n",
    "x_serr = np.std(vloss,axis=0) / vloss.shape[0] * 1.98\n",
    "plot(x_avg, color='#0000ff')\n",
    "plot(x_avg + x_serr, color='#ddddff')\n",
    "plot(x_avg - x_serr, color='#ddddff')\n",
    "\n",
    "x_end = np.mean(x_avg[-2:])\n",
    "x_thres = 0.00009\n",
    "six.print_('last {} threshold {}'.format(x_end, x_thres))\n",
    "plot([0,20],[x_end,x_end],color='#ff0000')\n",
    "plot([0,20],[x_thres,x_thres],color='#ff0000')\n",
    "\n",
    "xlim(10, 15)\n",
    "ylim(0.00,0.0001)\n",
    "\n",
    "# looks like epoch 12 is good for 0.00001"
   ]
  },
  {
   "cell_type": "code",
   "execution_count": 7,
   "metadata": {},
   "outputs": [
    {
     "name": "stdout",
     "output_type": "stream",
     "text": [
      "vloss shape (50, 13)\n",
      "scores shape (50,)\n",
      "[ 1.          0.125       0.          0.30208333  0.          0.          0.\n",
      "  0.          0.          0.13541667  0.          0.          0.0625      0.\n",
      "  0.          0.94791667  0.          0.          0.          0.          0.\n",
      "  1.          1.          1.          0.          0.          0.41666667\n",
      "  0.          0.86458333  0.61458333  1.          0.          0.          0.\n",
      "  0.          0.33333333  0.          0.01041667  0.26041667  0.          1.\n",
      "  0.          0.96875     0.46875     0.          0.          0.375       0.\n",
      "  0.          0.        ]\n"
     ]
    },
    {
     "data": {
      "text/plain": [
       "[<matplotlib.lines.Line2D at 0x7f356fce2f90>]"
      ]
     },
     "execution_count": 7,
     "metadata": {},
     "output_type": "execute_result"
    },
    {
     "data": {
      "image/png": "[encoded data removed]",
      "text/plain": [
       "<matplotlib.figure.Figure at 0x7f356dc77450>"
      ]
     },
     "metadata": {},
     "output_type": "display_data"
    }
   ],
   "source": [
    "'''\n",
    "Analyzing results of student2 with 4 skills, with training length 7 and testing length 6.\n",
    "Default Double LSTM\n",
    "Looking at correlation between training AUC and actual performance\n",
    "'''\n",
    "data11 = np.load('experiments/test2_model_small-dropout10-shuffle0-data-test2-n100000-l7-random.pickle/stats-runB.npz')\n",
    "data21 = np.load('experiments/test2_model_small-dropout10-shuffle0-data-test2-n100000-l7-random.pickle/mcts-rtype2-rollouts3000-trajectories100-real1-runB.npz')\n",
    "\n",
    "vloss = data11['vloss']\n",
    "scores = data21['scores'][:,0]\n",
    "#initialq = data51['qvals'][:,0]\n",
    "#opts = data61['opts']\n",
    "#qfuncs = data61['qs'][:,0,:,:]\n",
    "\n",
    "six.print_('vloss shape {}'.format(vloss.shape))\n",
    "#six.print_(vloss)\n",
    "six.print_('scores shape {}'.format(scores.shape))\n",
    "six.print_(scores)\n",
    "\n",
    "xs = np.sum(vloss,axis=1)\n",
    "ys = scores\n",
    "title('Training Loss AUC versus Actual Performance')\n",
    "xlabel('Training Loss AUC')\n",
    "ylabel('Posttest Score')\n",
    "plot(xs,ys,'.')"
   ]
  },
  {
   "cell_type": "code",
   "execution_count": 8,
   "metadata": {},
   "outputs": [
    {
     "name": "stdout",
     "output_type": "stream",
     "text": [
      "vloss shape (50, 13)\n",
      "scores shape (50,)\n",
      "[ 0.97916667  0.          0.          0.          0.          0.          0.\n",
      "  0.          0.04166667  0.          0.          0.          0.\n",
      "  0.54166667  0.58333333  0.          0.          0.53125     0.51041667\n",
      "  0.96875     0.          0.          0.          0.          0.          0.\n",
      "  0.          1.          0.1875      0.          0.          0.          1.\n",
      "  0.          0.          0.          0.          0.57291667  0.          0.\n",
      "  0.          1.          0.          0.          0.          1.          0.\n",
      "  0.          0.92708333  0.        ]\n"
     ]
    },
    {
     "data": {
      "text/plain": [
       "[<matplotlib.lines.Line2D at 0x7f356db77590>]"
      ]
     },
     "execution_count": 8,
     "metadata": {},
     "output_type": "execute_result"
    },
    {
     "data": {
      "image/png": "[encoded data removed]",
      "text/plain": [
       "<matplotlib.figure.Figure at 0x7f356fd0e3d0>"
      ]
     },
     "metadata": {},
     "output_type": "display_data"
    }
   ],
   "source": [
    "'''\n",
    "Analyzing results of student2 with 4 skills, with training length 7 and testing length 6.\n",
    "Single LSTM\n",
    "Looking at correlation between training AUC and actual performance\n",
    "'''\n",
    "data11 = np.load('experiments/test2_modelsimple_small-dropout10-shuffle0-data-test2-n100000-l7-random.pickle/stats-runB.npz')\n",
    "data21 = np.load('experiments/test2_modelsimple_small-dropout10-shuffle0-data-test2-n100000-l7-random.pickle/mcts-rtype2-rollouts3000-trajectories100-real1-runB.npz')\n",
    "\n",
    "vloss = data11['vloss']\n",
    "scores = data21['scores'][:,0]\n",
    "#initialq = data51['qvals'][:,0]\n",
    "#opts = data61['opts']\n",
    "#qfuncs = data61['qs'][:,0,:,:]\n",
    "\n",
    "six.print_('vloss shape {}'.format(vloss.shape))\n",
    "#six.print_(vloss)\n",
    "six.print_('scores shape {}'.format(scores.shape))\n",
    "six.print_(scores)\n",
    "\n",
    "xs = np.sum(vloss,axis=1)\n",
    "ys = scores\n",
    "title('Training Loss AUC versus Actual Performance')\n",
    "xlabel('Training Loss AUC')\n",
    "ylabel('Posttest Score')\n",
    "plot(xs,ys,'.')"
   ]
  },
  {
   "cell_type": "code",
   "execution_count": 9,
   "metadata": {},
   "outputs": [
    {
     "name": "stdout",
     "output_type": "stream",
     "text": [
      "vloss shape (50, 13)\n",
      "scores shape (50,)\n",
      "[ 1.          0.98958333  0.01041667  0.          0.          0.          1.\n",
      "  0.          0.          0.          0.98958333  0.          0.97916667\n",
      "  0.          0.91666667  0.          0.01041667  0.          0.          0.\n",
      "  0.          0.          0.97916667  0.          0.          0.          1.\n",
      "  0.          0.54166667  0.          0.          0.10416667  0.          0.\n",
      "  0.          0.          0.          1.          0.          0.\n",
      "  0.19791667  0.          0.16666667  0.          0.          0.01041667\n",
      "  0.          0.01041667  0.          0.        ]\n"
     ]
    },
    {
     "data": {
      "text/plain": [
       "[<matplotlib.lines.Line2D at 0x7f356dc77e50>]"
      ]
     },
     "execution_count": 9,
     "metadata": {},
     "output_type": "execute_result"
    },
    {
     "data": {
      "image/png": "[encoded data removed]",
      "text/plain": [
       "<matplotlib.figure.Figure at 0x7f356fcb8290>"
      ]
     },
     "metadata": {},
     "output_type": "display_data"
    }
   ],
   "source": [
    "'''\n",
    "Analyzing results of student2 with 4 skills, with training length 7 and testing length 6.\n",
    "Double GRU\n",
    "Looking at correlation between training AUC and actual performance\n",
    "'''\n",
    "data11 = np.load('experiments/test2_modelgru_small-dropout10-shuffle0-data-test2-n100000-l7-random.pickle/stats-runB.npz')\n",
    "data21 = np.load('experiments/test2_modelgru_small-dropout10-shuffle0-data-test2-n100000-l7-random.pickle/mcts-rtype2-rollouts3000-trajectories100-real1-runB.npz')\n",
    "\n",
    "vloss = data11['vloss']\n",
    "scores = data21['scores'][:,0]\n",
    "#initialq = data51['qvals'][:,0]\n",
    "#opts = data61['opts']\n",
    "#qfuncs = data61['qs'][:,0,:,:]\n",
    "\n",
    "six.print_('vloss shape {}'.format(vloss.shape))\n",
    "#six.print_(vloss)\n",
    "six.print_('scores shape {}'.format(scores.shape))\n",
    "six.print_(scores)\n",
    "\n",
    "xs = np.sum(vloss,axis=1)\n",
    "ys = scores\n",
    "title('Training Loss AUC versus Actual Performance')\n",
    "xlabel('Training Loss AUC')\n",
    "ylabel('Posttest Score')\n",
    "plot(xs,ys,'.')"
   ]
  },
  {
   "cell_type": "markdown",
   "metadata": {
    "collapsed": true
   },
   "source": [
    "# Now switched to using egreedy 0.3 instead of random exploration"
   ]
  },
  {
   "cell_type": "code",
   "execution_count": 9,
   "metadata": {},
   "outputs": [
    {
     "name": "stdout",
     "output_type": "stream",
     "text": [
      "(10, 21)\n",
      "last 0.00145415554735 threshold 0.00146\n"
     ]
    },
    {
     "data": {
      "text/plain": [
       "(0.0014, 0.0015)"
      ]
     },
     "execution_count": 9,
     "metadata": {},
     "output_type": "execute_result"
    },
    {
     "data": {
      "image/png": "[encoded data removed]",
      "text/plain": [
       "<matplotlib.figure.Figure at 0x7f24f7699f10>"
      ]
     },
     "metadata": {},
     "output_type": "display_data"
    }
   ],
   "source": [
    "'''\n",
    "Default Double LSTM\n",
    "Trying to find a training epoch to stop training.\n",
    "'''\n",
    "data11 = np.load('experiments/test2_model_small-dropout10-shuffle0-data-test2-n100000-l7-egreedy0.30.pickle/stats-runA.npz')\n",
    "\n",
    "vloss = data11['vloss']\n",
    "#scores = data21['scores'][:,0]\n",
    "#initialq = data51['qvals'][:,0]\n",
    "#opts = data61['opts']\n",
    "#qfuncs = data61['qs'][:,0,:,:]\n",
    "\n",
    "six.print_(vloss.shape)\n",
    "figure()\n",
    "x_avg = np.mean(vloss,axis=0)\n",
    "x_serr = np.std(vloss,axis=0) / vloss.shape[0] * 1.98\n",
    "plot(x_avg, color='#0000ff')\n",
    "plot(x_avg + x_serr, color='#ddddff')\n",
    "plot(x_avg - x_serr, color='#ddddff')\n",
    "\n",
    "x_end = np.mean(x_avg[-2:])\n",
    "x_thres = 0.00146\n",
    "six.print_('last {} threshold {}'.format(x_end, x_thres))\n",
    "plot([0,20],[x_end,x_end],color='#ff0000')\n",
    "plot([0,20],[x_thres,x_thres],color='#ff0000')\n",
    "\n",
    "xlim(5, 10)\n",
    "ylim(0.0014,0.0015)\n",
    "\n",
    "# looks like epoch 9 is good for 0.00001"
   ]
  },
  {
   "cell_type": "code",
   "execution_count": 13,
   "metadata": {},
   "outputs": [
    {
     "name": "stdout",
     "output_type": "stream",
     "text": [
      "(10, 21)\n",
      "last 9.48756607707e-09 threshold 1e-05\n"
     ]
    },
    {
     "data": {
      "text/plain": [
       "(0.0, 2e-05)"
      ]
     },
     "execution_count": 13,
     "metadata": {},
     "output_type": "execute_result"
    },
    {
     "data": {
      "image/png": "[encoded data removed]",
      "text/plain": [
       "<matplotlib.figure.Figure at 0x7f252c6f4690>"
      ]
     },
     "metadata": {},
     "output_type": "display_data"
    }
   ],
   "source": [
    "'''\n",
    "Single LSTM\n",
    "Trying to find a training epoch to stop training.\n",
    "'''\n",
    "data11 = np.load('experiments/test2_modelsimple_small-dropout10-shuffle0-data-test2-n100000-l7-egreedy0.30.pickle/stats-runA.npz')\n",
    "\n",
    "vloss = data11['vloss']\n",
    "#scores = data21['scores'][:,0]\n",
    "#initialq = data51['qvals'][:,0]\n",
    "#opts = data61['opts']\n",
    "#qfuncs = data61['qs'][:,0,:,:]\n",
    "\n",
    "six.print_(vloss.shape)\n",
    "figure()\n",
    "x_avg = np.mean(vloss,axis=0)\n",
    "x_serr = np.std(vloss,axis=0) / vloss.shape[0] * 1.98\n",
    "plot(x_avg, color='#0000ff')\n",
    "plot(x_avg + x_serr, color='#ddddff')\n",
    "plot(x_avg - x_serr, color='#ddddff')\n",
    "\n",
    "x_end = np.mean(x_avg[-2:])\n",
    "x_thres = 0.00001\n",
    "six.print_('last {} threshold {}'.format(x_end, x_thres))\n",
    "plot([0,20],[x_end,x_end],color='#ff0000')\n",
    "plot([0,20],[x_thres,x_thres],color='#ff0000')\n",
    "\n",
    "xlim(5, 10)\n",
    "ylim(0.00,0.00002)\n",
    "\n",
    "# looks like epoch 8 is good for 0.00001"
   ]
  },
  {
   "cell_type": "code",
   "execution_count": 5,
   "metadata": {},
   "outputs": [
    {
     "name": "stdout",
     "output_type": "stream",
     "text": [
      "(10, 21)\n",
      "last 1.97803311244e-07 threshold 1e-05\n"
     ]
    },
    {
     "data": {
      "text/plain": [
       "[<matplotlib.lines.Line2D at 0x7f2f4aa3acd0>]"
      ]
     },
     "execution_count": 5,
     "metadata": {},
     "output_type": "execute_result"
    },
    {
     "data": {
      "image/png": "[encoded data removed]",
      "text/plain": [
       "<matplotlib.figure.Figure at 0x7f2f4ab551d0>"
      ]
     },
     "metadata": {},
     "output_type": "display_data"
    }
   ],
   "source": [
    "'''\n",
    "Double GRU.\n",
    "Trying to find a training epoch to stop training.\n",
    "'''\n",
    "data11 = np.load('experiments/test2_modelgru_small-dropout10-shuffle0-data-test2-n100000-l7-egreedy0.30.pickle/stats-runA.npz')\n",
    "\n",
    "vloss = data11['vloss']\n",
    "#scores = data21['scores'][:,0]\n",
    "#initialq = data51['qvals'][:,0]\n",
    "#opts = data61['opts']\n",
    "#qfuncs = data61['qs'][:,0,:,:]\n",
    "\n",
    "six.print_(vloss.shape)\n",
    "figure()\n",
    "x_avg = np.mean(vloss,axis=0)\n",
    "x_serr = np.std(vloss,axis=0) / vloss.shape[0] * 1.98\n",
    "plot(x_avg, color='#0000ff')\n",
    "plot(x_avg + x_serr, color='#ddddff')\n",
    "plot(x_avg - x_serr, color='#ddddff')\n",
    "\n",
    "x_end = np.mean(x_avg[-2:])\n",
    "x_thres = 0.00001\n",
    "six.print_('last {} threshold {}'.format(x_end, x_thres))\n",
    "plot([0,20],[x_end,x_end],color='#ff0000')\n",
    "plot([0,20],[x_thres,x_thres],color='#ff0000')\n",
    "\n",
    "#xlim(5, 10)\n",
    "#ylim(0.00,0.00002)\n",
    "\n",
    "# looks like epoch 6 is good for 0.00001"
   ]
  },
  {
   "cell_type": "code",
   "execution_count": 2,
   "metadata": {},
   "outputs": [
    {
     "name": "stdout",
     "output_type": "stream",
     "text": [
      "vloss shape (50, 10)\n",
      "scores shape (50,)\n",
      "[ 0.          0.90625     0.          1.          0.          0.          0.\n",
      "  0.          0.          0.01041667  0.          0.          0.125       0.\n",
      "  0.03125     0.          0.          0.          0.          0.          0.\n",
      "  0.          0.          0.67708333  0.84375     0.          1.          0.\n",
      "  0.          0.          0.          0.          0.05208333  0.05208333\n",
      "  0.0625      0.          0.          0.85416667  0.          0.          0.\n",
      "  0.29166667  0.9375      0.09375     0.          0.          0.          0.\n",
      "  0.10416667  0.        ]\n"
     ]
    },
    {
     "data": {
      "text/plain": [
       "[<matplotlib.lines.Line2D at 0x7f2f4d22f510>]"
      ]
     },
     "execution_count": 2,
     "metadata": {},
     "output_type": "execute_result"
    },
    {
     "data": {
      "image/png": "[encoded data removed]",
      "text/plain": [
       "<matplotlib.figure.Figure at 0x7f2f4cf6c890>"
      ]
     },
     "metadata": {},
     "output_type": "display_data"
    }
   ],
   "source": [
    "'''\n",
    "Analyzing results of student2 with 4 skills, with training length 7 and testing length 6.\n",
    "Behavior policy is egreedy0.3\n",
    "Default Double LSTM\n",
    "Looking at correlation between training AUC and actual performance\n",
    "'''\n",
    "data11 = np.load('experiments/test2_model_small-dropout10-shuffle0-data-test2-n100000-l7-egreedy0.30.pickle/stats-runB.npz')\n",
    "data21 = np.load('experiments/test2_model_small-dropout10-shuffle0-data-test2-n100000-l7-egreedy0.30.pickle/mcts-rtype2-rollouts3000-trajectories100-real1-runB.npz')\n",
    "\n",
    "vloss = data11['vloss']\n",
    "scores = data21['scores'][:,0]\n",
    "\n",
    "six.print_('vloss shape {}'.format(vloss.shape))\n",
    "#six.print_(vloss)\n",
    "six.print_('scores shape {}'.format(scores.shape))\n",
    "six.print_(scores)\n",
    "\n",
    "xs = np.sum(vloss,axis=1)\n",
    "ys = scores\n",
    "title('Training Loss AUC versus Actual Performance')\n",
    "xlabel('Training Loss AUC')\n",
    "ylabel('Posttest Score')\n",
    "plot(xs,ys,'.')\n",
    "\n",
    "# 4 good models, 2 more kind of good models"
   ]
  },
  {
   "cell_type": "code",
   "execution_count": 3,
   "metadata": {},
   "outputs": [
    {
     "name": "stdout",
     "output_type": "stream",
     "text": [
      "vloss shape (50, 9)\n",
      "scores shape (50,)\n",
      "[ 0.0625      0.          0.          0.          0.          0.89583333\n",
      "  0.          0.          0.          0.84375     0.          0.          0.\n",
      "  0.          0.15625     0.          1.          0.10416667  0.          0.\n",
      "  0.          1.          0.          0.95833333  0.          0.          0.\n",
      "  0.          0.          0.          0.29166667  0.          0.          0.\n",
      "  0.76041667  0.          0.          0.          0.39583333  0.\n",
      "  0.91666667  0.          0.          0.91666667  0.          1.          0.\n",
      "  0.          0.          0.        ]\n"
     ]
    },
    {
     "data": {
      "text/plain": [
       "[<matplotlib.lines.Line2D at 0x7f2f4acf1890>]"
      ]
     },
     "execution_count": 3,
     "metadata": {},
     "output_type": "execute_result"
    },
    {
     "data": {
      "image/png": "[encoded data removed]",
      "text/plain": [
       "<matplotlib.figure.Figure at 0x7f2f8040bcd0>"
      ]
     },
     "metadata": {},
     "output_type": "display_data"
    }
   ],
   "source": [
    "'''\n",
    "Analyzing results of student2 with 4 skills, with training length 7 and testing length 6.\n",
    "Behavior policy is egreedy0.3\n",
    "Single LSTM\n",
    "Looking at correlation between training AUC and actual performance\n",
    "'''\n",
    "data11 = np.load('experiments/test2_modelsimple_small-dropout10-shuffle0-data-test2-n100000-l7-egreedy0.30.pickle/stats-runB.npz')\n",
    "data21 = np.load('experiments/test2_modelsimple_small-dropout10-shuffle0-data-test2-n100000-l7-egreedy0.30.pickle/mcts-rtype2-rollouts3000-trajectories100-real1-runB.npz')\n",
    "\n",
    "vloss = data11['vloss']\n",
    "scores = data21['scores'][:,0]\n",
    "\n",
    "six.print_('vloss shape {}'.format(vloss.shape))\n",
    "#six.print_(vloss)\n",
    "six.print_('scores shape {}'.format(scores.shape))\n",
    "six.print_(scores)\n",
    "\n",
    "xs = np.sum(vloss,axis=1)\n",
    "ys = scores\n",
    "title('Training Loss AUC versus Actual Performance')\n",
    "xlabel('Training Loss AUC')\n",
    "ylabel('Posttest Score')\n",
    "plot(xs,ys,'.')\n",
    "\n",
    "# 6 good models, 2 more kinda good models"
   ]
  },
  {
   "cell_type": "code",
   "execution_count": 4,
   "metadata": {},
   "outputs": [
    {
     "name": "stdout",
     "output_type": "stream",
     "text": [
      "vloss shape (50, 7)\n",
      "scores shape (50,)\n",
      "[ 0.          0.          0.          0.55208333  0.          1.\n",
      "  0.39583333  0.67708333  0.36458333  0.          0.6875      0.59375     0.\n",
      "  0.76041667  0.73958333  0.92708333  1.          0.15625     0.02083333\n",
      "  0.30208333  0.          0.04166667  0.          0.          0.          0.\n",
      "  0.64583333  0.          0.          0.01041667  0.          0.          0.5\n",
      "  0.02083333  0.          0.          0.91666667  0.22916667  0.01041667\n",
      "  0.63541667  0.          0.          0.          0.01041667  0.          0.\n",
      "  0.          0.          0.          0.        ]\n"
     ]
    },
    {
     "data": {
      "text/plain": [
       "[<matplotlib.lines.Line2D at 0x7f2f4acbcb10>]"
      ]
     },
     "execution_count": 4,
     "metadata": {},
     "output_type": "execute_result"
    },
    {
     "data": {
      "image/png": "[encoded data removed]",
      "text/plain": [
       "<matplotlib.figure.Figure at 0x7f2f4d22f410>"
      ]
     },
     "metadata": {},
     "output_type": "display_data"
    }
   ],
   "source": [
    "'''\n",
    "Analyzing results of student2 with 4 skills, with training length 7 and testing length 6.\n",
    "Behavior policy is egreedy0.3\n",
    "Double GRU\n",
    "Looking at correlation between training AUC and actual performance\n",
    "'''\n",
    "data11 = np.load('experiments/test2_modelgru_small-dropout10-shuffle0-data-test2-n100000-l7-egreedy0.30.pickle/stats-runB.npz')\n",
    "data21 = np.load('experiments/test2_modelgru_small-dropout10-shuffle0-data-test2-n100000-l7-egreedy0.30.pickle/mcts-rtype2-rollouts3000-trajectories100-real1-runB.npz')\n",
    "\n",
    "vloss = data11['vloss']\n",
    "scores = data21['scores'][:,0]\n",
    "\n",
    "six.print_('vloss shape {}'.format(vloss.shape))\n",
    "#six.print_(vloss)\n",
    "six.print_('scores shape {}'.format(scores.shape))\n",
    "six.print_(scores)\n",
    "\n",
    "xs = np.sum(vloss,axis=1)\n",
    "ys = scores\n",
    "title('Training Loss AUC versus Actual Performance')\n",
    "xlabel('Training Loss AUC')\n",
    "ylabel('Posttest Score')\n",
    "plot(xs,ys,'.')\n",
    "\n",
    "# 4 good models"
   ]
  },
  {
   "cell_type": "markdown",
   "metadata": {
    "collapsed": true
   },
   "source": [
    "# Trying out mid model (10 hidden units) with egreedy 0.30"
   ]
  },
  {
   "cell_type": "code",
   "execution_count": 7,
   "metadata": {},
   "outputs": [
    {
     "name": "stdout",
     "output_type": "stream",
     "text": [
      "(10, 21)\n",
      "last 0.00145032981119 threshold 0.00146\n"
     ]
    },
    {
     "data": {
      "text/plain": [
       "(0.0014, 0.0015)"
      ]
     },
     "execution_count": 7,
     "metadata": {},
     "output_type": "execute_result"
    },
    {
     "data": {
      "image/png": "[encoded data removed]",
      "text/plain": [
       "<matplotlib.figure.Figure at 0x7fc7078df350>"
      ]
     },
     "metadata": {},
     "output_type": "display_data"
    }
   ],
   "source": [
    "'''\n",
    "Default Double LSTM\n",
    "Trying to find a training epoch to stop training.\n",
    "'''\n",
    "data11 = np.load('experiments/test2_model_mid-dropout10-shuffle0-data-test2-n100000-l7-egreedy0.30.pickle/stats-runA.npz')\n",
    "\n",
    "vloss = data11['vloss']\n",
    "\n",
    "six.print_(vloss.shape)\n",
    "figure()\n",
    "x_avg = np.mean(vloss,axis=0)\n",
    "x_serr = np.std(vloss,axis=0) / vloss.shape[0] * 1.98\n",
    "plot(x_avg, color='#0000ff')\n",
    "plot(x_avg + x_serr, color='#ddddff')\n",
    "plot(x_avg - x_serr, color='#ddddff')\n",
    "\n",
    "x_end = np.mean(x_avg[-2:])\n",
    "x_thres = 0.00146\n",
    "six.print_('last {} threshold {}'.format(x_end, x_thres))\n",
    "plot([0,20],[x_end,x_end],color='#ff0000')\n",
    "plot([0,20],[x_thres,x_thres],color='#ff0000')\n",
    "\n",
    "xlim(5, 10)\n",
    "ylim(0.0014,0.0015)\n",
    "\n",
    "# looks like epoch 6 is good for 0.00001"
   ]
  },
  {
   "cell_type": "code",
   "execution_count": 10,
   "metadata": {},
   "outputs": [
    {
     "name": "stdout",
     "output_type": "stream",
     "text": [
      "(10, 21)\n",
      "last 1.47997240061e-09 threshold 1e-05\n"
     ]
    },
    {
     "data": {
      "text/plain": [
       "(0.0, 0.0001)"
      ]
     },
     "execution_count": 10,
     "metadata": {},
     "output_type": "execute_result"
    },
    {
     "data": {
      "image/png": "[encoded data removed]",
      "text/plain": [
       "<matplotlib.figure.Figure at 0x7fc7077e2ad0>"
      ]
     },
     "metadata": {},
     "output_type": "display_data"
    }
   ],
   "source": [
    "'''\n",
    "Single LSTM\n",
    "Trying to find a training epoch to stop training.\n",
    "'''\n",
    "data11 = np.load('experiments/test2_modelsimple_mid-dropout10-shuffle0-data-test2-n100000-l7-egreedy0.30.pickle/stats-runA.npz')\n",
    "\n",
    "vloss = data11['vloss']\n",
    "\n",
    "six.print_(vloss.shape)\n",
    "figure()\n",
    "x_avg = np.mean(vloss,axis=0)\n",
    "x_serr = np.std(vloss,axis=0) / vloss.shape[0] * 1.98\n",
    "plot(x_avg, color='#0000ff')\n",
    "plot(x_avg + x_serr, color='#ddddff')\n",
    "plot(x_avg - x_serr, color='#ddddff')\n",
    "\n",
    "x_end = np.mean(x_avg[-2:])\n",
    "x_thres = 0.00001\n",
    "six.print_('last {} threshold {}'.format(x_end, x_thres))\n",
    "plot([0,20],[x_end,x_end],color='#ff0000')\n",
    "plot([0,20],[x_thres,x_thres],color='#ff0000')\n",
    "\n",
    "xlim(0, 6)\n",
    "ylim(0.00,0.0001)\n",
    "\n",
    "# looks like epoch 5 is good for 0.00001"
   ]
  },
  {
   "cell_type": "code",
   "execution_count": 11,
   "metadata": {},
   "outputs": [
    {
     "name": "stdout",
     "output_type": "stream",
     "text": [
      "(10, 21)\n",
      "last 1.16617886051e-09 threshold 1e-05\n"
     ]
    },
    {
     "data": {
      "text/plain": [
       "(0.0, 0.0001)"
      ]
     },
     "execution_count": 11,
     "metadata": {},
     "output_type": "execute_result"
    },
    {
     "data": {
      "image/png": "[encoded data removed]",
      "text/plain": [
       "<matplotlib.figure.Figure at 0x7fc73c182bd0>"
      ]
     },
     "metadata": {},
     "output_type": "display_data"
    }
   ],
   "source": [
    "'''\n",
    "Double GRU\n",
    "Trying to find a training epoch to stop training.\n",
    "'''\n",
    "data11 = np.load('experiments/test2_modelgru_mid-dropout10-shuffle0-data-test2-n100000-l7-egreedy0.30.pickle/stats-runA.npz')\n",
    "\n",
    "vloss = data11['vloss']\n",
    "\n",
    "six.print_(vloss.shape)\n",
    "figure()\n",
    "x_avg = np.mean(vloss,axis=0)\n",
    "x_serr = np.std(vloss,axis=0) / vloss.shape[0] * 1.98\n",
    "plot(x_avg, color='#0000ff')\n",
    "plot(x_avg + x_serr, color='#ddddff')\n",
    "plot(x_avg - x_serr, color='#ddddff')\n",
    "\n",
    "x_end = np.mean(x_avg[-2:])\n",
    "x_thres = 0.00001\n",
    "six.print_('last {} threshold {}'.format(x_end, x_thres))\n",
    "plot([0,20],[x_end,x_end],color='#ff0000')\n",
    "plot([0,20],[x_thres,x_thres],color='#ff0000')\n",
    "\n",
    "xlim(0, 6)\n",
    "ylim(0.00,0.0001)\n",
    "\n",
    "# looks like epoch 4 is good for 0.00001"
   ]
  },
  {
   "cell_type": "code",
   "execution_count": null,
   "metadata": {
    "collapsed": true
   },
   "outputs": [],
   "source": []
  }
 ],
 "metadata": {
  "kernelspec": {
   "display_name": "Python 2",
   "language": "python",
   "name": "python2"
  },
  "language_info": {
   "codemirror_mode": {
    "name": "ipython",
    "version": 2
   },
   "file_extension": ".py",
   "mimetype": "text/x-python",
   "name": "python",
   "nbconvert_exporter": "python",
   "pygments_lexer": "ipython2",
   "version": "2.7.6"
  }
 },
 "nbformat": 4,
 "nbformat_minor": 2
}
